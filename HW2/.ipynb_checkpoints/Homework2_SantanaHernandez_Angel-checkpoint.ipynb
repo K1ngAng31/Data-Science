{
 "cells": [
  {
   "cell_type": "markdown",
   "metadata": {},
   "source": [
    "<a id='top'></a>\n",
    "\n",
    "# Homework 2: Introduction to Probability and Simulation\n",
    "***\n",
    "\n",
    "**Name**: Angel Santana\n",
    "\n",
    "***\n",
    "\n",
    "This assignment is due on Canvas by **MIDNIGHT on Friday September 27**. Your solutions to theoretical questions should be done in Markdown directly below the associated question.  Your solutions to computational questions should include any specified Python code and results as well as written commentary on your conclusions.  Remember that you are encouraged to discuss the problems with your classmates, but **you must write all code and solutions on your own**.\n",
    "\n",
    "**NOTES**: \n",
    "\n",
    "- Any relevant data sets should be available under the **Data** module on Canvas. To make life easier on the graders if they need to run your code, do not change the relative path names here. Instead, move the files around on your computer.\n",
    "- If you're not familiar with typesetting math directly into Markdown then by all means, do your work on paper first and then typeset it later.  Remember that there is a [reference guide](https://math.meta.stackexchange.com/questions/5020/mathjax-basic-tutorial-and-quick-reference) linked on Canvas on writing math in Markdown. **All** of your written commentary, justifications and mathematical work should be in Markdown.\n",
    "- Because you can technically evaluate notebook cells is a non-linear order, it's a good idea to do Kernel $\\rightarrow$ Restart & Run All as a check before submitting your solutions.  That way if we need to run your code you will know that it will work as expected. \n",
    "- It is **bad form** to make your reader interpret numerical output from your code.  If a question asks you to compute some value from the data you should show your code output **AND** write a summary of the results in Markdown directly below your code. \n",
    "- This probably goes without saying, but... For any question that asks you to calculate something, you **must show all work and justify your answers to receive credit**. Sparse or nonexistent work will receive sparse or nonexistent credit. \n",
    "\n",
    "---\n",
    "**Shortcuts:**  [Problem 1](#p1) | [Problem 2](#p2) | [Problem 3](#p3) | [Problem 4](#p4) | [Problem 5](#p5) \n",
    "\n",
    "---"
   ]
  },
  {
   "cell_type": "code",
   "execution_count": 6,
   "metadata": {},
   "outputs": [],
   "source": [
    "import pandas as pd\n",
    "import numpy as np\n",
    "import matplotlib.pylab as plt\n",
    "%matplotlib inline"
   ]
  },
  {
   "cell_type": "markdown",
   "metadata": {},
   "source": [
    "***\n",
    "<a/ id='p1'></a>\n",
    "[Back to top](#top)\n",
    "\n",
    "### [20 points] Problem 1\n",
    "\n",
    "To play a game, you have a bag containing 30 fair six-sided dice, with faces `{1,2,3,4,5,6}`.  <img style=\"float: right; width: 200px; padding: 3mm;\" src=\"https://images-na.ssl-images-amazon.com/images/I/619NZnvxJaL._SX425_.jpg\" alt=\"Drawing\"/>\n",
    "This bag also contains 17 fair eight-sided dice (faces `{1,2,3,4,5,6,7,8}`) and 3 fair twenty-sided dice (faces `{1,2,3,4,...,19,20}`).  Call these 3 classes of die \"Six\", \"Eight\" and \"Twenty\" (or S, E, and T, for short). In order to be sure that you are not distinguishing dice by their feel, you are required to wear crab claw gloves. After donning your gloves, you grab one die at random from the bag. \n",
    "\n",
    "Work the following problems by hand (or claw) unless otherwise stated (but don't be afraid to simulate to check your result!). "
   ]
  },
  {
   "cell_type": "markdown",
   "metadata": {},
   "source": [
    "**Part A**: You roll your die one time.  What is the probability of the event $R_7$, that you roll a 7?  Include at least 4 decimal places in your answer."
   ]
  },
  {
   "cell_type": "markdown",
   "metadata": {},
   "source": [
    "Probability of Rolling a 7: $\\frac{\\frac{1}{8}*17 + \\frac{1}{20}*3}{50} = 0.0455$"
   ]
  },
  {
   "cell_type": "markdown",
   "metadata": {},
   "source": [
    "**Part B**: Suppose you roll a 7.  What is the probability that the die you chose from the bag is an Eight-sided die? "
   ]
  },
  {
   "cell_type": "markdown",
   "metadata": {},
   "source": [
    "$P(E|R_7)$ = $\\frac{P(E\\cap R_7)}{P(R_7)}$ = $\\frac{\\frac{1}{8}*\\frac{17}{50}}{\\frac{17}{50}*\\frac{1}{8}+\\frac{3}{50}*\\frac{1}{20}}$ = .9341 = 93.42%"
   ]
  },
  {
   "cell_type": "markdown",
   "metadata": {},
   "source": [
    "**Part C:**  Are the events $R_7$ and $E$ independent?  Justify your answer **using math**."
   ]
  },
  {
   "cell_type": "markdown",
   "metadata": {},
   "source": [
    "These events are dependent because $P(R_7|E)$ = $\\frac{1}{8}$ = .125 and $P(R_7)$ = .0532 (given in Part. Since their joint probability does not equal the probability of their products they are not independent. "
   ]
  },
  {
   "cell_type": "markdown",
   "metadata": {},
   "source": [
    "**Part D:**  Suppose you roll your die $n$ times and record each outcome.  Obviously, if you roll 7 or 8 you know you did *not* pick a Six-sided die, and if you roll a 9 or higher, you must have picked a Twenty-sided die.\n",
    "\n",
    "But, if you roll $n$ times in a row and get only 1, 2, 3, 4, 5, or 6 you would have a stronger belief that you in fact grabbed one of the Six-sided dice.  Let $L_n$ be the event that you roll $n$ rolls of 1, 2, 3, 4, 5, or 6 in a row.  For example, one outcome in $L_3$ is the sequence 2, 3, 1.\n",
    "\n",
    "Given that you roll a single value of 1, 2, 3, 4, 5, or 6, what is the probability that you have grabbed a Six-sided die?  That is, calculate **by hand** $P(S \\mid L_1)$."
   ]
  },
  {
   "cell_type": "markdown",
   "metadata": {},
   "source": [
    "Probability that we grabbed a 6 sided die is: P(S|$L_1$)=$\\frac{P(s\\cap L_1)}{P(L_1)}$=$\\frac{P(L_1|S)P(S)}{P(L_1)}$ = $\\frac{\\frac{30}{50}}{\\frac{30}{50}+\\frac{17*6}{50*8}+\\frac{3*6}{50*20}}$ = .6873 = 68.73%\n"
   ]
  },
  {
   "cell_type": "markdown",
   "metadata": {},
   "source": [
    "**Part E**:  \n",
    "\n",
    "First, work out **by hand** a formula for the probability in general that you are rolling a Six-sided die, given that you have rolled $n$ values in a row that are 1, 2, 3, 4, 5 or 6 (that is, $L_n$).  So you want a formula for $P(S \\mid L_n)$ in terms of $n$.\n",
    "\n",
    "Then, define a function `prob_six` to calculate $P(S \\mid L_n)$.  This function should only take one positive integer argument, $n$.\n",
    "\n",
    "Verify that your function is performing as expected by checking your answer to **Part D**."
   ]
  },
  {
   "cell_type": "markdown",
   "metadata": {},
   "source": [
    "P(S|$L_n$)=$\\frac{P(L_n|S)P(S)}{P(L_n)}$ = $\\frac{\\frac{30}{50}}{\\frac{30}{50}+(\\frac{17*6}{50*8})^n+(\\frac{3*6}{50*20})^n}$"
   ]
  },
  {
   "cell_type": "code",
   "execution_count": 23,
   "metadata": {},
   "outputs": [
    {
     "name": "stdout",
     "output_type": "stream",
     "text": [
      "0.6872852233676976\n"
     ]
    }
   ],
   "source": [
    "def prob_six(n): #Your code goes here.\n",
    "    prob6 = (.6)/((.6) + ((6/8)**n)*(17/50)+((6/20)**n)*(3/50))\n",
    "    return prob6\n",
    "print(prob_six(1))"
   ]
  },
  {
   "cell_type": "markdown",
   "metadata": {},
   "source": [
    "**Part F:**  What is the smallest value of $n$ successive rolls of 1, 2, 3, 4, 5 or 6 that would make you believe that there's a better-than-95% chance that the die you grabbed is Six-sided?  Plugging larger and larger values for $n$ into your `prob_six` function is a very reasonable way to check this."
   ]
  },
  {
   "cell_type": "code",
   "execution_count": 24,
   "metadata": {},
   "outputs": [
    {
     "name": "stdout",
     "output_type": "stream",
     "text": [
      "Probability: 0.6872852233676976\n",
      "Probability: 0.7531538316701186\n",
      "Probability: 0.8053069729517521\n",
      "Probability: 0.8473808781090273\n",
      "Probability: 0.8812780492557869\n",
      "Probability: 0.9083251148952147\n",
      "Probability: 0.929659421687253\n",
      "Probability: 0.9463090613586363\n",
      "Probability: 0.9591866491403235\n"
     ]
    }
   ],
   "source": [
    "#Code to determine smallest value of n\n",
    "for i in range(1, 10):\n",
    "    print(\"Probability:\", prob_six(i))"
   ]
  },
  {
   "cell_type": "markdown",
   "metadata": {},
   "source": [
    "Smallest n value will give us a 95% chance that we grabbes a six sided die."
   ]
  },
  {
   "cell_type": "markdown",
   "metadata": {},
   "source": [
    "***\n",
    "<a id='p2'></a>\n",
    "[Back to top](#top)\n",
    "\n",
    "\n",
    "### [20 points] Problem 2\n",
    "\n",
    "Oscar and Stella are two octopuses who are very excited to have both secured professorships in the Computer Science department at CU. They work hard, but they also like to blow off a little steam after work. When they leave work from the CU Engineering Center ($E~$), they each head for one of five other locations: the Gym to get strong ($G~$), the Library to get learned ($L~$), the Boulder Reservoir to have a nice swim ($R$), the Hill to have a sandwich ($H~$), or to Brewing Market to have a nice Coffee ($C~$).  \n",
    "\n",
    "Here are some rules governing their movements throughout the fair city of Boulder:\n",
    "* When Oscar and/or Stella is leaving one location, they randomly select one of the available adjacent locations, with equal probability.\n",
    "* This includes back-tracking. Eg. Stella could go from the Engineering Center to the Library, then directly back to the Engineering Center. \n",
    "* Assume that all moves require the same amount of time.\n",
    "* They are also not allowed to stay put; they always must move to some *other* adjacent location.\n",
    "* Oscar and Stella, being the think-for-yourselfers that they are, also act **independently** of one another. That is, the probability that Oscar goes from one place to another is independent of the probability of Stella's movements.\n",
    "\n",
    "<img src=\"http://www.cs.colorado.edu/~tonyewong/home/resources/chris_and_dan_statespace.png\" style=\"width: 300px;\"/>"
   ]
  },
  {
   "cell_type": "markdown",
   "metadata": {},
   "source": [
    "**Part A**: Oscar is exhausted from a long day of researching whether [P=NP](https://en.wikipedia.org/wiki/P_versus_NP_problem) so, naturally, he wants to go to the brewing market to grab a coffee. That being said, Osacar has made a break through in his research and wants to follow up on it at the library, but he needs to run some errands too. Assume Oscar can do his errands at any location on the map. \n",
    "\n",
    "Compute by hand the probability that Oscar goes to the Brewing Market ($C$) in his first stop, makes a second stop at any location, then goes to the Library ($L$) third. "
   ]
  },
  {
   "cell_type": "markdown",
   "metadata": {},
   "source": [
    "$P(C_1)$ = $\\frac{1}{4}$; there are only 4 other places that Oscar can travel to if he chooses to go to $C$\n",
    "\n",
    "\n",
    "$P(H_2)=P(H_2|C_1)P(C_1) = \\frac{1}{3} * \\frac{1}{4} = \\frac{1}{12}$\n",
    "\n",
    "$P(E_2) = P(E_2 | C_1)P(C_1) = \\frac{1}{3}*\\frac{1}{4} = \\frac{1}{12}$\n",
    "\n",
    "$P(L_3) = P(L_3|H_2)P(H_2) + P(L_3|E_2)P(E_2)$\n",
    "\n",
    "$P(L_3)=\\frac{1}{3}*\\frac{1}{12} + \\frac{1}{4}*\\frac{1}{12} = 0.04861$"
   ]
  },
  {
   "cell_type": "markdown",
   "metadata": {},
   "source": [
    "**Part B**: Stella is a competitive body-building octopus professor. This is quite the feat given her lack of bones!  Compute (by hand) the probability that Stella ends up at the Gym _either_ as her first _or_ second location visited after leaving the Engineering Center ($E$). (Again, assume that Stella wanders the streets of Boulder randomly using the same rules described above.)"
   ]
  },
  {
   "cell_type": "markdown",
   "metadata": {},
   "source": [
    "$P(G_1) = \\frac{1}{4} $ when leaving E, there will be 4 adjacent paths and only one of them will go to E.\n",
    "\n",
    "$P(G_2) = P(G_2|R_1)*P(R_1) + P(G_2|L_1)P(L_1) = \\frac{1}{2}*\\frac{1}{4} + \\frac{1}{4}*\\frac{1}{4} = \\frac{3}{16}$\n",
    "\n",
    "Going to G on the $1^{st}$ or $2^{nd}$ stop = Probability = $\\frac{1}{4} + \\frac{3}{16} = \\frac{7}{16}$ = .4375 = 43.75%"
   ]
  },
  {
   "cell_type": "markdown",
   "metadata": {},
   "source": [
    "**Part C**: Suppose that Stella works late at the Engineering Center, while Oscar goes to the Gym.  Later, they both leave and wander around, randomly and independently of one another, as described above.\n",
    "1. What is the probability that they run into each other in the same location on the first location visited?  \n",
    "2. Given their two initial locations, what is the probability that they meet at the Hill after 2 moves?"
   ]
  },
  {
   "cell_type": "markdown",
   "metadata": {},
   "source": [
    "1. There are only 2 locations where Stella and Oscar ran into eachother: R or L. The probobility of both of them running into eachother on the first stop, will be either both of them going to L or R.  \n",
    "\n",
    "$P(R_S) = \\frac{1}{4}$ Only 4 adjacent edges from G, only 1 heads to R\n",
    "\n",
    "$P(L_S) = \\frac{1}{4}$ Only 4 adjacent edges from G, only 1 heads to L\n",
    "\n",
    "$P(R_O) = \\frac{1}{4}$ Only 4 adjacent edges from E, only 1 heads to R\n",
    "\n",
    "$P(L_O) = \\frac{1}{4}$ Only 4 adjacent edges from E, only one heads to L\n",
    "\n",
    "Probability of Stella and Oscar runnign into each other on the $1^{st}$ stop:\n",
    "\n",
    "$P(R_S)*P(R_O) + P(L_S)*P(L_O) = \\frac{1}{16}+\\frac{1}{16} = \\frac{1}{8}$ = .125\n",
    "\n",
    "--------------------------------------\n",
    "2. \n",
    "\n",
    "$P(H_2) = P(H_2|L_1)*P(H_2|L_1) +  P(H_2|C_1)*P(H_2|L_1) +  P(H_2|G_1)*P(H_2|L_1)$\n",
    "\n",
    "$P(H_2|L_1) = \\frac{1}{4}*\\frac{1}{4}$\n",
    "\n",
    "$P(H_2|C_1) = \\frac{1}{3}*\\frac{1}{4}$\n",
    "\n",
    "$P(H_2|G_1) = \\frac{1}{4}*\\frac{1}{4}$\n",
    "\n",
    "$P(H_2) = (\\frac{1}{4})^4 + \\frac{1}{3}*(\\frac{1}{4})^3 + (\\frac{1}{4})^4= .013$\n",
    "\n",
    "\n"
   ]
  },
  {
   "cell_type": "markdown",
   "metadata": {},
   "source": [
    "**Part D**: Write a simulation to confirm that your by-hand calculations in **Part A**, **Part B**, and **Part C** are correct. Make sure you run your simulations for enough trials that your estimates are reasonably close to your analytic results. In addition to showing your code, you should explain in Markdown (not just in code comments) what your code is doing and why it is a reasonable approximation of the probabilities in **Part A**, **Part B**, and **Part C**.  "
   ]
  },
  {
   "cell_type": "code",
   "execution_count": 25,
   "metadata": {},
   "outputs": [
    {
     "name": "stdout",
     "output_type": "stream",
     "text": [
      "0.04886\n"
     ]
    }
   ],
   "source": [
    "# Part A\n",
    "\n",
    "#create array for locations\n",
    "Eng = 0\n",
    "Res = 1\n",
    "Gym = 2\n",
    "Libr = 3\n",
    "Coff = 4\n",
    "Hill = 5\n",
    "EngX = [Res, Gym, Libr, Coff]\n",
    "ResX = [Gym, Eng]\n",
    "GymX = [Hill, Libr, Eng, Res]\n",
    "LibrX = [Gym, Eng, Coff, Hill]\n",
    "CoffX = [Hill, Libr, Eng]\n",
    "HillX = [Gym, Libr, Coff]\n",
    "#randomize location travelled too\n",
    "def locationRandom(location):\n",
    "    return np.random.choice(location)\n",
    "cnt = 0\n",
    "for x in range(0, 100000):\n",
    "    y = locationRandom(EngX)\n",
    "    if y == Coff: #node traveled is Coff\n",
    "        y = locationRandom(CoffX)\n",
    "        if y == Hill: #node traveled to is Hill\n",
    "            y = locationRandom(HillX)\n",
    "            if y == Libr: #last stop is Libr\n",
    "                cnt += 1 #increment\n",
    "        if y == Eng: #node travelled to is Eng\n",
    "            y = locationRandom(EngX)\n",
    "            if y == Libr: #lasy node traveled to is Eng\n",
    "                cnt += 1#increment\n",
    "\n",
    "print(cnt/100000)\n",
    "                "
   ]
  },
  {
   "cell_type": "markdown",
   "metadata": {},
   "source": [
    "Started off my initializing the values of the locations on the graph, then made an array that stores the values of locations that can be traveled too starting from location given. Then we do a simulation that runs 100 thousand times where we can see that Oscar will randomly travel somewhere from E. So from the results of these simulations we can see that the results from Part A came eally close."
   ]
  },
  {
   "cell_type": "code",
   "execution_count": 26,
   "metadata": {},
   "outputs": [
    {
     "name": "stdout",
     "output_type": "stream",
     "text": [
      "0.43855\n"
     ]
    }
   ],
   "source": [
    "# Part B\n",
    "cnt = 0\n",
    "\n",
    "for i in range(0, 100000):\n",
    "    y = locationRandom(EngX)\n",
    "    if y == Gym:#counter will be incremented if Stell goes to the gym\n",
    "        cnt += 1 #increment\n",
    "    if y == Libr:#increment if she goes to the Libr or Gym\n",
    "        y = locationRandom(LibrX)\n",
    "        if y == Gym:\n",
    "            cnt += 1\n",
    "    if y == Res:\n",
    "        y = locationRandom(ResX)\n",
    "        if y == Gym:\n",
    "            cnt += 1\n",
    "\n",
    "print(cnt/100000)"
   ]
  },
  {
   "cell_type": "markdown",
   "metadata": {},
   "source": [
    "Here we select at random a location to travel to from Engineering. Every time we get to travel to the Gym we increment the counter we created. We did this because Stella if the Gym was the second stop for Stella, then Library and Resvoir could be her second stops, so we would also increment those events. And after those simulations,we can see that in part B we came also very extremely close.  "
   ]
  },
  {
   "cell_type": "code",
   "execution_count": 27,
   "metadata": {},
   "outputs": [
    {
     "name": "stdout",
     "output_type": "stream",
     "text": [
      "Part 1 Probabiilty: \n",
      "0.12478\n",
      "Part 2 Probabiilty: \n",
      "0.01287\n"
     ]
    }
   ],
   "source": [
    "# Part C\n",
    "cnt = 0\n",
    "#Part1\n",
    "for x in range(0, 100000):\n",
    "    Osc = locationRandom(GymX)\n",
    "    Stell = locationRandom(EngX)\n",
    "    if Osc == Stell:\n",
    "        cnt += 1\n",
    "        \n",
    "print(\"Part 1 Probabiilty: \")\n",
    "print(cnt/100000)\n",
    "\n",
    "cnt2 = 0\n",
    "\n",
    "def randomMove(location):\n",
    "    if location == Res:\n",
    "        y = locationRandom(ResX)\n",
    "        return y\n",
    "    if location == Eng:\n",
    "        y = locationRandom(EngX)\n",
    "        return y\n",
    "    if location == Libr:\n",
    "        y = locationRandom(LibrX)\n",
    "        return y\n",
    "    if location == Gym:\n",
    "        y = locationRandom(GymX)\n",
    "        return y\n",
    "    if location == Coff:\n",
    "        y = locationRandom(CoffX)\n",
    "        return y\n",
    "    if location == Hill:\n",
    "        y = locationRandom(HillX)\n",
    "        return y\n",
    "    \n",
    " #Part2   \n",
    "for z in range(0, 100000):\n",
    "    Osc = locationRandom(GymX)\n",
    "    Stell = locationRandom(EngX)\n",
    "    Osc = randomMove(Osc)\n",
    "    Stell = randomMove(Stell)\n",
    "    if Osc == Hill and Stell == Hill:\n",
    "        cnt2 +=1\n",
    "        \n",
    "print(\"Part 2 Probabiilty: \")\n",
    "print(cnt2/100000)\n",
    "\n"
   ]
  },
  {
   "cell_type": "markdown",
   "metadata": {},
   "source": [
    "**Part 1 of Part C**\n",
    "I decided to randomize Oscar's and Stella's next travel location after they left the Engineering Center and the Gym. I then would increment the counter created if both of them ended up at the same spot. After runnning the simulations, the results were very similar to the my final results in Part C. Therefore the the solution has been verified.\n",
    "**Part 2 of Part C**\n",
    "Again, I decided to randomize Oscar's and Stella's next travel location after they left the Engineering Center and the Gym. Then made a function that would take a location as an argument for either Oscar or Stella, and given there current location, the function will randomly return a possibility where they could have traveled to next. Looking at Part C, the results were very similar. Therefore the solution has been verified."
   ]
  },
  {
   "cell_type": "markdown",
   "metadata": {},
   "source": [
    "***\n",
    "<a/ id='p3'></a>\n",
    "[Back to top](#top)\n",
    "\n",
    "### [20 points] Problem 3  \n",
    "\n",
    "As part of their Computer Science Jedi training, Zach and Rachel are having a lightsaber duel. The rules of the lightsaber duel are as follows:\n",
    "* The duel is composed of a number of rounds.\n",
    "* Each round consists of Zach practicing his sweetest Jedi moves and trying to strike Rachel, then Rachel practicing *her* best moves and trying to strike Zach.\n",
    "* If Zach manages to strike Rachel, then Zach is awarded a point, and similarly if Rachel manages to strike Zach, then Rachel is awarded a point.\n",
    "* If a round ends in a tie, then Zach and Rachel proceed to another round. If a round ends with one Jedi scoring a point but the other one does not, then the Jedi who scored a point wins the duel.\n",
    "\n",
    "Let $Z$ be the event that \"Zach wins the duel\", $E$ be the event that \"the duel ends after the first round of lightsaber strikes\", and $C$ be the event that \"the duel continues after the first round of lightsaber strikes\".  Suppose that the result of one lightsaber strike is independent of the other strikes, Zach successfully lands his lightsaber strikes with probability $p$, and Rachel lands her strikes with probability $q$.\n",
    "\n",
    "**Part A**: The duel will continue until Zach or Rachel wins.  What is the sample space $\\Omega$ for this \"experiment\"?  Represent the outcomes of individual lightsaber strikes by $H$ for a hit and $M$ for a miss, and assume that Zach has the first strike in each round. At the very least, your answer should include all of the events in $\\Omega$ that include one or two rounds."
   ]
  },
  {
   "cell_type": "markdown",
   "metadata": {},
   "source": [
    "$\\Omega$ = {HH, HM, MH, MM}"
   ]
  },
  {
   "cell_type": "markdown",
   "metadata": {},
   "source": [
    "**Part B**: Determine $P(Z \\mid E)$ in terms of $p$ and $q$."
   ]
  },
  {
   "cell_type": "markdown",
   "metadata": {},
   "source": [
    "$P(Z \\mid E)$ = $\\frac{P(Z \\cap E)}{P(E)}$ = $p(1-q)$ and $P(E)$ =  $p(1-q)$ +  $q(1-p)$, therefore: $P(Z \\mid E)$ = $\\frac{p(1-q)}{p(1-q)+ q(1-p)}$ "
   ]
  },
  {
   "cell_type": "markdown",
   "metadata": {},
   "source": [
    "**Part C**: Explain why events $C$ and $Z$ are independent. "
   ]
  },
  {
   "cell_type": "markdown",
   "metadata": {},
   "source": [
    "They are independent because if Z wins, it would not depend on the round. Each round will start as a tie. It can happen at any time durring the duel and it will not effect Z wining. "
   ]
  },
  {
   "cell_type": "markdown",
   "metadata": {},
   "source": [
    "**Part D**: Use the Law of Total Probability to show that $P(Z) = p(1-q) + (2pq - p - q +1) ~P(Z \\mid C)$. "
   ]
  },
  {
   "cell_type": "markdown",
   "metadata": {},
   "source": [
    "P(Z) = P(Z | E)P(E) + P(Z | C)P(C)\n",
    "\n",
    "=$\\frac{(p(1-q)}{(-2pq + p + q))*(p(1-q) + q(1-p)) + (P(Z|C)*pq + (1-p)(1-q))}$\n",
    "\n",
    "=$\\frac{(p(1-q}{(-2pq + p + q))*(-2pq + p + q) + (P(Z|C)*pq + (1-p)(1-q)}$\n",
    "\n",
    "= p(1-q) + P(Z | C)*(2pq - p - q + 1)"
   ]
  },
  {
   "cell_type": "markdown",
   "metadata": {},
   "source": [
    "**Part E**: Use the fact from **Part B** that $P(Z \\mid C) = P(Z)$ to determine $P(Z)$ in terms of $p$ and $q$."
   ]
  },
  {
   "cell_type": "markdown",
   "metadata": {},
   "source": [
    "P(Z) = p(1-q) + P(Z | C)(2pq-p-q+1)\n",
    "\n",
    "= p(1-q) + P(Z)(2pq-p-q+1)\n",
    "    \n",
    "P(Z) = p(1-q)/-2pq+p+q"
   ]
  },
  {
   "cell_type": "markdown",
   "metadata": {},
   "source": [
    "**Part F**: Explain why the answers to **Part B** and **Part E** are the same. "
   ]
  },
  {
   "cell_type": "markdown",
   "metadata": {},
   "source": [
    "Zach winning has the same probability as Zach winning in one round. The duel will restart if there is no winner and because of that, there will be no effect. "
   ]
  },
  {
   "cell_type": "markdown",
   "metadata": {},
   "source": [
    "**Part G**: Explain the significance of the solution technique for $P(Z)$ outlined in **Part D** and **Part E**.  Why did we go this route instead of computing $P(Z)$ directly?  Can we always use such techniques?  What assumption did we need to make in order to use this solution approach?"
   ]
  },
  {
   "cell_type": "markdown",
   "metadata": {},
   "source": [
    "The solution of P(Z) shows that Z and C are events that are independent. And since they are independent, we can use P(Z) as a subsitution for P(Z|C). If two events are independent, then we can use this technique."
   ]
  },
  {
   "cell_type": "markdown",
   "metadata": {},
   "source": [
    "***\n",
    "<a id='p4'></a>\n",
    "[Back to top](#top)\n",
    "\n",
    "### [25 points] Problem 4\n",
    "\n",
    "In this problem you will write some code to simulate the game of **Miniopoly** (a very rough approximation of [Monopoly](https://en.wikipedia.org/wiki/Monopoly_(game)).  The game consists of a round board with 40 \"squares\" numbered from $0$ to $39$, where squares $0$ and would-be $40$ are [coincident](https://en.wikipedia.org/wiki/Coincident) and called **GO**.  A player starts on **GO** with \\\\$200 in their pocket.  On each turn the player rolls a pair of dice and then moves a number of spaces equal to the sum of the dice.  Landing on different squares have different results: \n",
    "\n",
    "- Squares 3, 7, 15, 22, 33, and 36 cause you to draw a card.  The cards tell you to collect either \\\\$50 or \\\\$250 or pay the bank \\\\$50.  There is always an equal probability associated with each of these possible cards.\n",
    "\n",
    "\n",
    "- Squares 0, 10, and 20 do not trigger any action \n",
    "\n",
    "\n",
    "- Square 30 is **Go To Jail**, which sends the player directly to **Jail** and ends the turn \n",
    "\n",
    "- If a player starts a turn from **Jail** she rolls two dice: \n",
    "\n",
    "    - If the player rolls doubles (i.e. the dice have equal values) the player moves from Square 10 a number of squares equal to the sum of the dice\n",
    "    \n",
    "    - If the player rolls anything other than doubles she pays the bank \\$20 and remains in **Jail** \n",
    "    \n",
    "\n",
    "- If the player passes or lands on **GO** she collects \\$200. \n",
    "\n",
    "- If the player lands on any other square not mentioned above, she pays the bank \\$25. \n",
    "\n",
    "\n",
    "If at any point the player has \\$0 or less they go bankrupt and the game ends.\n",
    "\n",
    "See [here](http://www.cs.colorado.edu/~tonyewong/home/resources/miniopoly_example.png) for an example of the Miniopoly board layout.\n",
    "\n",
    "<br>\n",
    "\n",
    "**Part A**: Complete the function miniopoly_turn below. The function should simulate one turn of Miniopoly.  It should take as arguments the player's current location on the board as well as the player's current cash reserves, and return the player's new location and cash reserves after the turn has completed. Note that if a player goes bankrupt during the game you should return their cash as 0 instead of a negative value.  "
   ]
  },
  {
   "cell_type": "code",
   "execution_count": 3,
   "metadata": {},
   "outputs": [],
   "source": [
    "def miniopoly_turn(state, cash):\n",
    "    min = 1\n",
    "    max = 6\n",
    "    cds = [50, 250, -50]\n",
    "    dk1 = 0\n",
    "    dk2 = 2\n",
    "    oneD = np.random.randint(min, max)\n",
    "    twoD = np.random.randint(min, max)\n",
    "    totD = oneD + twoD\n",
    "    \n",
    "    if state == 30:#if player starts at jail\n",
    "        if oneD == twoD:\n",
    "            state = 10\n",
    "        else: #player pays 20 dollars if they dont roll doubles\n",
    "            cash = cash - 20\n",
    "            return state, cash\n",
    "        \n",
    "\n",
    "    state = state + totD \n",
    "    if state >= 40: #if player doesnt start at jail. \n",
    "        cash = cash + 200\n",
    "        state = state - 40\n",
    "    \n",
    "    if state == 3 or state == 7 or state == 15 or state == 22 or state == 33 or state == 36:\n",
    "        card = np.random.randint(dk1, dk2)\n",
    "        card = cds[card]\n",
    "        cash = cash + card\n",
    "    \n",
    "    elif state == 30:#if player goes to jail by landing on the jail spot\n",
    "        return state, cash #their turn is over\n",
    "    \n",
    "    elif state == 0 or state == 20 or state == 10:#if player lands on these spots\n",
    "        return state, cash #their turn is done\n",
    "    \n",
    "    elif cash <= 0:\n",
    "        return state, 0\n",
    "    \n",
    "    else:\n",
    "        cash = cash - 25\n",
    "        return state, cash\n",
    "    \n",
    "    return state, cash"
   ]
  },
  {
   "cell_type": "markdown",
   "metadata": {},
   "source": [
    "**Part B**: Use your function from **Part A** to Simulate at least 10000 25-turn games of Miniopoly and make a frequency histogram of the player's cash at the end of the game."
   ]
  },
  {
   "cell_type": "code",
   "execution_count": 7,
   "metadata": {},
   "outputs": [],
   "source": [
    "#Simulation for Part B\n",
    "\n",
    "Moneyarray = []#array for the money\n",
    "jail = 0#jail spot\n",
    "jail2 = 0#jailt spot2\n",
    "bankRD = 0#going bankrupt spot\n",
    "bankRC = 0#going bankrupt spot\n",
    "for i in range(0, 10000):#array to simulate 10000 times\n",
    "    state = 0\n",
    "    cash = 200\n",
    "    jail = 0\n",
    "    for i in range(0, 25):#number of turns\n",
    "        if cash > 0:\n",
    "            state, cash = miniopoly_turn(state, cash)\n",
    "            if state == 30:\n",
    "                jail = jail + 1\n",
    "        else:\n",
    "            cash = 0\n",
    "            bankRC = bankRC + 1\n",
    "            if jail > 1:\n",
    "                bankRD = bankRD + 1\n",
    "            break\n",
    "    if jail > 1:\n",
    "        jail2 = jail2+1\n",
    "    Moneyarray.append(cash)\n",
    "\n"
   ]
  },
  {
   "cell_type": "code",
   "execution_count": 8,
   "metadata": {},
   "outputs": [
    {
     "data": {
      "text/plain": [
       "Text(0, 0.5, 'Frequency')"
      ]
     },
     "execution_count": 8,
     "metadata": {},
     "output_type": "execute_result"
    },
    {
     "data": {
      "image/png": "[encoded data removed]",
      "text/plain": [
       "<Figure size 432x288 with 1 Axes>"
      ]
     },
     "metadata": {
      "needs_background": "light"
     },
     "output_type": "display_data"
    }
   ],
   "source": [
    "#Frequency histogram\n",
    "my_bins = range(0, 2000, 150)\n",
    "plt.hist(Moneyarray, bins=my_bins, edgecolor=\"black\")\n",
    "plt.xlabel('Age')\n",
    "plt.ylabel('Frequency')\n",
    "\n"
   ]
  },
  {
   "cell_type": "markdown",
   "metadata": {},
   "source": [
    "**Part C**: Use your code from **Part A** to estimate the probability that a player goes bankrupt in a game that only lasts 25 turns."
   ]
  },
  {
   "cell_type": "code",
   "execution_count": 31,
   "metadata": {},
   "outputs": [
    {
     "name": "stdout",
     "output_type": "stream",
     "text": [
      "Prob of going bankrupt: 10.45 %\n"
     ]
    }
   ],
   "source": [
    "#Estimation of probability of going bankrupt\n",
    "bankRCProb = bankRC/10000\n",
    "print(\"Prob of going bankrupt:\", bankRCProb*100, \"%\")\n",
    "\n"
   ]
  },
  {
   "cell_type": "markdown",
   "metadata": {},
   "source": [
    "**Part D**: Use your code from **Part A** to estimate the probability that a player goes bankrupt in a 25 turn game  _given_ that they went to **Jail** at least twice.  Is a player more or less likely to go bankrupt if they've been to **Jail** twice?  "
   ]
  },
  {
   "cell_type": "markdown",
   "metadata": {},
   "source": []
  },
  {
   "cell_type": "code",
   "execution_count": 18,
   "metadata": {},
   "outputs": [
    {
     "name": "stdout",
     "output_type": "stream",
     "text": [
      "Prob. of going bankrupt given the player went to jail at least twice is  9.33 %\n"
     ]
    }
   ],
   "source": [
    "#Estimate probability of going bankrupt given jail at least twice.\n",
    "bankRDProb = bankRD/10000\n",
    "print(\"Prob. of going bankrupt given the player went to jail at least twice is \", bankRDProb*100, \"%\")\n"
   ]
  },
  {
   "cell_type": "markdown",
   "metadata": {},
   "source": [
    "**Part E**: Use your code from **Part A** to estimate the probability (either directly or using Bayes' Rule) that a player has gone to jail at least twice, given that the player went bankrupt in the first 25 turns."
   ]
  },
  {
   "cell_type": "code",
   "execution_count": 21,
   "metadata": {},
   "outputs": [
    {
     "name": "stdout",
     "output_type": "stream",
     "text": [
      "Probability is: 38.6 %\n"
     ]
    }
   ],
   "source": [
    "#Estimate probability of going to jail twice, given bankruptcy in first 25 turns.\n",
    "def checkifGone2Jail():\n",
    "    state = 0\n",
    "    cash = 200\n",
    "    jailTemp = 0\n",
    "    \n",
    "    for x in range(25):\n",
    "        state, cash = miniopoly_turn(state, cash)\n",
    "        if(state==30):\n",
    "            jailTemp = jailTemp + 1\n",
    "        if(jailTemp>= 2):\n",
    "            return True\n",
    "        if(cash==0):\n",
    "            return False\n",
    "    return False\n",
    "\n",
    "jailGame = 0\n",
    "for x in range(10000):\n",
    "    if(checkifGone2Jail()):\n",
    "        jailGame = jailGame + 1\n",
    "\n",
    "print(\"Probability is:\",(jailGame/10000)*100, \"%\")\n",
    "        "
   ]
  },
  {
   "cell_type": "markdown",
   "metadata": {},
   "source": []
  },
  {
   "cell_type": "markdown",
   "metadata": {},
   "source": [
    "***\n",
    "<a id='p5'></a>\n",
    "[Back to top](#top)\n",
    "\n",
    "### [15 points] Problem 5\n",
    "\n",
    "To get published in an academic journal, you have to prove something \"interesting.\"  As a result, most academics begin their research by investigating hypotheses that, all else equal, are unlikely to be true.  Suppose each research project begins with a research *claim* that has a 10% chance of being correct.\n",
    "\n",
    "They then perform a study that satisfies the following two properties:\n",
    "\n",
    "    1) The probability that they correctly *find* an important result given that their *claim* is true is 50%\n",
    "    2) The probability that they incorrectly *find* an important result given that their *claim* is false is 5%\n",
    "\n",
    "If they *find* an important result they are published.  What is the probability that their *claim* was true, given that they were published?"
   ]
  },
  {
   "cell_type": "markdown",
   "metadata": {},
   "source": [
    "P: Event they were published\n",
    "\n",
    "N: Event that they aren't published\n",
    "\n",
    "T: Event that claim is true\n",
    "\n",
    "F: Event that claim is false\n",
    "\n",
    "$P(T) = .1$, $P(F) = .9$, $P(P | T) = .5$, $P(P|F) = .05$\n",
    "\n",
    "$P(T | P) = \\frac{P(P|T)*P(T)}{P(P)} = \\frac{P(P|T)*P(T)}{P(P|T)P(T)+P(P|F)P(F)}$\n",
    "\n",
    "$P(T | P) = \\frac{.5*.1}{.5*.1+.05*.9} = 0.5263$"
   ]
  },
  {
   "cell_type": "code",
   "execution_count": null,
   "metadata": {},
   "outputs": [],
   "source": []
  }
 ],
 "metadata": {
  "kernelspec": {
   "display_name": "Python 3",
   "language": "python",
   "name": "python3"
  },
  "language_info": {
   "codemirror_mode": {
    "name": "ipython",
    "version": 3
   },
   "file_extension": ".py",
   "mimetype": "text/x-python",
   "name": "python",
   "nbconvert_exporter": "python",
   "pygments_lexer": "ipython3",
   "version": "3.7.3"
  }
 },
 "nbformat": 4,
 "nbformat_minor": 4
}
