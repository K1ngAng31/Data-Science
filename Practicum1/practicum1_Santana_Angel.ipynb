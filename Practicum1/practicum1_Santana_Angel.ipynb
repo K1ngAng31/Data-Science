{
 "cells": [
  {
   "cell_type": "markdown",
   "metadata": {},
   "source": [
    "<a id='top'></a>\n",
    "\n",
    "# CSCI 3022: Intro to Data Science - Fall 2019 Practicum 1\n",
    "***\n",
    "\n",
    "This practicum is due on Canvas by **11:59 PM on Friday October 11**. Your solutions to theoretical questions should be done in Markdown/MathJax directly below the associated question.  Your solutions to computational questions should include any specified Python code and results as well as written commentary on your conclusions.  \n",
    "\n",
    "**Here are the rules:** \n",
    "\n",
    "1. All work, code and analysis, must be your own. \n",
    "1. You may use your course notes, posted lecture slides, textbooks, in-class notebooks, and homework solutions as resources.  You may also search online for answers to general knowledge questions like the form of a probability distribution function or how to perform a particular operation in Python/Pandas. \n",
    "1. This is meant to be like a coding portion of your midterm exam. So, the instructional team will be much less helpful than we typically are with homework. For example, we will not check answers, help debug your code, and so on.\n",
    "1. If something is left open-ended, it is because we want to see how you approach the kinds of problems you will encounter in the wild, where it will not always be clear what sort of tests/methods should be applied. Feel free to ask clarifying questions though.\n",
    "2. You may **NOT** post to message boards or other online resources asking for help.\n",
    "3. You may **NOT** copy-paste solutions *from anywhere*.\n",
    "4. You may **NOT** collaborate with classmates or anyone else.\n",
    "5. In short, **your work must be your own**. It really is that simple.\n",
    "\n",
    "Violation of the above rules will result in an immediate academic sanction (*at the very least*, you will receive a 0 on this practicum or an F in the course, depending on severity), and a trip to the Honor Code Council.\n",
    "\n",
    "**By submitting this assignment, you agree to abide by the rules given above.**\n",
    "\n",
    "***\n",
    "\n",
    "**Name**:  Angel Santana Hernandez\n",
    "\n",
    "***\n",
    "\n",
    "\n",
    "**NOTES**: \n",
    "\n",
    "- You may not use late days on the practicums nor can you drop your practicum grades. \n",
    "- If you have a question for us, post it as a **PRIVATE** message on Piazza.  If we decide that the question is appropriate for the entire class, then we will add it to a Practicum clarifications thread. \n",
    "- Do **NOT** load or use any Python packages that are not available in Anaconda 3.6. \n",
    "- Some problems with code may be autograded.  If we provide a function API **do not** change it.  If we do not provide a function API then you're free to structure your code however you like. \n",
    "- Submit only this Jupyter notebook to Canvas.  Do not compress it using tar, rar, zip, etc. \n",
    "- This should go without saying, but... For any question that asks you to calculate something, you **must show all work to receive credit**. Sparse or nonexistent work will receive sparse or nonexistent credit.\n",
    "\n",
    "---\n",
    "**Shortcuts:**  [Problem 1](#p1) | [Problem 2](#p2) | [Problem 3](#p3) |[Bottom](#bot)\n",
    "\n",
    "---"
   ]
  },
  {
   "cell_type": "code",
   "execution_count": 8,
   "metadata": {},
   "outputs": [],
   "source": [
    "from scipy import stats\n",
    "from random import randint\n",
    "import random\n",
    "from scipy.special import binom\n",
    "import numpy as np \n",
    "import pandas as pd\n",
    "import matplotlib.pyplot as plt\n",
    "%matplotlib inline"
   ]
  },
  {
   "cell_type": "markdown",
   "metadata": {},
   "source": [
    "<br>\n",
    "\n",
    "---\n",
    "[Back to top](#top)\n",
    "<a id='p1'></a>\n",
    "\n",
    "### [30 points] Problem 1: Rubber Ducky Race"
   ]
  },
  {
   "cell_type": "markdown",
   "metadata": {},
   "source": [
    "Every year, the Aspen Valley Rotary Club hosts a [rubber ducky race](https://www.aspenrotary.org/page/the-ducky-derby). Each Rubber Ducky is stamped with a number, tickets are sold  and if your ducky makes it to the end of the course first, you win. Exact Rules follow:\n",
    "\n",
    "1. The Rotary Club sells \"Duck Adoption\" papers. Only Ducks that have been adopted start the race, so there must always be a winner.\n",
    "2. The ducks are dumped into a river and race to a finish line. The adoptive parent of the first duck across the line wins. The standard prize is 15,000 dollars.\n",
    "3. Before the start of the duck race, the Rotary Club randomly draws a number of special ducks. For every 3,333 ducks that start the race, 1 special duck is drawn.\n",
    "4. If a special duck wins the race the prize is increased from 15,000 dollars to 1,000,000 dollars.\n",
    "\n",
    "**Assume that all ducks are equally likely to win the ducky race.**"
   ]
  },
  {
   "cell_type": "markdown",
   "metadata": {},
   "source": [
    "**Part A:**\n",
    "Given that 9999 ducks start the race and you purchase 1 duck, calculate the probability by hand that your duck is selected as a special ducky."
   ]
  },
  {
   "cell_type": "markdown",
   "metadata": {},
   "source": [
    "**Answers**\n",
    "\n",
    "\n",
    "\n",
    "------------------------------------------------------\n",
    "For every 3333 ducks we have 1 special duck. Since we have a given of 9999 ducks, we have 3 special duckies. The probability that our pruchased duck is a special ducky is:\n",
    "\n",
    "Probability of special ducky: $\\frac{3}{9999}$ = $\\frac{1}{3333}$ = 0.00030003 * 1000 = 3%\n",
    "\n",
    "------------------------------------------------------------------------------------------------------------"
   ]
  },
  {
   "cell_type": "markdown",
   "metadata": {},
   "source": [
    "**Part B:** Calculate the probability that the rotary club pays out the million dollar prize."
   ]
  },
  {
   "cell_type": "markdown",
   "metadata": {},
   "source": [
    "**Answers**\n",
    "\n",
    "\n",
    "\n",
    "------------------------------------------------------------------------------------------------------------\n",
    "The probobility that the rotary club pays out the million dollar prize would be the same as that as choosing a special ducky and the special ducky winning because the million dollar prize is only given out if the previous results as true.\n",
    "\n",
    "Probobility of million dollar prize: $\\frac{1}{3333}$ = 0.00030003 * 1000 = .3%\n",
    "\n",
    "------------------------------------------------------------------------------------------------------------"
   ]
  },
  {
   "cell_type": "markdown",
   "metadata": {},
   "source": [
    "**Part C:** Calculate the probability that your duck is both picked as a special duck and wins the race."
   ]
  },
  {
   "cell_type": "markdown",
   "metadata": {},
   "source": [
    "**Answers**\n",
    "\n",
    "\n",
    "------------------------------------\n",
    "From **Part A** we know that the probobility of my duck being a special ducky is: .03%. The probobility of my special ducky winning would be: $\\frac{1}{3333}$ = 0.00030003 * 100 = .03%.So the probability that my duck is a special ducky and wins the race is:\n",
    "\n",
    "$$(\\frac{1}{3333} * \\frac{1}{3333}) * 1000 = .090018\\text{%} $$\n",
    "\n",
    "----------------------------------------"
   ]
  },
  {
   "cell_type": "markdown",
   "metadata": {},
   "source": [
    "**Part D:** Calculate the expected payout for the Rotary Club for a 9999 duck race. "
   ]
  },
  {
   "cell_type": "markdown",
   "metadata": {},
   "source": [
    "**Answers**\n",
    "\n",
    "\n",
    "\n",
    "------------------------------------------------\n",
    "For a regular duck that wins the race, the total payout would be 15,0000 dollars because only one duck wins. \n",
    "\n",
    "For a speciall duck that wins the race, the total payout would be 1,000,000 dollars becuse only one duck wins. \n",
    "\n",
    "However, overtime, the special duck earnings will end up with an equivalent of:\n",
    "$$1 mill * \\frac{3}{9999} + 15 thous * \\frac{9996}{9999} = 15295.53$$\n",
    "Therefore the total expected payout is **$15295.53**.\n",
    "\n",
    "\n",
    "------------------------------------------------"
   ]
  },
  {
   "cell_type": "markdown",
   "metadata": {},
   "source": [
    "**Part E:** The Rotary Club takes out an insurance policy on having to pay the 1,000,000 dollar prize. They pay $50 per duck race to the insurance company. From your answer above, is this worth it? Explain. Is there any number of ducks that make the insurance policy a good deal? If it is not worth it, what's a reason the the Rotary Club might buy the policy anyways? "
   ]
  },
  {
   "cell_type": "markdown",
   "metadata": {},
   "source": [
    "**Answers**\n",
    "\n",
    "\n",
    "\n",
    "------------------------------------------------\n",
    "After running through the calculations, it is not worth it for the Rotary Club to pay 500 dollars per race for insurance to avoid paying the 1 million dollars because it will be less likely for a special duck to win the race and they will be losing the extra money because the insurance doesn't cover those 15000 dollars\n",
    "\n",
    "\n",
    "------------------------------------------------"
   ]
  },
  {
   "cell_type": "markdown",
   "metadata": {},
   "source": [
    "**Part F:** Write a python function that simulates a single duck race. It should use the api below and the class written for you. DO NOT CHANGE THE API OR THE ENUMERATED CLASS. The function should take the number of ducks that start the race in as a parameter, and return a tuple of the duck's number that won, and the type of winner that duck was. \n",
    "\n",
    "[E.g. (1522, <Types_Of_Winner.REGULAR: 0>) ] \n",
    "\n",
    "The duck numbers start at 1 and go until the number passed in (Eg. For 500 ducks, the ducks are numbered 1 to 500. No Duck is numbered 0)."
   ]
  },
  {
   "cell_type": "code",
   "execution_count": 2,
   "metadata": {},
   "outputs": [],
   "source": [
    "from enum import Enum\n",
    "#Dont change this. You should return a tuple of (int, Type_Of_Winner) in the function below. \n",
    "#The type of winner should be from this class. The int should represent the duck number of the winning duck.\n",
    "#If you want more info about Enumerated Types in python: https://docs.python.org/3/library/enum.html\n",
    "class Types_Of_Winner(Enum):\n",
    "    REGULAR = 0\n",
    "    SPECIAL = 1\n",
    "\n",
    "#don't change this api. We will use a set of unit tests to test this. \n",
    "#This uses a default parameter. If you are unfamiliar with default parameters: \n",
    "#https://www.geeksforgeeks.org/default-arguments-in-python/ \n",
    "#Don't change the default parameter.\n",
    "def rubber_Ducky_Race(number_Of_Ducks=3333):\n",
    "    #YOUR IMPLEMENTATION HERE\n",
    "    #Change the below to simulate a duck race.\n",
    "    #Start of Code\n",
    "    #we want to randomize the number of ducks\n",
    "    winning_Duck_Number = random.randint(1, number_Of_Ducks)\n",
    "    type_Of_Winner = Types_Of_Winner.REGULAR\n",
    "    SDcount  = int(number_Of_Ducks/3333) #keep count for the special ducks\n",
    "    #make an array for the special ducks to store the values\n",
    "    specialDucksArray = []\n",
    "   #create counter for regular ducks \n",
    "    regularDuck = 0\n",
    "    for ducks in range(SDcount):\n",
    "        while(regularDuck == 0):\n",
    "            #generate new random number of ducks\n",
    "            nrnD = random.randint(1, number_Of_Ducks)\n",
    "            regularDuck = 1#update the count of regular duck\n",
    "            #create for loop if duck turns out to be a special duck\n",
    "            for nonRegularDuck in specialDucksArray:\n",
    "                if nrnD == nonRegularDuck:\n",
    "                    #update the count of regular count\n",
    "                    regularDuck = 0\n",
    "                    #break out of code if RD = 0\n",
    "                    break\n",
    "        #append our specialDucksArray with our new random number of ducks\n",
    "        specialDucksArray.append(nrnD)\n",
    "    #create if for the case that a winning duck is a special duck\n",
    "    if winning_Duck_Number in specialDucksArray:\n",
    "        winningDuckisSpecial = (winning_Duck_Number, Types_Of_Winner.SPECIAL)\n",
    "        return(winningDuckisSpecial)\n",
    "\n",
    "    #otherwise just return the winning regular duck\n",
    "    #you can change the variable names, but must return tuple of type (int, Types_Of_Winner)\n",
    "    return (winning_Duck_Number, type_Of_Winner.REGULAR)\n",
    "    "
   ]
  },
  {
   "cell_type": "markdown",
   "metadata": {},
   "source": []
  },
  {
   "cell_type": "markdown",
   "metadata": {},
   "source": [
    "**Part G:** Write a python function that takes in a number of duck races (num_Duck_Races) and a number of ducks per race (num_Ducks_Per_Race). The function should run the function you wrote in part F by passing the number of ducks to the function from part F. It should run the function from part F num_Duck_Races times, and record all the results. It then should calculate the amount of money the rotary club paid out in each race and return a list of the rotary club's payouts (integer values of dollars paid out). Don't change the API as we will be auto grading this."
   ]
  },
  {
   "cell_type": "code",
   "execution_count": 3,
   "metadata": {},
   "outputs": [],
   "source": [
    "#Don't change this api. Use the parameters passed in in your implemenation of this function.\n",
    "def run_Simulation_Duck_Race(num_Duck_Races, num_Ducks_Per_Race):\n",
    "    #IMPLEMENTATION HERE\n",
    "    #implementing the amount of the pay out depending on which duck wins\n",
    "    payout15 = 15000\n",
    "    payout1mil = 1000000\n",
    "    # create a storing array for the payouts\n",
    "    payoutArray = []\n",
    "    #create for loop to iterate through the array to find duck that wins\n",
    "    for winner in range(num_Duck_Races):\n",
    "        #call rubber ducky race to find winner and for function to return the type\n",
    "        #create int to store type of winner\n",
    "        NumberofWins, TypeOfWinner = rubber_Ducky_Race(num_Ducks_Per_Race)\n",
    "        #depending on the winner type, we will append the payout aomount \n",
    "        #to the pay out Array\n",
    "        if TypeOfWinner == Types_Of_Winner.REGULAR:\n",
    "            payoutArray.append(payout15)\n",
    "        else:#if winner is a special ducky\n",
    "            payoutArray.append(payout1mil)\n",
    "    \n",
    "    #CHANGE RETURN VALUE TO BE LIST OF PAYOUTS FROM YOUR CODE IMPLEMENTED IN THIS FUNCTION\n",
    "    return [payoutArray]"
   ]
  },
  {
   "cell_type": "markdown",
   "metadata": {},
   "source": []
  },
  {
   "cell_type": "markdown",
   "metadata": {},
   "source": [
    "**Part H:** Run the simulation function you made in part G 50 times for 1111 duck races each with 3333 ducks per race. Calculate the mean of each list of payouts returned by your function from part F and plot the mean payout values on a histogram. We recommend using the default bins argument here (don't pass it in). Make sure to make your histogram legible, label the plot, and label the x and the y axes (with their units). Do this all in one cell and run the cell a few times and see what different histograms are generated from the simulations. When you find one with three distinct \"bars\" leave it in the output of the cell. Explain why this histogram makes sense. Your answer here should talk about what each distinct \"bar\" in the histogram represents, the probabiity that the rotary club pays out the million dollar prize, and the number of races in each simulation. "
   ]
  },
  {
   "cell_type": "code",
   "execution_count": 4,
   "metadata": {},
   "outputs": [
    {
     "name": "stdout",
     "output_type": "stream",
     "text": [
      "This histogram makes sense because it is more likely\n",
      "that a regular duck wins the race and as the graph gets\n",
      "farther down we see that it is less likely that a special duck wil win the race.\n"
     ]
    },
    {
     "data": {
      "image/png": "[encoded data removed]",
      "text/plain": [
       "<Figure size 432x288 with 1 Axes>"
      ]
     },
     "metadata": {
      "needs_background": "light"
     },
     "output_type": "display_data"
    }
   ],
   "source": [
    "#start with making an array to store the \n",
    "#payouts from the the previous part\n",
    "storingArray = []\n",
    "numberofRaces =1111\n",
    "numberofDucks = 3333\n",
    "for payout in range(0, 50):#running the function 50 times\n",
    "    #find the mean payout\n",
    "    meanPayout = np.mean(run_Simulation_Duck_Race(numberofRaces, numberofDucks))\n",
    "    #append the meanPayout to our storing array\n",
    "    storingArray.append(meanPayout)\n",
    "#code to make the graph\n",
    "plt.title('PayOut Values (Mean)', fontsize=20)\n",
    "my_bins = range(15000, 20000, 100)\n",
    "\n",
    "plt.hist(storingArray, bins=my_bins)\n",
    "plt.xlabel('Payout Mean')\n",
    "plt.ylabel('Frequency')\n",
    "\n",
    "print(\"This histogram makes sense because it is more likely\")\n",
    "print(\"that a regular duck wins the race and as the graph gets\")\n",
    "print(\"farther down we see that it is less likely that a special duck wil win the race.\")\n"
   ]
  },
  {
   "cell_type": "markdown",
   "metadata": {},
   "source": [
    "**Part I:** Pick a lucky number in between 1 and 7000 and run your function from part F 25000 times with 7,000 ducks. Capture all the results and find the number of times your duck won! Was your duck ever a winner or even a special Million Dollar Winner?"
   ]
  },
  {
   "cell_type": "code",
   "execution_count": 5,
   "metadata": {},
   "outputs": [
    {
     "name": "stdout",
     "output_type": "stream",
     "text": [
      "Your Duck has won 2 times, with a total winnings of: 30000 $\n",
      "Your duck has been selected to be a special duck 0 times, and has won: 0 $\n"
     ]
    }
   ],
   "source": [
    "#initialize type of winner\n",
    "specialDucky = Types_Of_Winner.SPECIAL\n",
    "regularDuck = Types_Of_Winner.REGULAR\n",
    "#max number\n",
    "MAXnumber = 7000\n",
    "#pick any number\n",
    "myLuckyNumber = 1\n",
    "#create counter for wins that my duck wins\n",
    "duckwinnings = 0\n",
    "#keep track to see if  my duck ever ends up being a special duck\n",
    "specialduck = 0\n",
    "#create for loop to run function 25000\n",
    "for sim in range (0, 25000):\n",
    "    #call rubber ducky race\n",
    "    pleasebemyDuck, typeofWinner = rubber_Ducky_Race(MAXnumber)\n",
    "    #if statement to see if my duck is a winner\n",
    "    if pleasebemyDuck == myLuckyNumber:#if it is a winner increment \n",
    "        duckwinnings = duckwinnings + 1\n",
    "        #if statement to see if my duck is a special ducky\n",
    "        if typeofWinner == specialDucky:#if it is increment\n",
    "            specialduck = specialduck + 1\n",
    "#         else:#if duck isnt special\n",
    "#             print(\"Your Duck is not Special\")\n",
    "#     else: #if my duck is not a winner\n",
    "#         print(\"Duck is a LOSER\")\n",
    "\n",
    "print(\"Your Duck has won\", duckwinnings, \"times, with a total winnings of:\", duckwinnings*15000, \"$\" )\n",
    "print(\"Your duck has been selected to be a special duck\", specialduck, \"times, and has won:\",specialduck*1000000, \"$\" )\n",
    "        \n",
    "    "
   ]
  },
  {
   "cell_type": "markdown",
   "metadata": {},
   "source": [
    "After running the function multiple times with my lucky number I was able to be a winner most of the times, but my duck was never a special ducky and I never won a million dollars, very upsetting."
   ]
  },
  {
   "cell_type": "markdown",
   "metadata": {},
   "source": [
    "<br>\n",
    "\n",
    "---\n",
    "[Back to top](#top)\n",
    "<a id='p2'></a>\n",
    "\n",
    "### [20 points] Problem 2: Tax Fraud\n",
    "\n",
    "Let $X =$ the leading digit of a randomly selected number from a large accounting ledger. So, for example, if we randomly draw the number $\\$20,695$, then $X = 2$. People who make up numbers to commit accounting fraud tend to give $X$ a (discrete) uniform distribution, i.e., $P(X = x) = 1/9$, for $x \\in \\{1,...,9\\}$. However, there is empirical evidence that suggests that \"naturally occurring\" numbers (e.g., numbers in a non-fraudulent accounting ledger) have leading digits that do not follow a uniform distribution. Instead, they follow a distribution defined by:\n",
    "\n",
    "\\begin{align*}\n",
    "f(x) = \\log_{10}\\bigg(\\frac{x+1}{x}\\bigg), \\,\\,\\,\\, x = 1,2,...,9.\n",
    "\\end{align*} \n",
    "\n",
    "Using ${\\tt tax.txt}$, a dataset containing the taxable incomes for individuals in 1978, we will decide whether this dataset is fraudulent. \n",
    "\n",
    "\n",
    "\n",
    "**Part A**:  Read in the data and create a variable that holds only the character of each data point."
   ]
  },
  {
   "cell_type": "code",
   "execution_count": 27,
   "metadata": {},
   "outputs": [],
   "source": [
    "df = pd.read_csv(\"tax.txt\",sep='\\t' )\n",
    "\n",
    "storeNumber = []\n",
    "for r in df.itertuples():\n",
    "    number = int(str(r.taxIncomes)[0][0])\n",
    "    storeNumber.append(number)\n",
    "#     print(number)\n",
    "num = pd.DataFrame(storeNumber, columns=['1st # Distribution'])\n",
    "\n",
    "\n",
    "           "
   ]
  },
  {
   "cell_type": "markdown",
   "metadata": {},
   "source": []
  },
  {
   "cell_type": "markdown",
   "metadata": {},
   "source": [
    "**Part B**: Create a histogram of the data that also plots or overlays the suggested non-fradulent density $f(x)$ as well as the density of the discrete uniform over the same support."
   ]
  },
  {
   "cell_type": "code",
   "execution_count": 28,
   "metadata": {},
   "outputs": [
    {
     "data": {
      "text/plain": [
       "([<matplotlib.axis.XTick at 0x1a212e0eb8>,\n",
       "  <matplotlib.axis.XTick at 0x1a212e02b0>,\n",
       "  <matplotlib.axis.XTick at 0x1a24941320>,\n",
       "  <matplotlib.axis.XTick at 0x1a21c55828>,\n",
       "  <matplotlib.axis.XTick at 0x1a21c665c0>,\n",
       "  <matplotlib.axis.XTick at 0x1a21c66a90>,\n",
       "  <matplotlib.axis.XTick at 0x1a21c66be0>,\n",
       "  <matplotlib.axis.XTick at 0x1a21c74588>,\n",
       "  <matplotlib.axis.XTick at 0x1a21c74b00>,\n",
       "  <matplotlib.axis.XTick at 0x1a24f67128>],\n",
       " <a list of 10 Text xticklabel objects>)"
      ]
     },
     "execution_count": 28,
     "metadata": {},
     "output_type": "execute_result"
    },
    {
     "data": {
      "image/png": "[encoded data removed]",
      "text/plain": [
       "<Figure size 432x288 with 2 Axes>"
      ]
     },
     "metadata": {
      "needs_background": "light"
     },
     "output_type": "display_data"
    }
   ],
   "source": [
    "# data = df.head(5)\n",
    "# pd.DataFrame(data).plot(kind='density')\n",
    "\n",
    "dArray = []#array for distribution \n",
    "for fx in range(1, 10):\n",
    "    equation = np.log10((fx+1)/fx)\n",
    "    dArray.append(equation)\n",
    "uD = [1/9]*9 #create the uniform distribution and make 9 spots for it\n",
    "density = pd.DataFrame(uD, columns=['Uniform Density'])\n",
    "density.index = density.index + 1\n",
    "d2 = pd.DataFrame(dArray, columns=['Non-Fraud density'])\n",
    "d2.index = d2.index + 1\n",
    "ax = num.plot(kind = 'hist')\n",
    "d2.plot(ax=ax, secondary_y = True)\n",
    "density.plot(ax=ax, secondary_y = True)\n",
    "plt.xticks(np.arange(0, 10, 1))"
   ]
  },
  {
   "cell_type": "markdown",
   "metadata": {},
   "source": []
  },
  {
   "cell_type": "markdown",
   "metadata": {},
   "source": [
    "**Part C**: Does it appear as those the data is fraudulent, not fraudulent, or too hard to tell?  What kind of numerical measures could you use to support such a conclusion?"
   ]
  },
  {
   "cell_type": "markdown",
   "metadata": {},
   "source": [
    "Answers\n",
    "------------------------------------------------\n",
    "------------------------------------------------------------------\n",
    "Looking at the $\\textbf{Non - Fraudulent}$ function, we can see that the data is not $\\textbf{Fraudulent}$. We can determine this by taking the standard deviation from our $\\textbf{1st Number Density}$ to the $\\textbf{Non - Fraudulent}$\n",
    "\n",
    "---------------------------------"
   ]
  },
  {
   "cell_type": "markdown",
   "metadata": {},
   "source": [
    "**Part D**: Create a new object that stores only the first digit of the first 100 distinct powers of 2, e.g. $Y=[2, 2^2, 2^3, 2^4, \\dots ]$.  Repeat steps a) and b) for this new data set, plotting the distribution of the first digit of terms in $Y$ against $f(x)$."
   ]
  },
  {
   "cell_type": "code",
   "execution_count": 23,
   "metadata": {},
   "outputs": [
    {
     "data": {
      "text/plain": [
       "<matplotlib.axes._subplots.AxesSubplot at 0x1a2251f438>"
      ]
     },
     "execution_count": 23,
     "metadata": {},
     "output_type": "execute_result"
    },
    {
     "data": {
      "image/png": "[encoded data removed]",
      "text/plain": [
       "<Figure size 432x288 with 2 Axes>"
      ]
     },
     "metadata": {
      "needs_background": "light"
     },
     "output_type": "display_data"
    }
   ],
   "source": [
    "storeArray = []\n",
    "for ex in range(0, 100):\n",
    "    num = int(str(2**ex)[0][0])\n",
    "    storeArray.append(num)\n",
    "NUM = pd.DataFrame(storeArray, columns = ['1st Digit of Power Distribution'])\n",
    "bins = range(0,100)\n",
    "ax = NUM.plot(kind = 'hist', bins=bins)\n",
    "d2.plot(ax=ax, secondary_y = True)"
   ]
  },
  {
   "cell_type": "markdown",
   "metadata": {},
   "source": []
  },
  {
   "cell_type": "markdown",
   "metadata": {},
   "source": [
    "<br>\n",
    "\n",
    "---\n",
    "[Back to top](#top)\n",
    "<a id='p3'></a>\n",
    "\n",
    "### [30 points] Problem 3: Poker\n",
    "\n",
    "It's time to play poker.  (https://en.wikipedia.org/wiki/Texas_hold_%27em#Hand_values) Assume that we are using a standard deck of cards without jokers (52 cards). For each round, you will be dealt 5 cards from the deck without replacement. There are several different types of hands that can be dealt; listed below are a few of interest: \n",
    "\n",
    "- Highcard (Simple value of the card. Lowest: 2 - Highest: Ace)\n",
    "- Pair (Two cards with the same value)\n",
    "- Two pair (Twice two cards with the same value)\n",
    "- Three of a kind (Three cards with the same value)\n",
    "- Straight (Sequence of 5 cards in increasing value, Ace can only follow K)\n",
    "- Four of a kind (Four cards with the same value)\n",
    "- Full house (Three of a kind and a pair)\n",
    "- Flush (5 cards of the same suit)"
   ]
  },
  {
   "cell_type": "markdown",
   "metadata": {},
   "source": [
    "**Part A**: What is the exact probability you get at least a Pair in your 5 cards? What is the probability of getting a Full House?  (Note that we're including pairs as a subset of a full house, here)"
   ]
  },
  {
   "cell_type": "markdown",
   "metadata": {},
   "source": [
    "Answers\n",
    "------------------------------------------------\n",
    "------------------------------------------------\n",
    "**What is the exact probability you get at least a Pair in your 5 cards?**\n",
    "<br /> \n",
    "The probability of us getting at least a pair in our 5 cards is:\n",
    "<br /> \n",
    "     *Assuming we put our 5 cards in the order of: (our pair) 2cards, Random Card, Random Card, Random Card.* <br /> \n",
    "     $$Our\\space Pair \\space Probability$$\n",
    "For our pair we can have any 2 suits of the 4 suits, so we have: <br /> $$ {}_{4}C_{2} = \\frac{n!}{r!(n-r)!} = \\frac{4!}{2!(4-2)!} = 6$$\n",
    "For our face value, they can from Ace, 2, 3, 4, 5, 6, 7, 8, 9, 10, Jack, Queen, King. So we have: <br /> \n",
    "$$ {}_{13}C_{1} = \\frac{n!}{r!(n-r)!} = \\frac{13!}{1!(13-1)!} = 13$$\n",
    "<br /> \n",
    "     $$Remaining \\space Cards \\space Probability$$\n",
    "For our remaining cards we need to show different numbers that won't be the same as our pair and dont have the same values as each other. For this, the suit doesn't matter, they can have any of the 4. So to show our different numbers, we have the probability of numbers: <br />\n",
    "$$ {}_{12}C_{3} = \\frac{n!}{r!(n-r)!} = \\frac{12!}{1!(12-3)!} = 220$$\n",
    "<br /> \n",
    "and then the probability of suits: <br /> \n",
    "$$ {}_{4}C_{1} = \\frac{n!}{r!(n-r)!} = (\\frac{4!}{1!(4-1)!})^3 = 12 $$\n",
    "<br /> \n",
    "And now the possiblilty of getting at least one pair is found by multiplying all combinations together:<br /> \n",
    "Probability of (1pair): <br /> \n",
    "$$({}_{4}C_{2}) * ({}_{13}C_{1}) * ({}_{12}C_{3}) * ({}_{4}C_{1})^3 = 1,098,240$$\n",
    "<br /> \n",
    "However, now we need to figure out the total number of hands possible to figure out the exact probability of getting at least one pair. Total number of hands possible for a five card poker game: <br /> \n",
    "$$ {}_{52}C_{5} = \\frac{n!}{r!(n-r)!} = \\frac{52!}{5!(52-5)!} = 2,598,960 $$\n",
    "<br /> \n",
    "Now, the the probability of at least one pair is: \n",
    "<br /> \n",
    "$$\\frac{Prob.\\space of\\space 1-pair}{Tot.\\space num.\\space of\\space hands\\space for\\space a\\space 5\\space card\\space poker\\space game} = \\frac{1,098,240}{2,598,960} = .422 * 100 = 42.2 \\text{%} $$\n",
    "<br /> \n",
    "**What is the probability of getting a Full House? (Note that we're including pairs as a subset of a full house, here)**\n",
    "<br /> \n",
    "    *Assuming we put our Full House of 5 cards in order of: 3 of a kind (3 cards), One pair (2 cards).* <br />\n",
    "For our 3 of a kind cards, we have the probability of choosing any face value. So we have: <br />\n",
    "$$ {}_{13}C_{1} = \\frac{n!}{r!(n-r)!} = \\frac{13!}{1!(13-1)!} = 13 $$\n",
    "and now for our suit, we have the probability of:\n",
    "$$ {}_{4}C_{3} = \\frac{n!}{r!(n-r)!} = \\frac{4!}{3!(4-3)!} = 4 $$\n",
    "Now for our remaining cards (our pair), we have the probability for choosing our number as:\n",
    "<br />\n",
    "$$ {}_{12}C_{1} = \\frac{n!}{r!(n-r)!} = \\frac{12!}{1!(12-1)!} = 12 $$\n",
    "and now for our suit, we have the probability of choosing 2 of the 4:\n",
    "$$ {}_{4}C_{2} = \\frac{n!}{r!(n-r)!} = \\frac{4!}{2!(4-2)!} = 6 $$\n",
    "Now, to get the the possible combinations of a Full House is found by multiplying the combinations:\n",
    "<br />\n",
    "$$({}_{13}C_{1}) * ({}_{4}C_{3}) * ({}_{12}C_{1}) * ({}_{4}C_{2}) = 3744$$\n",
    "And since we know the possible total hands is 2,598,960, we divide:\n",
    "$$\\frac{Number\\space of\\space Full\\space House}{Prob\\space of\\space Total\\space Hands} = \\frac{3744}{2,598,960} = .00144 = .144 \\text{%}$$\n",
    "    \n",
    "    \n",
    "    \n",
    "    \n",
    "    \n",
    "    \n",
    "    \n",
    "    \n",
    "    \n",
    "    \n",
    "    \n",
    "    \n",
    "\n",
    "------------------------------------------------"
   ]
  },
  {
   "cell_type": "markdown",
   "metadata": {},
   "source": [
    "**Part B**: Write a function `getCards()` to randomly generate 5 cards from the no-joker deck. This function should return an array of 5 cards."
   ]
  },
  {
   "cell_type": "code",
   "execution_count": 276,
   "metadata": {},
   "outputs": [
    {
     "data": {
      "text/plain": [
       "['3 of Clubs',\n",
       " 'Ace of Spades',\n",
       " 'King of Spades',\n",
       " '4 of Hearts',\n",
       " '10 of Spades']"
      ]
     },
     "execution_count": 276,
     "metadata": {},
     "output_type": "execute_result"
    }
   ],
   "source": [
    "def getcards():\n",
    "    hand =[]\n",
    "    nums = []\n",
    "    #randomize 5 cards from deck\n",
    "    for i in range(5):\n",
    "        #randomize through the array\n",
    "        check = 0\n",
    "        while check == 0:\n",
    "            check = 1\n",
    "            w = random.randint(1,52)\n",
    "            for i in nums:\n",
    "                if w == i:\n",
    "                    check = 0\n",
    "                    break\n",
    "        nums.append(w)\n",
    "                    \n",
    "        cards = w\n",
    "        if (cards == 1): \n",
    "            cards = \"Ace of Spades\"\n",
    "#             print (cards)\n",
    "        elif (cards == 2): \n",
    "            cards = \"2 of Spades\"\n",
    "#             print (cards)\n",
    "        elif cards == 3: \n",
    "            cards = \"3 of Spades\"\n",
    "#             print (cards)\n",
    "        elif cards == 4: \n",
    "            cards = \"4 of Spades\"\n",
    "#             print (cards)\n",
    "        elif cards == 5: \n",
    "            cards = \"5 of Spades\"\n",
    "#             print (cards)\n",
    "        elif cards == 6: \n",
    "            cards = \"6 of Spades\"\n",
    "#             print (cards)\n",
    "        elif cards == 7: \n",
    "            cards = \"7 of Spades\"\n",
    "#             print (cards)\n",
    "        elif cards == 8: \n",
    "            cards = \"8 of Spades\"\n",
    "#             print (cards)\n",
    "        elif cards == 9: \n",
    "            cards = \"9 of Spades\"\n",
    "#             print (cards)\n",
    "        elif cards == 10: \n",
    "            cards = \"10 of Spades\"\n",
    "#             print (cards)\n",
    "        elif cards == 11: \n",
    "            cards = \"Jack of Spades\"\n",
    "#             print (cards)\n",
    "        elif cards == 12: \n",
    "            cards = \"Queen of Spades\"\n",
    "#             print (cards)\n",
    "        elif cards == 13: \n",
    "            cards = \"King of Spades\"\n",
    "#             print (cards)\n",
    "        elif cards == 14: \n",
    "            cards = \"Ace of Clubs\"\n",
    "#             print (cards)\n",
    "        elif cards == 15: \n",
    "            cards = \"2 of Clubs\"\n",
    "#             print (cards)\n",
    "        elif cards == 16: \n",
    "            cards = \"3 of Clubs\"\n",
    "#             print (cards)\n",
    "        elif cards == 17: \n",
    "            cards = \"4 of Clubs\"\n",
    "#             print (cards)\n",
    "        elif cards == 18: \n",
    "            cards = \"5 of Clubs\"\n",
    "#             print (cards)\n",
    "        elif cards == 19: \n",
    "            cards = \"6 of Clubs\"\n",
    "#             print (cards)\n",
    "        elif cards == 20: \n",
    "            cards = \"7 of Clubs\"\n",
    "#             print (cards)\n",
    "        elif cards == 21: \n",
    "            cards = \"8 of Clubs\"\n",
    "#             print (cards)\n",
    "        elif cards == 22: \n",
    "            cards = \"9 of Clubs\"\n",
    "#             print (cards)\n",
    "        elif cards == 23: \n",
    "            cards = \"10 of Clubs\"\n",
    "#             print (cards)\n",
    "        elif cards == 24: \n",
    "            cards = \"Jack of Clubs\"\n",
    "#             print (cards)\n",
    "        elif cards == 25: \n",
    "            cards = \"Queen of Clubs\"\n",
    "#             print (cards)\n",
    "        elif cards == 26: \n",
    "            cards = \"King of Clubs\"\n",
    "#             print (cards)\n",
    "        elif cards == 27: \n",
    "            cards = \"Ace of Hearts\"\n",
    "#             print (cards)\n",
    "        elif cards == 28: \n",
    "            cards = \"2 of Hearts\"\n",
    "#             print (cards)\n",
    "        elif cards == 29: \n",
    "            cards = \"3 of Hearts\"\n",
    "#             print (cards)\n",
    "        elif cards == 30: \n",
    "            cards = \"4 of Hearts\"\n",
    "#             print (cards)\n",
    "        elif cards == 31: \n",
    "            cards = \"5 of Hearts\"\n",
    "#             print (cards)\n",
    "        elif cards == 32: \n",
    "            cards = \"6 of Hearts\"\n",
    "#             print (cards)\n",
    "        elif cards == 33: \n",
    "            cards = \"7 of Hearts\"\n",
    "#             print (cards)\n",
    "        elif cards == 34: \n",
    "            cards = \"8 of Hearts\"\n",
    "#             print (cards)\n",
    "        elif cards == 35: \n",
    "            cards = \"9 of Hearts\"\n",
    "#             print (cards)\n",
    "        elif cards == 36: \n",
    "            cards = \"10 of Hearts\"\n",
    "#             print (cards)\n",
    "        elif cards == 37: \n",
    "            cards = \"Jack of Hearts\"\n",
    "#             print (cards)\n",
    "        elif cards == 38: \n",
    "            cards = \"Queen of Hearts\"\n",
    "#             print (cards)\n",
    "        elif cards == 39: \n",
    "            cards = \"King of Hearts\"\n",
    "#             print (cards)\n",
    "        elif cards == 40: \n",
    "            cards = \"Ace of Diamonds\"\n",
    "#             print (cards)\n",
    "        elif cards == 41: \n",
    "            cards = \"2 of Diamonds\"\n",
    "#             print (cards)\n",
    "        elif cards == 42: \n",
    "            cards = \"3 of Diamonds\"\n",
    "#             print (cards)\n",
    "        elif cards == 43: \n",
    "            cards = \"4 of Diamonds\"\n",
    "#             print (cards)\n",
    "        elif cards == 44: \n",
    "            cards = \"5 of Diamonds\"\n",
    "#             print (cards)\n",
    "        elif cards == 45: \n",
    "            cards = \"6 of Diamonds\"\n",
    "#             print(cards)\n",
    "        elif cards == 46: \n",
    "            cards = \"7 of Diamonds\"\n",
    "#             print(cards)\n",
    "        elif cards == 47: \n",
    "            cards = \"8 of Diamonds\"\n",
    "#             print(cards)\n",
    "        elif cards == 48: \n",
    "            cards = \"9 of Diamonds\"\n",
    "#             print(cards)\n",
    "        elif cards == 49: \n",
    "            cards = \"10 of Diamonds\"\n",
    "#             print(cards)\n",
    "        elif cards == 50: \n",
    "            cards = \"Jack of Diamonds\"\n",
    "#             print(cards)\n",
    "        elif cards == 51: \n",
    "            cards = \"Queen of Diamonds\"\n",
    "#             print(cards)\n",
    "        elif cards == 52: \n",
    "            cards = \"King of Diamonds\"\n",
    "#             print(cards)\n",
    "        hand.append(cards)\n",
    "    return hand\n",
    "\n",
    "\n",
    "#driver code to test the function\n",
    "getcards()\n"
   ]
  },
  {
   "cell_type": "markdown",
   "metadata": {},
   "source": [
    "**Part C**: Run the `getCards()` simulation 10000 times, and store the result in an array named `card_array`."
   ]
  },
  {
   "cell_type": "code",
   "execution_count": 277,
   "metadata": {},
   "outputs": [],
   "source": [
    "card_array = []#initialize our array to store\n",
    "for sim in range(0,10000):\n",
    "    arrayofCards = [] #initialize our array of cards we get from get cards\n",
    "    arrayofCards = getcards()\n",
    "    card_array.append(arrayofCards)\n",
    "# print(getcards())\n",
    "    "
   ]
  },
  {
   "cell_type": "markdown",
   "metadata": {},
   "source": [
    "**Part D**: Write a function `pair(card_array, num_sim)` For the 10000 simulations we did in Part C, what is the probability of have Pair? Does the result agree with your calculation in Part A?"
   ]
  },
  {
   "cell_type": "code",
   "execution_count": 278,
   "metadata": {},
   "outputs": [
    {
     "name": "stdout",
     "output_type": "stream",
     "text": [
      "49.230000000000004 %\n",
      "The results do agree with my calculations from Part A. I calculated 42.2% of the time that we get a pair when we play poker with 5 cards. However, even though I am running 6% above the exact probability, for running 10,000 simulations, its really close to getting a pair.\n"
     ]
    }
   ],
   "source": [
    "#This website helped me understand how to find a pair in an array\n",
    "#https://stackoverflow.com/questions/28202634/check-for-duplicates-in-a-python-list/28202716\n",
    "\n",
    "# def pair(card_array, num_sim):\n",
    "#     numberofPairs = 0\n",
    "#     for pair in card_array:\n",
    "#         for nonpair in pair:\n",
    "#             if pair.count(nonpair) > 1:\n",
    "#                 numberofPairs = numberofPairs + 1\n",
    "\n",
    "#     probof1Pair = (numberofPairs/num_sim) * 100\n",
    "#     return(probof1Pair)\n",
    "# Previous code was printing duplicate cards\n",
    "\n",
    "#new code has a built in pair checker to make sure no duplicate card is in the array\n",
    "#https://www.geeksforgeeks.org/python-check-if-all-elements-in-a-list-are-same/\n",
    "#website gave me a general idea on how to do a check function \n",
    "def pair(card_array, num_sim):\n",
    "    paircount = 0#keep count of pairs\n",
    "    checker = 0#counter to check for duplicates\n",
    "    for check in card_array:#iterate through the card_array\n",
    "        checker = 0#initialize check to 0\n",
    "        for i in range(len(check)):\n",
    "            for k in range(i+1, len(check)):\n",
    "                if check[i][0] == check[k][0]:\n",
    "                    checker = -1#if no duplicates set to -1\n",
    "                    paircount += 1#update pair count if pair is found\n",
    "                    break#break out of if statement \n",
    "            if checker == -1:#if break is true \n",
    "                break#break out of for loop\n",
    "    probof1Pair = (paircount/num_sim) * 100\n",
    "    return(probof1Pair)\n",
    "                    \n",
    "\n",
    "\n",
    "\n",
    "print(pair(card_array, 10000), \"%\")\n",
    "print(\"The results do agree with my calculations from Part A. I calculated 42.2% of the time that we get a pair when we play poker with 5 cards. However, even though I am running 6% above the exact probability, for running 10,000 simulations, its really close to getting a pair.\")\n"
   ]
  },
  {
   "cell_type": "markdown",
   "metadata": {},
   "source": [
    "**Part E:** Write a function `fullhouse(card_array, num_sim)` For the 10000 simulations we did in Part C, what is the probability of having a Full House? Does the result agree with your calculation in Part A?"
   ]
  },
  {
   "cell_type": "code",
   "execution_count": 279,
   "metadata": {},
   "outputs": [
    {
     "name": "stdout",
     "output_type": "stream",
     "text": [
      "Probability of getting a Full House: 0.12 %\n",
      "From Part A of this problem, we got a probability of .144% that we will get a full house. After running this simulation 10000 times, the results do agree with my calculations.\n"
     ]
    }
   ],
   "source": [
    "#almost like our previous code\n",
    "#Here we check to make sure that if we find three of a kind we dont reuse them for the pair that we need\n",
    "#to have a full house \n",
    "def threeKind(array): \n",
    "    for t in range(len(array)):\n",
    "        for s in range(t+1, len(array)):\n",
    "            if array[t][0] == array[s][0]:\n",
    "                   for k in range(s+1, len(array)):\n",
    "                        if array[t][0] == array[k][0]:\n",
    "                            array[t] = \"used\" \n",
    "                            array[s] = \"gonzos\"\n",
    "                            array[k] = \"scoopdoop\"             \n",
    "                            return(array, 1)\n",
    "    return(array, 0)\n",
    "\n",
    "\n",
    "\n",
    "def fullhouse(card_array, num_sim):\n",
    "    numberofHouse = 0\n",
    "    for cards in card_array:\n",
    "        arr, x = threeKind(cards)\n",
    "        if x == 1: # a three of a kind\n",
    "            checker = 0\n",
    "            for i in range(len(arr)):\n",
    "                for k in range(i+1, len(arr)):\n",
    "                    if arr[i][0] == arr[k][0]:\n",
    "                        checker = -1\n",
    "                        numberofHouse += 1\n",
    "                        break\n",
    "                if checker == -1:\n",
    "                    break\n",
    "    return(numberofHouse/num_sim) * 100\n",
    "            \n",
    "            \n",
    "\n",
    "print(\"Probability of getting a Full House:\",fullhouse(card_array, 10000),\"%\")\n",
    "print(\"From Part A of this problem, we got a probability of .144% that we will get a full house. After running this simulation 10000 times, the results do agree with my calculations.\")\n",
    "                \n",
    "                \n",
    "#     probof1Pair = (numberofPairs/num_sim) * 100\n",
    "#     return(probof1Pair)\n",
    "# print(fullhouse(card_array, 10000))\n",
    "\n"
   ]
  },
  {
   "cell_type": "code",
   "execution_count": null,
   "metadata": {},
   "outputs": [],
   "source": []
  }
 ],
 "metadata": {
  "kernelspec": {
   "display_name": "Python 3",
   "language": "python",
   "name": "python3"
  },
  "language_info": {
   "codemirror_mode": {
    "name": "ipython",
    "version": 3
   },
   "file_extension": ".py",
   "mimetype": "text/x-python",
   "name": "python",
   "nbconvert_exporter": "python",
   "pygments_lexer": "ipython3",
   "version": "3.7.3"
  }
 },
 "nbformat": 4,
 "nbformat_minor": 2
}
