{
 "cells": [
  {
   "cell_type": "markdown",
   "metadata": {},
   "source": [
    "<a id='top'></a>\n",
    "\n",
    "# Homework 3: Normals and More Simulation\n",
    "***\n",
    "\n",
    "**Name**: Angel Santana\n",
    "\n",
    "***\n",
    "\n",
    "This assignment is due on Canvas by **MIDNIGHT on Friday October 25**. Your solutions to theoretical questions should be done in Markdown directly below the associated question.  Your solutions to computational questions should include any specified Python code and results as well as written commentary on your conclusions.  Remember that you are encouraged to discuss the problems with your classmates, but **you must write all code and solutions on your own**.\n",
    "\n",
    "**NOTES**: \n",
    "\n",
    "- Any relevant data sets should be available under the **Data** module on Canvas. To make life easier on the graders if they need to run your code, do not change the relative path names here. Instead, move the files around on your computer.\n",
    "- If you're not familiar with typesetting math directly into Markdown then by all means, do your work on paper first and then typeset it later.  Remember that there is a [reference guide](https://math.meta.stackexchange.com/questions/5020/mathjax-basic-tutorial-and-quick-reference) linked on Canvas on writing math in Markdown. **All** of your written commentary, justifications and mathematical work should be in Markdown.\n",
    "- Because you can technically evaluate notebook cells is a non-linear order, it's a good idea to do Kernel $\\rightarrow$ Restart & Run All as a check before submitting your solutions.  That way if we need to run your code you will know that it will work as expected. \n",
    "- It is **bad form** to make your reader interpret numerical output from your code.  If a question asks you to compute some value from the data you should show your code output **AND** write a summary of the results in Markdown directly below your code. \n",
    "- This probably goes without saying, but... For any question that asks you to calculate something, you **must show all work and justify your answers to receive credit**. Sparse or nonexistent work will receive sparse or nonexistent credit. \n",
    "\n",
    "---\n",
    "**Shortcuts:**  [Problem 1](#p1) | [Problem 2](#p2) | [Problem 3](#p3) | [Problem 4](#p4) | \n",
    "\n",
    "---"
   ]
  },
  {
   "cell_type": "code",
   "execution_count": 67,
   "metadata": {},
   "outputs": [],
   "source": [
    "import pandas as pd\n",
    "import numpy as np\n",
    "from scipy import stats#\n",
    "import matplotlib.pylab as plt\n",
    "%matplotlib inline"
   ]
  },
  {
   "cell_type": "markdown",
   "metadata": {},
   "source": [
    "<br>\n",
    "\n",
    "---\n",
    "<a id='p1'></a>\n",
    "[Back to top](#top)\n",
    "\n",
    "<img src=\"https://media.daysoftheyear.com/20171223112636/hedgehog-day1.jpg\" style=\"width: 500px;\"/>\n",
    "\n",
    "\n",
    "### [25 points] Problem 1\n",
    "\n",
    "Suppose you are modeling the probability of observing various levels of cuteness in hedgehogs you encounter.  Let $X$ be a random variable representing the observed cuteness, which is *obviously* nonnegative and has units of deci*awws*. You decide to use the following pdf for $X$:\n",
    "\n",
    "$$\n",
    "f(x) = \\begin{cases}\n",
    "         c \\ x \\ e^{\\left(-\\frac{x^2}{6}\\right)} & 0 \\leq x < \\infty \\\\\n",
    "         0                           & \\text{otherwise}\n",
    "       \\end{cases}\n",
    "$$\n",
    "where $c$ is some normalizing constant.\n",
    "\n",
    "**Part A**: Determine the value of $c$ such that $f(x)$ is a valid probability density function. Then, make a plot of the probability density function for hedgehog cuteness, $f(x)$. Be sure to label your plot and axes!"
   ]
  },
  {
   "cell_type": "markdown",
   "metadata": {},
   "source": [
    "From the above we equation we know: \n",
    "\n",
    "$1 = \\int_{0}^{\\infty}cxe^{\\frac{-x^{2}}{6}}dx$, we know that $u = \\frac{-x^{2}}{6}$\n",
    "\n",
    "And du is: $-3du = xdx$\n",
    "\n",
    "So now, we have: \n",
    "\n",
    "$\\int_{0}^{\\infty}cxe^{\\frac{-x^{2}}{6}}dx = -3c*\\int_{0}^{\\infty}e^{u}du$\n",
    "\n",
    "$\\xrightarrow{} 1 =  0 - (-3ce^0) = \\frac{1}{3} $"
   ]
  },
  {
   "cell_type": "code",
   "execution_count": 15,
   "metadata": {},
   "outputs": [
    {
     "data": {
      "text/plain": [
       "Text(0.5, 0, 'Values of X')"
      ]
     },
     "execution_count": 15,
     "metadata": {},
     "output_type": "execute_result"
    },
    {
     "data": {
      "image/png": "[encoded data removed]",
      "text/plain": [
       "<Figure size 432x288 with 1 Axes>"
      ]
     },
     "metadata": {
      "needs_background": "light"
     },
     "output_type": "display_data"
    }
   ],
   "source": [
    "import math\n",
    "df = pd.DataFrame((1/3 * x * math.e**(-x**2/6)) for x in np.arange(0, 10, .1))\n",
    "\n",
    "plt.plot(df);\n",
    "plt.ylabel(\"cuteness (units of deciawws)\")\n",
    "plt.xlabel(\"Values of X\")"
   ]
  },
  {
   "cell_type": "markdown",
   "metadata": {},
   "source": [
    "**Part B**: Compute *by hand* the cumulative density (cdf) function $F(x)$ for $X$."
   ]
  },
  {
   "cell_type": "markdown",
   "metadata": {},
   "source": [
    "Just like the previous question, we have: \n",
    "\n",
    "$ \\int_{0}^{x}\\frac{1}{3}xe^{\\frac{-x^{2}}{6}}dx $\n",
    "\n",
    "where u is: $\\frac{-x^{2}}{6}$, giving du as: $-3du = xdx$\n",
    "\n",
    "therefore giving us the equation $= -3\\frac{1}{3}*\\int_{0}^{x}e^{u}du$\n",
    "\n",
    "with an answer of: $ -e^{\\frac{-x^2}{6}} - (-e^{\\frac{-0^2}{6}}) = 1 - e^{\\frac{-x^2}{6}}$\n",
    "\n",
    "\n"
   ]
  },
  {
   "cell_type": "markdown",
   "metadata": {},
   "source": [
    "**Part C:**  Use the cdf you derived in **Part B** to calculate the median ($\\tilde{x}$) cuteness of all hedgehogs."
   ]
  },
  {
   "cell_type": "markdown",
   "metadata": {},
   "source": [
    "For this part, we will let y be median for all the cuteness of hedge hogs. Giving us the following:\n",
    "\n",
    "$1 - e^{\\frac{-m^2}{6}} = \\frac{1}{2} \\xrightarrow{} \\frac{-m^2}{6} = ln(\\frac{1}{2}) \\xrightarrow{} m^2 = -6ln(\\frac{1}{2})$\n",
    "\n",
    "Giving us the solution of:\n",
    "\n",
    "$m = \\sqrt{-6 ln(\\frac{1}{2})} = 2.0393$"
   ]
  },
  {
   "cell_type": "code",
   "execution_count": null,
   "metadata": {},
   "outputs": [],
   "source": []
  },
  {
   "cell_type": "markdown",
   "metadata": {},
   "source": [
    "**Part D**: It is a well-known fact that any hedgehog whose cuteness exceeds 3 deciawws is **totes adorbz**. Use the cdf you computed in **Part B** to find the probability that any arbitrary hedgehog that you observe is totes adorbz."
   ]
  },
  {
   "cell_type": "markdown",
   "metadata": {},
   "source": [
    "Information we know: X > 3\n",
    "\n",
    "What we want: $P(X > 3) = 1 - P(X \\leq 3)$\n",
    "\n",
    "And from Part B we know that: P(X $\\leq$ 3) is: $(1 - e^{\\frac{-(3)^2}{6}})$\n",
    "\n",
    "Solve. \n",
    "$1 - (1 - e^{\\frac{-(3)^2}{6}})$\n",
    "\n",
    "Therefore we get the answer:\n",
    "\n",
    " $P(X > 3) = .2231$"
   ]
  },
  {
   "cell_type": "code",
   "execution_count": null,
   "metadata": {},
   "outputs": [],
   "source": []
  },
  {
   "cell_type": "markdown",
   "metadata": {},
   "source": [
    "**Part E:** You have been painstakingly collecting data on hedgehogs all over town, and the cuteness is damn near overwhelming. Suppose you sample 6 hedgehogs, and the cuteness of any given hedgehog is independent of the cuteness of all other hedgehogs. What is the probability that at least 2 but not all of them are totes adorbz?"
   ]
  },
  {
   "cell_type": "markdown",
   "metadata": {},
   "source": [
    "What we want: Find the P(atleast 2 are totes adorbz) $\\xrightarrow{}$ P(2ta)\n",
    "\n",
    "From Part D: The probobility of totes adorbz is .2231\n",
    "\n",
    "Let w = totes adorbz\n",
    "\n",
    "We let this be, $P(w) = .2231$\n",
    "and $P(\\bar{w}) = .7769$\n",
    "\n",
    "With this information we can find the probability of P(2ta).\n",
    "\n",
    "$P(2ta) = 1 - (_{6}C_{0}P(\\bar{w})^{6} + _{6}C_{1}P(\\bar{w})^{5}P(w) + _{6}C_{6}P(w)^{6}$\n",
    "\n",
    "$P(2ta) = 1 - .7769^6 - 6*.7769^5*.2231 -.2231^6$\n",
    "\n",
    "The probobility of at least 2 are totes adorbz is .4011"
   ]
  },
  {
   "cell_type": "code",
   "execution_count": null,
   "metadata": {},
   "outputs": [],
   "source": []
  },
  {
   "cell_type": "markdown",
   "metadata": {
    "collapsed": true
   },
   "source": [
    "<br>\n",
    "\n",
    "---\n",
    "<a/ id='p2'></a>\n",
    "[Back to top](#top)\n",
    "### [25 points] Problem 2 - Monte Carlo Estimation of Definite Integrals\n",
    "\n",
    "One really cool application of random variables is using them to approximate integrals/area under a curve.  This method of approximating integrals is used frequently in computational science to approximate really difficult integrals that we never want to do by hand.  In this exercise you'll figure out how we can do this in practice and test your method on a relatively simple integral. "
   ]
  },
  {
   "cell_type": "markdown",
   "metadata": {
    "collapsed": true
   },
   "source": [
    "**Part A.**  Let $X$ be a random variable representing how delicious a pie you bake is, as measured by the **Deliciousness Index** (DI).  Suppose the probability density function for $X$ is described by the raised cosine probability density function:\n",
    "\n",
    "$$\n",
    "f(x) = \\begin{cases}\n",
    "         \\dfrac{1}{\\pi}\\left(\\cos{(x)} + 1\\right) & 0 \\leq x \\leq \\pi \\\\\n",
    "         0                           & \\text{otherwise}\n",
    "         \\end{cases}\n",
    "$$\n",
    "\n",
    "A Deliciousness Index of $\\pi$ is the most delicious pie you can ever hope to create, and a DI of $0$ is the most disgusting pie you have ever tasted.  \n",
    "\n",
    "Compute **by hand**, the integral of $f(x)$ for $0 \\leq x \\leq \\dfrac{\\pi}{2}$.  Write a sentence or two to interpret your result physically, in the context of this problem set-up.\n",
    "\n",
    "\n",
    "**Answer**\n",
    "\n",
    "\n",
    "From above we know the integral is: \n",
    "\n",
    "$\\frac{1}{\\pi}sin(\\frac{\\pi}{2}) + \\frac{1}{\\pi}\\frac{\\pi}{2} - (  \\frac{1}{\\pi}sin(0) + \\frac{1}{\\pi}*0)$\n",
    "\n",
    "Which will give us an answer of .8183\n",
    "\n",
    "By taking the integral of $f(x)$ from 0 to pi, we see that it is equal to .8183. And with that answer we can say that it is the probability of a pie having a delicious index. \n",
    "\n",
    "\n",
    "\n"
   ]
  },
  {
   "cell_type": "markdown",
   "metadata": {},
   "source": [
    "**Part B.** Suppose we sample a random variable $X$ from $U(0,\\frac{\\pi}{2})$ and another random variable $Y$ from $U(0,1)$ and think of them as $x$- and $y$-coordinates of a point in the box $[0,\\frac{\\pi}{2}] \\times [0,1]$.  If we compute the ratio of points that fall under the curve $f(x)$ to the total points sampled, what does this value estimate? "
   ]
  },
  {
   "cell_type": "markdown",
   "metadata": {
    "collapsed": true
   },
   "source": [
    "If we compute the ratio points between the values of 0 and $\\frac{\\pi}{2}$, it will give us a point that lies underneath the curve."
   ]
  },
  {
   "cell_type": "markdown",
   "metadata": {},
   "source": [
    "**Part C.** How could we modify the process outlined in **Part B** so that our estimator estimates the value of the desired integral?  If you need inspiration, check out the in-class notebook on Stochastic Simulation (#4), specifically, the exercise where we estimated $\\pi$!"
   ]
  },
  {
   "cell_type": "markdown",
   "metadata": {
    "collapsed": true
   },
   "source": [
    "To modify the  process outlined in **Part B** so that our estimator estimates the value of the desired integral, we can multiply $\\frac{\\pi}{2}$ to the integral to get value that the integral in **Part A** gave us."
   ]
  },
  {
   "cell_type": "markdown",
   "metadata": {},
   "source": [
    "**Part D.** Complete the function `integrate` below to compute an approximation to the definition integral $\\int_0^{\\text{ub}} f(x)dx$.  Your function should take as arguments:\n",
    "1. `num_samples` -- the number of points to sample,\n",
    "2. `ub` -- a number between $0$ and $\\pi$ that is the upper bound of the integral, and\n",
    "3. `isPlot` -- a Boolean flag for whether or not to display a plot of the results.\n",
    "\n",
    "Your function should return an approximation of the definite integral by sampling $X$ from $U(0,\\text{ub})$ and $Y$ from $U(0,1)$. For each random draw $(X,Y)$, define the random variable $Z$ that represents whether or not the sampled $Y$ value is less than $f(X)$ for the corresponding $X$ value.\n",
    "\n",
    "Your function should perform three tasks: \n",
    "\n",
    "1. return the estimate of the value of the integral,\n",
    "2. return the sample variance of the random variable $Z$ being simulated, using the np.var function, and\n",
    "3. if `isPlot` is True, plot the curve $f(x)$ as well as the location of the points $(X,Y)$, colored according to whether they fall above or below the curve. "
   ]
  },
  {
   "cell_type": "code",
   "execution_count": 49,
   "metadata": {},
   "outputs": [
    {
     "data": {
      "text/plain": [
       "(1, 0.4185253085644299)"
      ]
     },
     "execution_count": 49,
     "metadata": {},
     "output_type": "execute_result"
    },
    {
     "data": {
      "image/png": "[encoded data removed]",
      "text/plain": [
       "<Figure size 432x288 with 1 Axes>"
      ]
     },
     "metadata": {
      "needs_background": "light"
     },
     "output_type": "display_data"
    }
   ],
   "source": [
    "# GIVEN CODE - Do not change the inputs/outputs or your code will fail unit tests and auto-grading!\n",
    "\n",
    "def piCOS(value):\n",
    "    x = (1.0/np.pi)*(np.cos(value)+1)\n",
    "    return x\n",
    "def integrate(num_samples, ub, isPlot):\n",
    "    #create a helping function to get precise value for pi and cos\n",
    "#     def piCOS(value):\n",
    "#         x = (1.0/math.pi)*(math.cos(value)+1)\n",
    "#         return x\n",
    "    \n",
    "    #-----------------------------------------\n",
    "    # your code goes here!  replace this junk:\n",
    "    estimate = 0\n",
    "    sample_var = 1\n",
    "    #-----------------------------------------\n",
    "    #adding some more helper variables\n",
    "    why = 0\n",
    "    ex = 0\n",
    "    #create storing arrays for plot\n",
    "    upX = []\n",
    "    upY = []\n",
    "    downX = []\n",
    "    downY = []\n",
    "    \n",
    "    for i in range(num_samples):\n",
    "        ex = np.random.uniform(0, ub)# this will create random x value\n",
    "        why = np.random.uniform(0, 1)#this will create a random y value\n",
    "        if why <= piCOS(ex): #if statement for y being under the curve\n",
    "            #append values to the list\n",
    "            downY.append(why)\n",
    "            downX.append(ex)\n",
    "        else:\n",
    "            upY.append(why)\n",
    "            upX.append(ex)\n",
    "    #find the estimate\n",
    "    #e is estimate\n",
    "    estimate = (len(upX)/num_samples)*ub\n",
    "    if estimate > 1:\n",
    "        estimate = 1\n",
    "        \n",
    "    #make the plot\n",
    "    if isPlot:\n",
    "        plt.scatter(upX, upY)\n",
    "        plt.scatter(downX, downY)\n",
    "        w = np.arange(0.0, np.pi, 0.1)\n",
    "        z = []\n",
    "        for i in w:\n",
    "            z.append(piCOS(i))\n",
    "            \n",
    "        plt.plot(w, z, color = \"yellow\")\n",
    "        \n",
    "    sample_var = np.var(downX, ddof = 1)\n",
    "    return estimate, sample_var\n",
    "\n",
    "integrate(10000, np.pi, 1)"
   ]
  },
  {
   "cell_type": "markdown",
   "metadata": {},
   "source": [
    "**Part E.** Write your own small unit tests!\n",
    "\n",
    "First, what should your `integrate` function output if you plug in `ub=0`? Set that as `int_0_to_0` below.\n",
    "\n",
    "Second, what should your `integrate` function output if you plug in `ub=`$\\pi$? Set that as `int_0_to_pi` below.\n",
    "\n",
    "Then, you can execute the cell below to run two sanity checks. Write out **in math** (like, a definite integral) what each of these two tests is checking and **why** that is a reasonable sanity check.\n",
    "\n",
    "If these two assertions run without fail, then things seem to be working okay. Note that the upper endpoint test is stochastic, so if it fails, try running it a few times. If it fails a lot, then things are probably going wrong."
   ]
  },
  {
   "cell_type": "code",
   "execution_count": 50,
   "metadata": {},
   "outputs": [
    {
     "ename": "AssertionError",
     "evalue": "Error: lower endpoint test failing",
     "output_type": "error",
     "traceback": [
      "\u001b[0;31m---------------------------------------------------------------------------\u001b[0m",
      "\u001b[0;31mAssertionError\u001b[0m                            Traceback (most recent call last)",
      "\u001b[0;32m<ipython-input-50-f68ac011c481>\u001b[0m in \u001b[0;36m<module>\u001b[0;34m\u001b[0m\n\u001b[1;32m      8\u001b[0m \u001b[0;31m# DO NOT EDIT THIS CELL BELOW HERE\u001b[0m\u001b[0;34m\u001b[0m\u001b[0;34m\u001b[0m\u001b[0;34m\u001b[0m\u001b[0m\n\u001b[1;32m      9\u001b[0m \u001b[0;31m#---------------------------------------\u001b[0m\u001b[0;34m\u001b[0m\u001b[0;34m\u001b[0m\u001b[0;34m\u001b[0m\u001b[0m\n\u001b[0;32m---> 10\u001b[0;31m \u001b[0;32massert\u001b[0m \u001b[0mintegrate\u001b[0m\u001b[0;34m(\u001b[0m\u001b[0;36m1000\u001b[0m\u001b[0;34m,\u001b[0m \u001b[0;36m0\u001b[0m\u001b[0;34m,\u001b[0m \u001b[0;32mFalse\u001b[0m\u001b[0;34m)\u001b[0m\u001b[0;34m[\u001b[0m\u001b[0;36m0\u001b[0m\u001b[0;34m]\u001b[0m\u001b[0;34m==\u001b[0m\u001b[0mint_0_to_0\u001b[0m\u001b[0;34m,\u001b[0m \u001b[0;34m\"Error: lower endpoint test failing\"\u001b[0m\u001b[0;34m\u001b[0m\u001b[0;34m\u001b[0m\u001b[0m\n\u001b[0m\u001b[1;32m     11\u001b[0m \u001b[0;32massert\u001b[0m \u001b[0mmath\u001b[0m\u001b[0;34m.\u001b[0m\u001b[0misclose\u001b[0m\u001b[0;34m(\u001b[0m\u001b[0mintegrate\u001b[0m\u001b[0;34m(\u001b[0m\u001b[0;36m10000\u001b[0m\u001b[0;34m,\u001b[0m \u001b[0mnp\u001b[0m\u001b[0;34m.\u001b[0m\u001b[0mpi\u001b[0m\u001b[0;34m,\u001b[0m \u001b[0;32mFalse\u001b[0m\u001b[0;34m)\u001b[0m\u001b[0;34m[\u001b[0m\u001b[0;36m0\u001b[0m\u001b[0;34m]\u001b[0m\u001b[0;34m,\u001b[0m\u001b[0mint_0_to_pi\u001b[0m\u001b[0;34m,\u001b[0m\u001b[0mabs_tol\u001b[0m\u001b[0;34m=\u001b[0m\u001b[0;36m0.03\u001b[0m\u001b[0;34m)\u001b[0m\u001b[0;34m,\u001b[0m \u001b[0;34m\"Error: upper endpoint test failing\"\u001b[0m\u001b[0;34m\u001b[0m\u001b[0;34m\u001b[0m\u001b[0m\n",
      "\u001b[0;31mAssertionError\u001b[0m: Error: lower endpoint test failing"
     ]
    },
    {
     "data": {
      "image/png": "[encoded data removed]",
      "text/plain": [
       "<Figure size 432x288 with 1 Axes>"
      ]
     },
     "metadata": {
      "needs_background": "light"
     },
     "output_type": "display_data"
    }
   ],
   "source": [
    "int_0_to_0  = integrate(10000, 0, 1)# fill this in!\n",
    "int_0_to_pi = integrate(10000, np.pi, 1)# this one too!\n",
    "\n",
    "#I have a endpoint failing and im not sure why?\n",
    "\n",
    "\n",
    "#---------------------------------------\n",
    "# DO NOT EDIT THIS CELL BELOW HERE\n",
    "#---------------------------------------\n",
    "assert integrate(1000, 0, False)[0]==int_0_to_0, \"Error: lower endpoint test failing\"\n",
    "assert math.isclose(integrate(10000, np.pi, False)[0],int_0_to_pi,abs_tol=0.03), \"Error: upper endpoint test failing\""
   ]
  },
  {
   "cell_type": "code",
   "execution_count": null,
   "metadata": {
    "collapsed": true
   },
   "outputs": [],
   "source": []
  },
  {
   "cell_type": "markdown",
   "metadata": {},
   "source": [
    "**Part F.** Run your simulation with `isPlot=True` and `ub=`$\\frac{\\pi}{2}$ for 1,000 samples so we can see your plot. Then, run your simulation (with `isPlot=False`) with at least 10,000 samples and estimate the value of the given integral. Be sure to leave your cells evaluated for the graders! Does your estimate agree with the exact value of the integral you computed in **Part A**? "
   ]
  },
  {
   "cell_type": "code",
   "execution_count": 51,
   "metadata": {},
   "outputs": [
    {
     "name": "stdout",
     "output_type": "stream",
     "text": [
      "Integration Value:  0.7401592291857553\n"
     ]
    },
    {
     "data": {
      "image/png": "[encoded data removed]",
      "text/plain": [
       "<Figure size 432x288 with 1 Axes>"
      ]
     },
     "metadata": {
      "needs_background": "light"
     },
     "output_type": "display_data"
    }
   ],
   "source": [
    "integrate(1000, (np.pi/2), True)\n",
    "\n",
    "e, x = integrate(10000, (np.pi/2), False)\n",
    "print(\"Integration Value: \", e)"
   ]
  },
  {
   "cell_type": "markdown",
   "metadata": {},
   "source": [
    "From the estimate,the calculations from Part A do agree with eachother. We integrated the integral and got a result of .8183, and for the simulation we got .74, its not an exact value, but because its an estimate, I agree with the results. "
   ]
  },
  {
   "cell_type": "markdown",
   "metadata": {
    "collapsed": true
   },
   "source": [
    "<br>\n",
    "\n",
    "---\n",
    "<a/ id='p3'></a>\n",
    "[Back to top](#top)\n",
    "### [25 points] Problem 3 - Mmmm... Donuts...\n",
    "\n",
    "<img src=\"http://astrokentico.s3.amazonaws.com/rojakdaily/media/1nichoras/homer%20simpson%20krispy%20kreme/main.jpg?ext=.jpg\" style=\"width:300px;\"/>\n",
    "\n",
    "You bring many donuts (or _doughnuts_, if you're into that) to work to share with your coworkers at the Boulder Nuclear Power Planet. But due to the high levels of radiation there, they must be inspected for safety. In particular, if the mean level of radiation in a sample from your batch of donuts is above [195 mSv (millisievert)](#rad), then they are deemed unsafe and you must throw the whole batch away.\n",
    "\n",
    "You know that historically donuts at the power plant have, on average, 180 mSv of radiation, with a standard deviation of 65 mSv. To test the donut radiation levels, you take the donut receipt and pick every fifth donut off it, and sample the radiation levels of those donuts. You end up sampling the radiation levels of 49 donuts out of the batch. Assume that your donuts follow the same distribution as that of the historical donuts."
   ]
  },
  {
   "cell_type": "markdown",
   "metadata": {},
   "source": [
    "**Part A.** What is the probability that a donut batch is deemed unsafe?  You should at the very least set up and justify your calculation by hand (in Markdown/Mathjax), before executing any calculations in Python."
   ]
  },
  {
   "cell_type": "markdown",
   "metadata": {},
   "source": [
    "Calculation:\n",
    "\n",
    "$\\bar{x}~N(\\mu = 180, var = \\frac{65^2}{49})$\n",
    "\n",
    "Now solve for $\\sigma$.\n",
    "\n",
    "$\\sigma = \\sqrt(var) = 9.2857$\n",
    "\n",
    "Now we want to find, the probability that a donut batch is deemed unsafe.\n",
    "\n",
    "We do this by doing the following:\n",
    "\n",
    "We know: $P(\\bar{x} \\leq 195)$\n",
    "\n",
    "Therefore:\n",
    "$P(\\frac{\\bar{x} - 180}{9.2857} \\leq \\frac{195 - 180}{9.2857} ) $\n",
    "\n",
    "Which will result in:\n",
    "$= P(Z \\leq 1.6154)$\n",
    "\n",
    "Lastly, we find the probability by: $\\Phi(1.6154) = .05311$\n",
    "\n",
    "And this shows us that a donut being unsafe in a batch is 5.3%\n"
   ]
  },
  {
   "cell_type": "code",
   "execution_count": 52,
   "metadata": {},
   "outputs": [
    {
     "name": "stdout",
     "output_type": "stream",
     "text": [
      "0.053112050126084664\n"
     ]
    }
   ],
   "source": [
    "prob = stats.norm.cdf(1.6154)\n",
    "donutUnsafe = 1 - prob\n",
    "print(donutUnsafe)"
   ]
  },
  {
   "cell_type": "markdown",
   "metadata": {},
   "source": [
    "**Part B.** Yikes! Seems like those donuts might be dangerous, but you really do not want to throw away donuts that frequently, so you propose to store the donuts in a lead-lined donut box. But lead also is not very good for your health, so you are motivated to use the least amount of lead possible. What is the maximum mean amount of radiation $\\mu$ for our donuts to have such that the probability that we will throw donuts out due to safety concerns is at most 0.02?\n",
    "\n",
    "Calculate this **by hand**, using Python only to perform arithmetic operations and compute critical values of a standard normal random variable."
   ]
  },
  {
   "cell_type": "markdown",
   "metadata": {},
   "source": [
    "First, we use the Z score table to find its value. This gives us, 2.05.\n",
    "\n",
    "Next we set up our equation: \n",
    "\n",
    "$\\frac{195 - \\mu}{\\sqrt{\\frac{65^2}{49}}} = 2.05$\n",
    "\n",
    "Now solve more $\\mu$.\n",
    "\n",
    "We get $\\mu = 176$\n",
    "\n",
    "Given this result, we see that there are doughnuts with levels of radiation of 176, and we throw them about .02% of them away."
   ]
  },
  {
   "cell_type": "code",
   "execution_count": 12,
   "metadata": {},
   "outputs": [
    {
     "name": "stdout",
     "output_type": "stream",
     "text": [
      "0.020182215405704418\n"
     ]
    }
   ],
   "source": [
    "#compute using python\n",
    "x = 1\n",
    "y = stats.norm.cdf(2.05)\n",
    "w = x - y\n",
    "print(w)"
   ]
  },
  {
   "cell_type": "markdown",
   "metadata": {},
   "source": [
    "**Part C.**  Your supervisor at the plant decides that serving up donuts in a lead-lined box is a bad idea. Fair enough.\n",
    "\n",
    "But she is still imposing the requirement that the probability of a batch of donuts being rejected must be less than 0.02. However, she knows a differnat bakery that might be the solution. At Johnny's Super Consistent Baked Goods Emporium all the donuts are exactly the same in size, which means they are closer to being exactly the same in radiation content (less deviation). Suppose the mean and sample size are at their original values of $\\mu = 190$ mSv and $n = 49$ mSv. What is the largest standard deviation to satisfy this requirement?\n",
    "\n",
    "Calculate this **by hand**, using Python only to perform arithmetic operations and compute critical values of a standard normal random variable."
   ]
  },
  {
   "cell_type": "markdown",
   "metadata": {},
   "source": [
    "We set up our forula with the given information:\n",
    "\n",
    "$2.05 =  \\frac{195 - 180}{\\sqrt{\\frac{x^2}{49}}}$\n",
    "\n",
    "Now we solve for $x$.\n",
    "\n",
    "$7.317 = \\sqrt{\\frac{x^2}{49}} \\xrightarrow{} 51.2195$\n",
    "\n",
    "And this gives the result stating that to be able to satisfy the requirement, the largest STD has to be 51.2195\n"
   ]
  },
  {
   "cell_type": "code",
   "execution_count": null,
   "metadata": {},
   "outputs": [],
   "source": []
  },
  {
   "cell_type": "markdown",
   "metadata": {},
   "source": [
    "**Part D:** Since donuts of differant diameters absorb differant amounts of radiation it is easy to model the standard deviation of radiation content in terms of the standard deviation in donut size. Assume the function $RD$ below takes in the standard deviation in millimeters of donut diameter $(\\sigma_d)$, and gives the radiation deviation in mSv.\n",
    "\n",
    "$\\begin{align}\n",
    "    RD(\\sigma_d) = \\frac{5^{\\sigma_d} \\times 1mSv}{6mm}\n",
    "\\end{align}$\n",
    "\n",
    "Johnny's bakes according to the following $\\textit{\"mathmatically\"}$ correct donut size:\n",
    "\n",
    "<img src=\"http://www.conquermaths.com/news/images/decinfo.jpg\" style=\"width:300px;\"/>\n",
    "\n",
    "So they strive for a donut diameter of 72 - 82 mm, with less than 5mm of standard deviation. However, we're not taking their word for it. We've taken a sample of 36 donuts from Johnny's to determine if their low standard deviation satisfies our requirement of less than $0.02$ chance that we throw away our donuts. The observed standard deviation in donut size was 2.8mm. Assume that the mean radiation remains unchanged from the other donuts. Do Johnny's donuts satisfy our requirement of less than $0.02$ chance that we throw them away? "
   ]
  },
  {
   "cell_type": "markdown",
   "metadata": {},
   "source": [
    "Usintg the above equation, we plug in the information into it:\n",
    "\n",
    "$RD(\\sigma_d) = \\frac{5^{\\sigma_d} \\times 1mSv}{6mm} \\xrightarrow{} RD(2.8) = \\frac{5^2.8}{6} = 15.099 $\n",
    "\n",
    "And now we put it into our formula and solve.\n",
    "\n",
    "$\\frac{190 - 185}{\\sqrt{\\frac{15.099^2}{36}}} = \\frac{15}{2.5156}$\n",
    "\n",
    "= 5.9\n",
    "\n",
    "Looking at our result, we see that 5.9 is a very high Z score compared to 2.05, which is what is required to throwaway donuts. Therefore, Johnny's donuts satisfy the $\\leq$ .02% chance requirement to throw away the donuts"
   ]
  },
  {
   "cell_type": "markdown",
   "metadata": {
    "collapsed": true
   },
   "source": [
    "**Part D.** Can you think of any potential issues with using a normal distribution to model the radiation content of our donuts?"
   ]
  },
  {
   "cell_type": "markdown",
   "metadata": {},
   "source": [
    "A potential issue using a normal distribution model is that the radiation of a donut can be presented as a negative number. However, because most things at least do radiate, the donuts cannot have radiation thats negative. "
   ]
  },
  {
   "cell_type": "markdown",
   "metadata": {},
   "source": [
    "<br>\n",
    "\n",
    "---\n",
    "<a/ id='p4'></a>\n",
    "[Back to top](#top)\n",
    "\n",
    "##  [25 points] Problem 4 - CDF Inversion Sampling\n",
    "\n",
    "In notebook 12, we looked at one method many pieces of statistical software use to turn pseudorandom numbers coming from the $U(0,1)$ distribution into those with a normal distribution.  In this problem we examine another such method.\n",
    "\n",
    "### a) Simulating an Exponential\n",
    "#### i ) The exponential distribution has pdf $f(x)= \\lambda e^{-\\lambda x}$ for $x\\ge 0$.  Use the following markdown cell to compute by hand the cdf of the exponential."
   ]
  },
  {
   "cell_type": "markdown",
   "metadata": {},
   "source": [
    "From the above equation, we take the intergral:\n",
    "\n",
    "$f(x)= \\lambda e^{-\\lambda x} \\xrightarrow{} -e^{-\\lambda*x}|_{0}^{x} $\n",
    "\n",
    "Which gives us: $1 - e^{-\\lambda*x}$"
   ]
  },
  {
   "cell_type": "markdown",
   "metadata": {},
   "source": [
    "#### ii) The cdf is a function that takes x-values (or times, in the case of the exponential) and returns probabilities as the y-values.  Specifically, it returns the probability $P(X \\leq x)$.  Find the *inverse* of this function, that takes as input probabilities and outputs times."
   ]
  },
  {
   "cell_type": "markdown",
   "metadata": {},
   "source": [
    "Using above information, we set up:\n",
    "\n",
    "$y = 1 - e^{-\\lambda*x}$, and now solve for x.\n",
    "\n",
    "$ln(1 - y) = -\\lambda*x \\rightarrow{} -\\frac{ln(1 - y)}{\\lambda}$\n",
    "\n",
    "Therefor we get: $x = -\\frac{ln(1 - y)}{\\lambda}$"
   ]
  },
  {
   "cell_type": "markdown",
   "metadata": {},
   "source": [
    "\n",
    "#### iii) Simulate 1000 random $U(0,1)$ variables.  Since these are numbers in $[0,1]$, we could think of them as random *probabilities*.  Plug them into the function you found in ii), then plot a histogram of the results.  Overlay the theoretical density of the exponential.  For each of these, use $\\lambda=1/4$."
   ]
  },
  {
   "cell_type": "code",
   "execution_count": 68,
   "metadata": {},
   "outputs": [
    {
     "data": {
      "image/png": "[encoded data removed]",
      "text/plain": [
       "<Figure size 432x288 with 1 Axes>"
      ]
     },
     "metadata": {
      "needs_background": "light"
     },
     "output_type": "display_data"
    }
   ],
   "source": [
    "\n",
    "storearray = []#storing array\n",
    "\n",
    "for i in range(0, 1000):#for loop for 1000 simulations\n",
    "    #generate a a random value for y\n",
    "    randY = np.random.uniform(0, 1)\n",
    "    #plug in value into equation we solve for\n",
    "    equation = -1*(np.log(1-randY))*(4)\n",
    "    value = equation\n",
    "    storearray.append(value)\n",
    "    \n",
    "xValue = np.arange(0,30)\n",
    "array = []\n",
    "for i in xValue:\n",
    "    array.append(.25*(np.e**(-.25*i)))\n",
    "\n",
    "#create plot\n",
    "my_bins = range(0, 30, 1)\n",
    "\n",
    "#make histogram\n",
    "plt.hist(storearray, bins=my_bins, density = True, color=\"black\")\n",
    "\n",
    "#plot\n",
    "plt.plot(xValue, array, color = \"yellow\");\n"
   ]
  },
  {
   "cell_type": "markdown",
   "metadata": {},
   "source": [
    "### b) Simulating a new distribution\n",
    "#### i) Consider a continuous random variable given by $f(x)=\\frac{\\sin(x)}{2}$ for $x \\in [0, \\pi]$.  Find the cdf and inverse cdf of X."
   ]
  },
  {
   "cell_type": "markdown",
   "metadata": {},
   "source": [
    "From above equation we take the integral: \n",
    "\n",
    "$\\int_{0}^{x}\\frac{sin(x)}{2}$\n",
    "\n",
    "Take the integral from 0 to x\n",
    "\n",
    "$= -\\frac{cos(x)}{2}|_{0}^{x}$\n",
    "\n",
    "$= -\\frac{cos(x)}{2} - (-\\frac{cos(0)}{2})$\n",
    "\n",
    "Therefore, it gives us:\n",
    "\n",
    "$CDF \\xrightarrow{} \\frac{1 - cos(x)}{2}$\n",
    "\n",
    "Now we find the Inverse CDF:\n",
    "\n",
    "$y = \\frac{1 - cos(x)}{2}$\n",
    "\n",
    "Now solve for x.\n",
    "\n",
    "$1 - 2y = cos(x)$\n",
    "\n",
    "Which gives us: $cos^{-1}(1-2y) = x$\n",
    "\n",
    "Inverse CDF $\\xrightarrow{}$ $cos^{-1}(1-2y)$\n",
    "\n"
   ]
  },
  {
   "cell_type": "markdown",
   "metadata": {},
   "source": [
    "\n",
    "#### ii) Simulate draws from X by simluating 1000 $U[0,1]$ random variables and plugging them into the inverse cdf you just found.  As in part a), plot a histogram of the random variables against their density function."
   ]
  },
  {
   "cell_type": "code",
   "execution_count": 78,
   "metadata": {},
   "outputs": [
    {
     "data": {
      "image/png": "[encoded data removed]",
      "text/plain": [
       "<Figure size 432x288 with 1 Axes>"
      ]
     },
     "metadata": {
      "needs_background": "light"
     },
     "output_type": "display_data"
    }
   ],
   "source": [
    "#use similar code to from previous part\n",
    "\n",
    "storearray2 = []#storing array\n",
    "\n",
    "for i in range(0, 1000):#for loop for 1000 simulations\n",
    "    #generate a a random value for y\n",
    "    randY = np.random.uniform(0, 1)\n",
    "    #plug in value into equation we solve for\n",
    "    equation = math.acos(1-2*randY)\n",
    "    value = equation\n",
    "    storearray2.append(value)\n",
    "    \n",
    "xValue2 = np.arange(0,np.pi, .1)\n",
    "array = []\n",
    "for i in xValue2:\n",
    "    array.append(math.sin(i)/2)\n",
    "\n",
    "#create plot\n",
    "my_bins = range(0, 5, 1)\n",
    "\n",
    "#make histogram\n",
    "plt.hist(storearray2, bins=my_bins, density = True, color=\"black\")\n",
    "\n",
    "#plot\n",
    "plt.plot(xValue2, array, color = \"yellow\");\n",
    "\n"
   ]
  },
  {
   "cell_type": "markdown",
   "metadata": {},
   "source": [
    "### c) Generalizing\n",
    "\n",
    "Describe in words how this process might work on a discrete random variable.  You may use the Bernoulli as an example, if you wish."
   ]
  },
  {
   "cell_type": "markdown",
   "metadata": {},
   "source": [
    "The process on a **discrete random variable** would be very similar to what we have done now. As for **Bernoulli**, you wold use the pdf and find the integral. Then you would integrate the result from $|_{0}^{x}$. And by taking the integral we get the cdf. After we obtain the cdf, we find the inverse, plot it, then determine the probability of the outcomes using median and the mean "
   ]
  },
  {
   "cell_type": "code",
   "execution_count": null,
   "metadata": {},
   "outputs": [],
   "source": []
  }
 ],
 "metadata": {
  "kernelspec": {
   "display_name": "Python 3",
   "language": "python",
   "name": "python3"
  },
  "language_info": {
   "codemirror_mode": {
    "name": "ipython",
    "version": 3
   },
   "file_extension": ".py",
   "mimetype": "text/x-python",
   "name": "python",
   "nbconvert_exporter": "python",
   "pygments_lexer": "ipython3",
   "version": "3.7.3"
  }
 },
 "nbformat": 4,
 "nbformat_minor": 2
}
