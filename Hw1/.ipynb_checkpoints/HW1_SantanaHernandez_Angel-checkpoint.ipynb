{
 "cells": [
  {
   "cell_type": "markdown",
   "metadata": {},
   "source": [
    "<a id='top'></a>\n",
    "\n",
    "# Homework 1: Data Cleaning and Exploratory Data Analysis \n",
    "***\n",
    "\n",
    "**Name**: Angel Santana\n",
    "\n",
    "***\n",
    "\n",
    "This assignment is due on Canvas by **MIDNIGHT on Friday September 13**. Your solutions to theoretical questions should be done in Markdown directly below the associated question.  Your solutions to computational questions should include any specified Python code and results as well as written commentary on your conclusions.  Remember that you are encouraged to discuss the problems with your classmates, but **you must write all code and solutions on your own**.\n",
    "\n",
    "**NOTES**: \n",
    "\n",
    "- Any relevant data sets should be available under the **Data** module on Canvas. To make life easier on the graders if they need to run your code, do not change the relative path names here. Instead, move the files around on your computer.\n",
    "- If you're not familiar with typesetting math directly into Markdown then by all means, do your work on paper first and then typeset it later.  Remember that there is a [reference guide](https://math.meta.stackexchange.com/questions/5020/mathjax-basic-tutorial-and-quick-reference) linked on Canvas on writing math in Markdown. **All** of your written commentary, justifications and mathematical work should be in Markdown.\n",
    "- Because you can technically evaluate notebook cells is a non-linear order, it's a good idea to do Kernel $\\rightarrow$ Restart & Run All as a check before submitting your solutions.  That way if we need to run your code you will know that it will work as expected. \n",
    "- It is **bad form** to make your reader interpret numerical output from your code.  If a question asks you to compute some value from the data you should show your code output **AND** write a summary of the results in Markdown directly below your code. \n",
    "- This probably goes without saying, but... For any question that asks you to calculate something, you **must show all work and justify your answers to receive credit**. Sparse or nonexistent work will receive sparse or nonexistent credit. \n",
    "\n",
    "---\n",
    "**Shortcuts:**  [Problem 1](#p1) | [Problem 2](#p2) | [Problem 3](#p3) | [Problem 4](#p4) | [Problem 5](#p5) | [Problem 6](#p6)\n",
    "\n",
    "---"
   ]
  },
  {
   "cell_type": "code",
   "execution_count": 130,
   "metadata": {},
   "outputs": [],
   "source": [
    "import pandas as pd\n",
    "import numpy as np\n",
    "import matplotlib.pylab as plt\n",
    "%matplotlib inline"
   ]
  },
  {
   "cell_type": "markdown",
   "metadata": {},
   "source": [
    "[Back to top](#top)\n",
    "\n",
    "<br>\n",
    "\n",
    "<a/ id='p1'></a>\n",
    "\n",
    "### (10 points) Problem 1\n",
    "***\n",
    "\n",
    "<img style=\"float: left; width: 200px; padding: 3mm;\" src=\"https://aquarium.org/wp-content/uploads/2015/08/Seahorse-female.jpg\" alt=\"Drawing\"/>  \n",
    "Poseidon is studying seahorses. Locations in each of the Atlantic, Pacific, Indian, Artic, and Southern Oceans are chosen to catch and release seahorses. After being caught, the seahorses are monitored for 24 hours while being fed organic, free-range plankton. The amount of plankton that each seahorse eats is recorded in an app on Poseidon’s phone, called Hippocampus. He collects 6 seahorses from the Arctic Ocean, 36 seahorses from the Pacific Ocean, 12 seahorses from the Indian Ocean, 6 seahorses from the Southern Ocean, and 42 seahorses from the Atlantic Ocean. \n",
    "\n",
    "Poseidon wants to get a sense for the average amount of plankton eaten by seahorses, so he uses the Hippcampus app to randomly choose 1 seahorse from the Arctic, 6 from the Pacific, 2 from the Indian Ocean, 1 from the Southern Ocean, and 7 from the Atlantic Ocean.\n",
    "\n",
    "$$ \\quad $$\n",
    "    \n",
    "**Part A:** Identify the following: \n",
    "\n",
    "- the population: \n",
    "- the sample frame:  \n",
    "- the sample: \n",
    "- the type of sample: \n",
    "- the quantity of interest: "
   ]
  },
  {
   "cell_type": "markdown",
   "metadata": {},
   "source": [
    "**The Population:** All Seahorses in the ocean\n",
    "\n",
    "**The sample frame:**  \n",
    "6 seahorses from the Arctic Ocean, 36 seahorses from the Pacific Ocean, 12 seahorses from the Indian Ocean, 6 seahorses from the Southern Ocean, and 42 seahorses from the Atlantic Ocean.\n",
    "\n",
    "**The Sample:** \n",
    "Randomly choose 1 seahorse from the Arctic, 6 from the Pacific, 2 from the Indian Ocean, 1 from the Southern Ocean, and 7 from the Atlantic Ocean.\n",
    "\n",
    "**The Type of Sample:**\n",
    "He uses a stratisifed sample\n",
    "\n",
    "**The quantity of interest:** \n",
    "Quantity of interest is the amount of Plankton eaten by the seahorse"
   ]
  },
  {
   "cell_type": "markdown",
   "metadata": {},
   "source": [
    "**Part B:** Poseidon repeats his sampling, again using the Hippocampus app. Now, he orders the data alphabetically by location and chooses every 3rd data value. \n",
    "    \n",
    "Identify the following: \n",
    "\n",
    "- the population \n",
    "- the sample frame \n",
    "- the sample \n",
    "- the type of sample \n",
    "- the quantity of interest"
   ]
  },
  {
   "cell_type": "markdown",
   "metadata": {},
   "source": [
    "**The Population:**\n",
    "All Seahorses in the ocean\n",
    "\n",
    "**The sample frame:**\n",
    "6 seahorses from the Arctic Ocean, 36 seahorses from the Pacific Ocean, 12 seahorses from the Indian Ocean, 6 seahorses from the Southern Ocean, and 42 seahorses from the Atlantic Ocean.\n",
    "\n",
    "**The Sample**\n",
    "Every 3rd seahorses that is chosen after it is alphabetized. \n",
    "\n",
    "**The Type of Sample:**\n",
    "Systematic Sample\n",
    "\n",
    "**The quantity of interest:**\n",
    "Quantity of interest is the amount of Planton eaten by the seahorse"
   ]
  },
  {
   "cell_type": "markdown",
   "metadata": {},
   "source": [
    "[Back to top](#top)\n",
    "\n",
    "<br>\n",
    "\n",
    "<a/ id='p2'></a>\n",
    "\n",
    "### (20 points) Problem 2\n",
    "***\n",
    "\n",
    "A method to investigate the sensitivity of the sample mean and sample median to extreme outliers and changes in the dataset is to replace one or more elements in a given dataset by a number $y$ and investigate the effect when $y$ changes. To illustrate this, consider the following dataset:\n",
    " \n",
    "$$  4.3 \\quad 5.2 \\quad 5.0 \\quad y \\quad 3.8 \\quad 4.1 \\quad 5.5 \\quad 1.9 $$\n",
    "\n",
    "\n"
   ]
  },
  {
   "cell_type": "markdown",
   "metadata": {},
   "source": [
    "**Part A:** Compute the sample mean and sample median for $y=1.5$. Then compute both quantities again for $y=6$."
   ]
  },
  {
   "cell_type": "code",
   "execution_count": 131,
   "metadata": {},
   "outputs": [
    {
     "name": "stdout",
     "output_type": "stream",
     "text": [
      "For y = 1.5\n",
      "Sample Mean is:  3.9125\n",
      "Sample Median is:  4.199999999999999\n",
      "-------------------------\n",
      "For y = 6\n",
      "Sample Mean is:  4.475\n",
      "Sample Median is:  4.65\n",
      "\n",
      "After computing the sample mean and sample meadian for 2 different y's we can see that the mean and median increase  as the y increases.\n"
     ]
    }
   ],
   "source": [
    "import statistics as st\n",
    "#this is for y  = 1.5\n",
    "dataset = [4.3, 5.2, 5.0, 1.5, 3.8, 4.1, 5.5, 1.9]\n",
    "dsmean = st.mean(dataset)\n",
    "dsmedian = st.median(dataset)\n",
    "#this is for y=6\n",
    "dataset2 = [4.3, 5.2, 5.0, 6.0, 3.8, 4.1, 5.5, 1.9]\n",
    "dsmean2 = st.mean(dataset2)\n",
    "dsmedian2 = st.median(dataset2)\n",
    "print(\"For y = 1.5\")\n",
    "print(\"Sample Mean is: \", (dsmean))\n",
    "print(\"Sample Median is: \", (dsmedian))\n",
    "print(\"-------------------------\")\n",
    "print(\"For y = 6\")\n",
    "print(\"Sample Mean is: \", (dsmean2))\n",
    "print(\"Sample Median is: \", (dsmedian2))\n",
    "print(\"\")\n",
    "print(\"After computing the sample mean and sample meadian for 2 different y's we can see that the mean and median increase  as the y increases.\")"
   ]
  },
  {
   "cell_type": "markdown",
   "metadata": {},
   "source": [
    "**Part B:** Is there a value for $y$ that would make the mean of the data equal to 6? If so, calculate the value of $y$ that makes the mean equal to 6. If not, clearly explain why not.\n",
    "    \n",
    "Is there a value for $y$ that would make the median of the data equal to 6? If so, calculate the values of $y$ that makes the median equal to 6. If not, clearly explain why not."
   ]
  },
  {
   "cell_type": "code",
   "execution_count": 132,
   "metadata": {},
   "outputs": [
    {
     "name": "stdout",
     "output_type": "stream",
     "text": [
      "-----------------------------------------------------\n",
      "Value that would make the mean of the data equal to 6\n",
      "For y = 18.2\n",
      "Sample Mean is:  6.0\n",
      "\n",
      "Value that would make the median of the data equal to 6\n",
      "For y =  10000\n",
      "Sample Median is:  4.65\n"
     ]
    }
   ],
   "source": [
    "print(\"-----------------------------------------------------\")\n",
    "# print(\"This is for part B\")\n",
    "print(\"Value that would make the mean of the data equal to 6\")\n",
    "dataset3 = [4.3, 5.2, 5.0, 18.2, 3.8, 4.1, 5.5, 1.9]\n",
    "dsmean3 = st.mean(dataset3)\n",
    "dsmedian3 = st.median(dataset3)\n",
    "print(\"For y = 18.2\")\n",
    "print(\"Sample Mean is: \", (dsmean3))\n",
    "print(\"\")\n",
    "\n",
    "\n",
    "print(\"Value that would make the median of the data equal to 6\")\n",
    "dataset4 = [4.3, 5.2, 5.0, 10000, 3.8, 4.1, 5.5, 1.9]\n",
    "dsmedian4 = st.median(dataset4)\n",
    "print(\"For y = \", (dataset4[3]))\n",
    "print(\"Sample Median is: \", (dsmedian4))"
   ]
  },
  {
   "cell_type": "markdown",
   "metadata": {},
   "source": [
    "For the mean to be 6, y = 18.2. For the median to be 6, there was no y that would satisfy the condition because once its put in ascending order, the y will not matter to find the median."
   ]
  },
  {
   "cell_type": "markdown",
   "metadata": {},
   "source": [
    "**Part C**: Compute the sample variance and the sample standard deviation for the original dataset given in part A, with $y=6$."
   ]
  },
  {
   "cell_type": "code",
   "execution_count": 133,
   "metadata": {},
   "outputs": [
    {
     "name": "stdout",
     "output_type": "stream",
     "text": [
      "Sample Variance:  1.6335714285714287\n",
      "Standard Deviation:  1.2781124475457661\n"
     ]
    }
   ],
   "source": [
    "import statistics as st\n",
    "#this is for y  = 6\n",
    "dataset = [4.3, 5.2, 5.0, 6, 3.8, 4.1, 5.5, 1.9]\n",
    "dsSV = st.variance(dataset)\n",
    "dsSTDEV = st.stdev(dataset)\n",
    "print(\"Sample Variance: \", (dsSV))\n",
    "print(\"Standard Deviation: \", (dsSTDEV))"
   ]
  },
  {
   "cell_type": "markdown",
   "metadata": {},
   "source": [
    "**Part D**: Compute the sample median for the following cases: \n",
    "- $y=5$ \n",
    "- $y=50$ \n",
    "- $y=4.36$ \n",
    "- $y \\to \\infty$ \n",
    "- $y \\to -\\infty$"
   ]
  },
  {
   "cell_type": "code",
   "execution_count": 134,
   "metadata": {},
   "outputs": [
    {
     "name": "stdout",
     "output_type": "stream",
     "text": [
      "Sample Median for y  = 5:  4.65\n",
      "Sample Median for y = 50:  4.65\n",
      "Sample Median for y = 4.36:  4.33\n",
      "Sample Median for y = ∞:  4.65\n",
      "Sample Median for y = -∞:  4.199999999999999\n"
     ]
    }
   ],
   "source": [
    "import statistics as st\n",
    "#this is for y  = 5\n",
    "dataset = [4.3, 5.2, 5.0, 5, 3.8, 4.1, 5.5, 1.9]\n",
    "dsmean = st.mean(dataset)\n",
    "dsmedian = st.median(dataset)\n",
    "print(\"Sample Median for y  = 5: \", (dsmedian))\n",
    "# print(\"Sample Mean for y  = 5: \", (dsmean))\n",
    "#this is for y = 50\n",
    "dataset2 = [4.3, 5.2, 5.0, 50, 3.8, 4.1, 5.5, 1.9]\n",
    "dsmedian2 = st.median(dataset2)\n",
    "dsmean2 = st.mean(dataset2)\n",
    "print(\"Sample Median for y = 50: \", (dsmedian2))\n",
    "# print(\"Sample Mean for y  = 5: \", (dsmean2))\n",
    "#this is for y = 4.36\n",
    "dataset3 = [4.3, 5.2, 5.0, 4.36, 3.8, 4.1, 5.5, 1.9]\n",
    "dsmedian3 = st.median(dataset3)\n",
    "dsmean3 = st.mean(dataset3)\n",
    "print(\"Sample Median for y = 4.36: \", (dsmedian3))\n",
    "# print(\"Sample mean for y = -∞: \", (dsmean3))\n",
    "#this is for y = ∞\n",
    "posINF = float('inf')\n",
    "dataset4 = [4.3, 5.2, 5.0, posINF, 3.8, 4.1, 5.5, 1.9]\n",
    "dsmedian4 = st.median(dataset4)\n",
    "dsmean4 = st.mean(dataset4)\n",
    "print(\"Sample Median for y = ∞: \", (dsmedian4))\n",
    "# print(\"Sample mean for y = -∞: \", (dsmean4))\n",
    "#this is for y = -∞\n",
    "negINF = float('-inf')\n",
    "dataset5 = [4.3, 5.2, 5.0, negINF, 3.8, 4.1, 5.5, 1.9]\n",
    "dsmedian5 = st.median(dataset5)\n",
    "dsmean5 = st.mean(dataset5)\n",
    "print(\"Sample Median for y = -∞: \", (dsmedian5))\n",
    "# print(\"Sample mean for y = -∞: \", (dsmean5))"
   ]
  },
  {
   "cell_type": "markdown",
   "metadata": {},
   "source": [
    "**Part E**: Think about the previous parts, above, and describe in words or mathematical notation the answers to the following two questions:\n",
    "\n",
    "- By varying $y$, what is the set of all the possible values that the sample mean could take on?\n",
    "- By varying $y$, what is the set of all the possible values that the sample median could take on? Specifically, for what sets of $y$ values does the median take on its different possible values?"
   ]
  },
  {
   "cell_type": "markdown",
   "metadata": {},
   "source": [
    "By varying 'y' we can see that the values of the sample mean can take on any value depending on how you take on y. For the median, it can take on the values that will range from [4.199, 4.65] and these set of value "
   ]
  },
  {
   "cell_type": "markdown",
   "metadata": {},
   "source": [
    "**Part F**: Describe in words or mathematical notation, what happens to the sample standard deviation when $y$ is varied in the following ways: \n",
    " \n",
    "- $y \\to \\infty$ \n",
    "- $y \\to \\bar{x}$\n"
   ]
  },
  {
   "cell_type": "code",
   "execution_count": 135,
   "metadata": {},
   "outputs": [
    {
     "name": "stdout",
     "output_type": "stream",
     "text": [
      "Sample STDEV for y  = 5:  nan\n"
     ]
    }
   ],
   "source": [
    "import statistics as st\n",
    "#this is for y  = ∞\n",
    "posINF = float('inf')\n",
    "dataset = [4.3, 5.2, 5.0, posINF, 3.8, 4.1, 5.5, 1.9]\n",
    "dsSTDV = st.stdev(dataset)\n",
    "print(\"Sample STDEV for y  = 5: \", (dsSTDV))"
   ]
  },
  {
   "cell_type": "markdown",
   "metadata": {},
   "source": [
    "As y gets closer to ∞, the STDEV of the sample also increases, and when the sample variance gets closer to the average, the sample aslo increases."
   ]
  },
  {
   "cell_type": "markdown",
   "metadata": {},
   "source": [
    "[Back to top](#top)\n",
    "<a/ id='p3'></a>\n",
    "\n",
    "## (20 pts) Problem 3 \n",
    "***\n",
    "\n",
    "Let $x_1, x_2, \\ldots, x_n$ be $n$ observations of a variable of interest.  Recall that the sample mean $\\bar{x}_n$ and sample variance $s^2_n$ are given by \n",
    "\n",
    "$$\n",
    "\\bar{x}_n = \\frac{1}{n}\\sum_{k=1}^n x_k \\quad \\textrm{and} \\quad s^2_n = \\frac{1}{n-1}\\sum_{k=1}^n \\left( x_k - \\bar{x}_n\\right)^2 \\qquad \\tag{Equation 1}\n",
    "$$\n",
    "\n",
    "where here the subscript $n$'s indicate the number of observations in the sample. Notice that a natural computation of the variance requires two passes over the data: one to compute the mean, and a second to subtract the mean from each observation and compute the sum of squares. It is often useful to be able to compute the variance in a single pass, inspecting each value $x_k$ only once; for example, when the data are being collected without enough storage to keep all the values, or when costs of memory access dominate those of computation. In this problem you will explore two methods for such an _online_ computation of the mean.  \n",
    "\n",
    "**Part A**: Show algebraically that the following relation holds between the mean of the first $n-1$ observations and the mean of all $n$ observations: \n",
    "\n",
    "$$\n",
    "\\bar{x}_n = \\bar{x}_{n-1} + \\frac{x_n - \\bar{x}_{n-1}}{n}\n",
    "$$\n",
    "\n",
    "Note that you can get an expression for $\\bar{x}_{n-1}$ by simply replacing $n$ in Equation 1 above with $n-1$."
   ]
  },
  {
   "cell_type": "markdown",
   "metadata": {},
   "source": [
    "$$\n",
    "\\bar{x}_n - \\bar{x}_{n-1} = \\frac{1}{n}\\sum_{k=1}^n x_k \\quad \\textrm{-} \\quad  \\frac{1}{n-1}\\sum_{k=1}^{n-1} x_k \\quad \\textrm{=} \\quad \\sum_{k=1}^{n-1} x_k (\\frac{1}{n}-\\frac{1}{n-1}) + \\frac{x_n}{n} \\quad \\textrm{=} \\quad \\bar{x}_{n-1} (\\frac{n-1}{n}-1) + \\frac{x_n}{n} \\quad \\textrm{=} \\quad \\frac{x_n - \\bar{x}_{n-1}}{n} + \\bar{x}_{n-1} \\quad \\textrm {}\n",
    "$$"
   ]
  },
  {
   "cell_type": "markdown",
   "metadata": {},
   "source": [
    "**Part B**: Write a function `my_sample_mean` that takes as its input a numpy array and returns the mean of that numpy array using the formulas from class (written above). Write another function `my_sample_var` that takes as its input a numpy array and returns the variance of that numpy array, again using the formulas from class (written above). You may **not** use any built-in sample mean or variance functions."
   ]
  },
  {
   "cell_type": "code",
   "execution_count": 136,
   "metadata": {},
   "outputs": [],
   "source": [
    "def my_sample_mean(array):\n",
    "    count = 0\n",
    "    for number in array:\n",
    "        count += number\n",
    "    mean = count/len(array)\n",
    "    return mean\n",
    "\n",
    "def my_sample_var(array):\n",
    "    x = my_sample_mean(array)\n",
    "    count = 0\n",
    "    for number in array:\n",
    "        count += (number-x)**2\n",
    "    smpleVar = count/(len(array)-1)\n",
    "    return smpleVar  "
   ]
  },
  {
   "cell_type": "markdown",
   "metadata": {},
   "source": [
    "**Part C**: Use your functions from Part B to compute the sample mean and sample variance of the following array, which contains the plankton consumed by a sample of 12 seahorses.\n",
    "\n",
    "`pla = [98, 26, 83, 56, 60, 39, 81, 19, 72, 78, 94, 42]`"
   ]
  },
  {
   "cell_type": "code",
   "execution_count": 137,
   "metadata": {},
   "outputs": [
    {
     "name": "stdout",
     "output_type": "stream",
     "text": [
      "Mean: 62.333333333333336\n",
      "Sample Var: 690.060606060606\n"
     ]
    }
   ],
   "source": [
    "pla = [98, 26, 83, 56, 60, 39, 81, 19, 72, 78, 94, 42]\n",
    "print(\"Mean:\", my_sample_mean(pla))\n",
    "print(\"Sample Var:\", my_sample_var(pla))\n"
   ]
  },
  {
   "cell_type": "markdown",
   "metadata": {},
   "source": [
    "**Part D**: Implement a third function called `update_mean` that implements the formula whose validity you proved in Part A. Note that this function will need to take as its input three things: $x_n$, $\\bar{x}_{n-1}$ and $n$. A function header is provided for you. This function may be auto-graded, so please do not change the given API - the order of inputs matters! If you change it, you might lose points.\n",
    "\n",
    "Use this function to compute the values that you get from taking the mean of the first seahorse's plankton, the first two seahorses, the first three seahorses, and so on up to all of the seahorse data points. Store your plankton means in a numpy array called `pla_means`.  Report all 12 estimates in `pla_means`."
   ]
  },
  {
   "cell_type": "code",
   "execution_count": 138,
   "metadata": {},
   "outputs": [],
   "source": [
    "# Given API:\n",
    "def update_mean(prev_mean, xn, n):\n",
    "    # your code goes here!\n",
    "    UPDM = prev_mean + ((xn - prev_mean)/n)\n",
    "    return UPDM#the updated mean"
   ]
  },
  {
   "cell_type": "markdown",
   "metadata": {},
   "source": [
    "To ensure your function complies with the given API, run this small test, where we suppose we have a mean of $\\bar{x}_n = 1$ with the first $2$ data points (`prev_mean`), and we update this with the 3rd ($n=3$) data point which is $x_3=2$:"
   ]
  },
  {
   "cell_type": "code",
   "execution_count": 139,
   "metadata": {},
   "outputs": [],
   "source": [
    "assert update_mean(1,2,3)==4/3, \"Warning: function seems broken.\""
   ]
  },
  {
   "cell_type": "code",
   "execution_count": null,
   "metadata": {},
   "outputs": [],
   "source": []
  },
  {
   "cell_type": "markdown",
   "metadata": {},
   "source": [
    "[Back to top](#top)\n",
    "\n",
    "<a/ id='p4'></a>\n",
    "\n",
    "## (25 pts) Problem 4\n",
    "*** \n",
    "Some claim that the final hours aboard the RMS Titanic were marked by \"class warfare\" in which the people with first-class tickets took all the good spots on the lifeboats; others claim that the final hours were characterized by male chivalry, in which the men valiantly gave up their positions in the boats and succumbed bravely to the depths of the Atlantic. \n",
    "\n",
    "We have the data on survival rates by class and by sex, so let's figure out whether there is evidence for these scenarios. Access the Titanic data in `titanic_data.csv` and store it in a Pandas DataFrame. The data contains information pertaining to class status (**Pclass**), survival (**Survived**), and gender (**Sex**) of passengers, among other things. Be sure to use the `titanic_data.csv` data set, *not* the `clean_titanic_data` file from the in-class notebook."
   ]
  },
  {
   "cell_type": "code",
   "execution_count": 140,
   "metadata": {},
   "outputs": [
    {
     "data": {
      "text/html": [
       "<div>\n",
       "<style scoped>\n",
       "    .dataframe tbody tr th:only-of-type {\n",
       "        vertical-align: middle;\n",
       "    }\n",
       "\n",
       "    .dataframe tbody tr th {\n",
       "        vertical-align: top;\n",
       "    }\n",
       "\n",
       "    .dataframe thead th {\n",
       "        text-align: right;\n",
       "    }\n",
       "</style>\n",
       "<table border=\"1\" class=\"dataframe\">\n",
       "  <thead>\n",
       "    <tr style=\"text-align: right;\">\n",
       "      <th></th>\n",
       "      <th>PassengerId</th>\n",
       "      <th>Survived</th>\n",
       "      <th>Pclass</th>\n",
       "      <th>Name</th>\n",
       "      <th>Sex</th>\n",
       "      <th>Age</th>\n",
       "      <th>SibSp</th>\n",
       "      <th>Parch</th>\n",
       "      <th>Ticket</th>\n",
       "      <th>Fare</th>\n",
       "      <th>Cabin</th>\n",
       "      <th>Embarked</th>\n",
       "    </tr>\n",
       "  </thead>\n",
       "  <tbody>\n",
       "    <tr>\n",
       "      <th>0</th>\n",
       "      <td>1</td>\n",
       "      <td>0</td>\n",
       "      <td>3</td>\n",
       "      <td>Braund, Mr. Owen Harris</td>\n",
       "      <td>male</td>\n",
       "      <td>36.0</td>\n",
       "      <td>1</td>\n",
       "      <td>0</td>\n",
       "      <td>A/5 21171</td>\n",
       "      <td>7.2500</td>\n",
       "      <td>NaN</td>\n",
       "      <td>S</td>\n",
       "    </tr>\n",
       "    <tr>\n",
       "      <th>1</th>\n",
       "      <td>2</td>\n",
       "      <td>1</td>\n",
       "      <td>1</td>\n",
       "      <td>Cumings, Mrs. John Bradley (Florence Briggs Th...</td>\n",
       "      <td>female</td>\n",
       "      <td>18.0</td>\n",
       "      <td>1</td>\n",
       "      <td>0</td>\n",
       "      <td>PC 17599</td>\n",
       "      <td>71.2833</td>\n",
       "      <td>C85</td>\n",
       "      <td>C</td>\n",
       "    </tr>\n",
       "    <tr>\n",
       "      <th>2</th>\n",
       "      <td>3</td>\n",
       "      <td>1</td>\n",
       "      <td>3</td>\n",
       "      <td>Heikkinen, Miss. Laina</td>\n",
       "      <td>female</td>\n",
       "      <td>14.0</td>\n",
       "      <td>0</td>\n",
       "      <td>0</td>\n",
       "      <td>STON/O2. 3101282</td>\n",
       "      <td>7.9250</td>\n",
       "      <td>NaN</td>\n",
       "      <td>S</td>\n",
       "    </tr>\n",
       "    <tr>\n",
       "      <th>3</th>\n",
       "      <td>4</td>\n",
       "      <td>1</td>\n",
       "      <td>1</td>\n",
       "      <td>Futrelle, Mrs. Jacques Heath (Lily May Peel)</td>\n",
       "      <td>female</td>\n",
       "      <td>27.0</td>\n",
       "      <td>1</td>\n",
       "      <td>0</td>\n",
       "      <td>113803</td>\n",
       "      <td>53.1000</td>\n",
       "      <td>C123</td>\n",
       "      <td>S</td>\n",
       "    </tr>\n",
       "    <tr>\n",
       "      <th>4</th>\n",
       "      <td>5</td>\n",
       "      <td>0</td>\n",
       "      <td>3</td>\n",
       "      <td>Allen, Mr. William Henry</td>\n",
       "      <td>male</td>\n",
       "      <td>63.0</td>\n",
       "      <td>0</td>\n",
       "      <td>0</td>\n",
       "      <td>373450</td>\n",
       "      <td>8.0500</td>\n",
       "      <td>NaN</td>\n",
       "      <td>S</td>\n",
       "    </tr>\n",
       "  </tbody>\n",
       "</table>\n",
       "</div>"
      ],
      "text/plain": [
       "   PassengerId  Survived  Pclass  \\\n",
       "0            1         0       3   \n",
       "1            2         1       1   \n",
       "2            3         1       3   \n",
       "3            4         1       1   \n",
       "4            5         0       3   \n",
       "\n",
       "                                                Name     Sex   Age  SibSp  \\\n",
       "0                            Braund, Mr. Owen Harris    male  36.0      1   \n",
       "1  Cumings, Mrs. John Bradley (Florence Briggs Th...  female  18.0      1   \n",
       "2                             Heikkinen, Miss. Laina  female  14.0      0   \n",
       "3       Futrelle, Mrs. Jacques Heath (Lily May Peel)  female  27.0      1   \n",
       "4                           Allen, Mr. William Henry    male  63.0      0   \n",
       "\n",
       "   Parch            Ticket     Fare Cabin Embarked  \n",
       "0      0         A/5 21171   7.2500   NaN        S  \n",
       "1      0          PC 17599  71.2833   C85        C  \n",
       "2      0  STON/O2. 3101282   7.9250   NaN        S  \n",
       "3      0            113803  53.1000  C123        S  \n",
       "4      0            373450   8.0500   NaN        S  "
      ]
     },
     "execution_count": 140,
     "metadata": {},
     "output_type": "execute_result"
    }
   ],
   "source": [
    "df = pd.read_csv(\"titanic_data.csv\")\n",
    "df.head()"
   ]
  },
  {
   "cell_type": "markdown",
   "metadata": {},
   "source": [
    "**Part A**: Consider the two claims: class warfare, and male chivalry. Suppose that class warfare occurred in the final hours aboard the Titanic.  What patterns might you expect to see in the data?  Suppose that male chivalry was widespread during the final hours instead. What patterns might you then expect to see in the data?  Explain both of these hypothesized patterns in words. Are these two hypotheses mutually exclusive or not?"
   ]
  },
  {
   "cell_type": "markdown",
   "metadata": {},
   "source": [
    "If we suppose that class warfare occurred in the final hours, some patterns that one can expect to see is that memebers from the same class would have a higher survival rate (as long as they beat the other classes). Another pattern that we can see is that there can be low survival rates if they were the ones outed by the other classes.\n",
    "\n",
    "During the final hours, if male chivalry was widespread, then during those final hours there would be more females who survived.\n",
    "\n",
    "If class warfare was to happen, then make chivalry could still be present, or one can be present and the other cannnot. This would make these two events not exclsive. "
   ]
  },
  {
   "cell_type": "markdown",
   "metadata": {},
   "source": [
    "**Part B**: Use Pandas (see: `dropna`) methods to create a clean data set by removing any rows from the DataFrame that are missing values corresponding to **Survived**, **Pclass**, **Age**, or **Sex**. Store the clean data in a DataFrame called dfTitanic. Be sure to show any exploratory work determining if/where there are rows with missing values."
   ]
  },
  {
   "cell_type": "code",
   "execution_count": 141,
   "metadata": {},
   "outputs": [
    {
     "data": {
      "text/html": [
       "<div>\n",
       "<style scoped>\n",
       "    .dataframe tbody tr th:only-of-type {\n",
       "        vertical-align: middle;\n",
       "    }\n",
       "\n",
       "    .dataframe tbody tr th {\n",
       "        vertical-align: top;\n",
       "    }\n",
       "\n",
       "    .dataframe thead th {\n",
       "        text-align: right;\n",
       "    }\n",
       "</style>\n",
       "<table border=\"1\" class=\"dataframe\">\n",
       "  <thead>\n",
       "    <tr style=\"text-align: right;\">\n",
       "      <th></th>\n",
       "      <th>PassengerId</th>\n",
       "      <th>Survived</th>\n",
       "      <th>Pclass</th>\n",
       "      <th>Name</th>\n",
       "      <th>Sex</th>\n",
       "      <th>Age</th>\n",
       "      <th>SibSp</th>\n",
       "      <th>Parch</th>\n",
       "      <th>Ticket</th>\n",
       "      <th>Fare</th>\n",
       "      <th>Cabin</th>\n",
       "      <th>Embarked</th>\n",
       "    </tr>\n",
       "  </thead>\n",
       "  <tbody>\n",
       "    <tr>\n",
       "      <th>0</th>\n",
       "      <td>1</td>\n",
       "      <td>0</td>\n",
       "      <td>3</td>\n",
       "      <td>Braund, Mr. Owen Harris</td>\n",
       "      <td>male</td>\n",
       "      <td>36.0</td>\n",
       "      <td>1</td>\n",
       "      <td>0</td>\n",
       "      <td>A/5 21171</td>\n",
       "      <td>7.2500</td>\n",
       "      <td>NaN</td>\n",
       "      <td>S</td>\n",
       "    </tr>\n",
       "    <tr>\n",
       "      <th>1</th>\n",
       "      <td>2</td>\n",
       "      <td>1</td>\n",
       "      <td>1</td>\n",
       "      <td>Cumings, Mrs. John Bradley (Florence Briggs Th...</td>\n",
       "      <td>female</td>\n",
       "      <td>18.0</td>\n",
       "      <td>1</td>\n",
       "      <td>0</td>\n",
       "      <td>PC 17599</td>\n",
       "      <td>71.2833</td>\n",
       "      <td>C85</td>\n",
       "      <td>C</td>\n",
       "    </tr>\n",
       "    <tr>\n",
       "      <th>2</th>\n",
       "      <td>3</td>\n",
       "      <td>1</td>\n",
       "      <td>3</td>\n",
       "      <td>Heikkinen, Miss. Laina</td>\n",
       "      <td>female</td>\n",
       "      <td>14.0</td>\n",
       "      <td>0</td>\n",
       "      <td>0</td>\n",
       "      <td>STON/O2. 3101282</td>\n",
       "      <td>7.9250</td>\n",
       "      <td>NaN</td>\n",
       "      <td>S</td>\n",
       "    </tr>\n",
       "    <tr>\n",
       "      <th>3</th>\n",
       "      <td>4</td>\n",
       "      <td>1</td>\n",
       "      <td>1</td>\n",
       "      <td>Futrelle, Mrs. Jacques Heath (Lily May Peel)</td>\n",
       "      <td>female</td>\n",
       "      <td>27.0</td>\n",
       "      <td>1</td>\n",
       "      <td>0</td>\n",
       "      <td>113803</td>\n",
       "      <td>53.1000</td>\n",
       "      <td>C123</td>\n",
       "      <td>S</td>\n",
       "    </tr>\n",
       "    <tr>\n",
       "      <th>4</th>\n",
       "      <td>5</td>\n",
       "      <td>0</td>\n",
       "      <td>3</td>\n",
       "      <td>Allen, Mr. William Henry</td>\n",
       "      <td>male</td>\n",
       "      <td>63.0</td>\n",
       "      <td>0</td>\n",
       "      <td>0</td>\n",
       "      <td>373450</td>\n",
       "      <td>8.0500</td>\n",
       "      <td>NaN</td>\n",
       "      <td>S</td>\n",
       "    </tr>\n",
       "  </tbody>\n",
       "</table>\n",
       "</div>"
      ],
      "text/plain": [
       "   PassengerId  Survived  Pclass  \\\n",
       "0            1         0       3   \n",
       "1            2         1       1   \n",
       "2            3         1       3   \n",
       "3            4         1       1   \n",
       "4            5         0       3   \n",
       "\n",
       "                                                Name     Sex   Age  SibSp  \\\n",
       "0                            Braund, Mr. Owen Harris    male  36.0      1   \n",
       "1  Cumings, Mrs. John Bradley (Florence Briggs Th...  female  18.0      1   \n",
       "2                             Heikkinen, Miss. Laina  female  14.0      0   \n",
       "3       Futrelle, Mrs. Jacques Heath (Lily May Peel)  female  27.0      1   \n",
       "4                           Allen, Mr. William Henry    male  63.0      0   \n",
       "\n",
       "   Parch            Ticket     Fare Cabin Embarked  \n",
       "0      0         A/5 21171   7.2500   NaN        S  \n",
       "1      0          PC 17599  71.2833   C85        C  \n",
       "2      0  STON/O2. 3101282   7.9250   NaN        S  \n",
       "3      0            113803  53.1000  C123        S  \n",
       "4      0            373450   8.0500   NaN        S  "
      ]
     },
     "execution_count": 141,
     "metadata": {},
     "output_type": "execute_result"
    }
   ],
   "source": [
    "dfTitanic = df.dropna(subset=['Survived', 'Pclass', 'Age', 'Sex'])\n",
    "#using dropna, it will it will go through all the columns\n",
    "#to check if NaN is present, and if it is it will be dropped\n",
    "dfTitanic.head()"
   ]
  },
  {
   "cell_type": "markdown",
   "metadata": {},
   "source": [
    "**Part C**: Compute the fraction of survivors according to class and gender. There are 3 passenger classes and 2 sexes in the data set, so you should report all 6 possible combinations.  Then, answer 3 questions:\n",
    "* **(i)** Within each passenger class, were men or women more/less/equally likely to survive?\n",
    "* **(ii)**  Looking at only the male or only the female passengers, how is passenger class related to the category's survival rate?\n",
    "* **(iii)**  Did men in first class or women in third class have a higher survival rate? "
   ]
  },
  {
   "cell_type": "code",
   "execution_count": 142,
   "metadata": {},
   "outputs": [
    {
     "name": "stdout",
     "output_type": "stream",
     "text": [
      "Class 1 male Survivors: 0.3333333333333333\n",
      "Class 1 female Survivors: 0.6666666666666666\n",
      "\n",
      "Class 2 male Survivors: 0.22857142857142856\n",
      "Class 2 female Survivors: 0.7714285714285715\n",
      "\n",
      "Class 3 male Survivors: 0.38613861386138615\n",
      "Class 3 female Survivors: 0.6138613861386139\n"
     ]
    }
   ],
   "source": [
    "#Your code\n",
    "class1males =dfTitanic.loc[(dfTitanic['Sex']=='male') & (dfTitanic['Survived']>0) &(dfTitanic['Pclass']==1),]\n",
    "class1females =dfTitanic.loc[(dfTitanic['Sex']=='female') & (dfTitanic['Survived']>0) &(dfTitanic['Pclass']==1),]\n",
    "\n",
    "class2males =dfTitanic.loc[(dfTitanic['Sex']=='male') & (dfTitanic['Survived']>0) &(dfTitanic['Pclass']==2),]\n",
    "class2females =dfTitanic.loc[(dfTitanic['Sex']=='female') & (dfTitanic['Survived']>0) &(dfTitanic['Pclass']==2),]\n",
    "\n",
    "class3males =dfTitanic.loc[(dfTitanic['Sex']=='male') & (dfTitanic['Survived']>0) &(dfTitanic['Pclass']==3),]\n",
    "class3females =dfTitanic.loc[(dfTitanic['Sex']=='female') & (dfTitanic['Survived']>0) &(dfTitanic['Pclass']==3),]\n",
    "\n",
    "c1 = dfTitanic.loc[(dfTitanic['Pclass']==1)&dfTitanic['Survived']>0]\n",
    "c2 = dfTitanic.loc[(dfTitanic['Pclass']==2)&dfTitanic['Survived']>0]\n",
    "c3 = dfTitanic.loc[(dfTitanic['Pclass']==3)&dfTitanic['Survived']>0]\n",
    "\n",
    "print(\"Class 1 male Survivors:\", (len(class1males)/len(c1)))\n",
    "print(\"Class 1 female Survivors:\", (len(class1females)/len(c1)))\n",
    "print(\"\")\n",
    "print(\"Class 2 male Survivors:\", (len(class2males)/len(c2)))\n",
    "print(\"Class 2 female Survivors:\", (len(class2females)/len(c2)))\n",
    "print(\"\")\n",
    "print(\"Class 3 male Survivors:\", (len(class3males)/len(c3)))\n",
    "print(\"Class 3 female Survivors:\", (len(class3females)/len(c3)))"
   ]
  },
  {
   "cell_type": "markdown",
   "metadata": {},
   "source": [
    "i) After computing each class, more females are likely to survive.\n",
    "\n",
    "ii) The highest chance to survive if you were a male is if you were in class 3, and if you were a female the best class to survive in would be in class 2.\n",
    "\n",
    "iii) Women who were in the third class had a much higher chance of surviving. "
   ]
  },
  {
   "cell_type": "markdown",
   "metadata": {},
   "source": [
    "**Part D**: Plot a histogram of all of the passenger ages, using the bin edges $[0,5,10,\\ldots,70,75,80]$ defined by `my_bins` below. How would you characterize the distribution of **AGE**? (By _characterize_ we mean that you should indicate whether the data are unimodal, bimodal, multimodal, symmetric, negatively skewed, positively skewed, etc.)  Be sure to label your axes and use your figure to justify your conclusions."
   ]
  },
  {
   "cell_type": "code",
   "execution_count": 143,
   "metadata": {},
   "outputs": [
    {
     "data": {
      "text/plain": [
       "Text(0, 0.5, 'Count')"
      ]
     },
     "execution_count": 143,
     "metadata": {},
     "output_type": "execute_result"
    },
    {
     "data": {
      "image/png": "[encoded data removed]",
      "text/plain": [
       "<Figure size 576x288 with 1 Axes>"
      ]
     },
     "metadata": {
      "needs_background": "light"
     },
     "output_type": "display_data"
    }
   ],
   "source": [
    "import matplotlib.pylab as plt\n",
    "\n",
    "my_bins = range(0,85,5)\n",
    "fig, ax = plt.subplots(figsize=(8,4))\n",
    "\n",
    "dfTitanic.hist(column=\"Age\", ax=ax, bins=my_bins, facecolor=\"green\")\n",
    "ax.set_title(\"Distribution of Age\", fontsize=20)\n",
    "ax.set_xlabel(\"Age (years)\", fontsize=16)\n",
    "ax.set_ylabel(\"Count\", fontsize=16)"
   ]
  },
  {
   "cell_type": "markdown",
   "metadata": {},
   "source": [
    "The distribution of age would be characterized as bimodal because it comes up to two peaks. This graph would also be positively skewed because most of the dataset is high on the left side and once it moves onto the right it starts decreasing after the peak."
   ]
  },
  {
   "cell_type": "markdown",
   "metadata": {},
   "source": [
    "**Part E**: One might wonder how a passenger's age is related to the likelihood that they would survive the Titanic disaster. To answer this question graphically, plot two density histograms on the same set of axes, showing the distribution of the ages of passengers who survived, and the distribution of the ages of passengers who did not. \n",
    "* Use the bin edges $[0,5,10,\\ldots,70,75,80]$ for both histograms.\n",
    "* This problem is about a *ship* sinking in the *ocean*, so use **coral** and **seagreen** as the facecolors for your histogram boxes.\n",
    "* Plot both histograms on a single set of axes (there should be only one panel in the figure you create), but use Matplotlib/Pandas plotting functionality to make the faces of the histogram boxes somewhat transparent, so both histograms are visible.\n",
    "* Include a legend and label your axes.\n",
    "* Comment on the results. Does your figure suggest that some age ranges are more or less likely to have survived the disaster than other ages? Fully explain your reasoning and use your figure to justify your conclusions.\n",
    "* If you noticed some relationship between age and likelihood of survival, what is one possible explanation?"
   ]
  },
  {
   "cell_type": "code",
   "execution_count": 144,
   "metadata": {},
   "outputs": [
    {
     "data": {
      "image/png": "[encoded data removed]",
      "text/plain": [
       "<Figure size 576x288 with 1 Axes>"
      ]
     },
     "metadata": {
      "needs_background": "light"
     },
     "output_type": "display_data"
    }
   ],
   "source": [
    "#Your code\n",
    "fig, ax = plt.subplots(figsize=(8,4))\n",
    "dfTitanic.loc[dfTitanic[\"Survived\"]==1].hist(column=\"Age\", ax=ax, facecolor=\"black\", edgecolor=\"white\", alpha=0.6, bins=my_bins, density=True)\n",
    "dfTitanic.loc[dfTitanic[\"Survived\"]==0].hist(column=\"Age\", ax=ax, facecolor=\"yellow\", edgecolor=\"white\", alpha=0.5, bins=my_bins, density=True)\n",
    "ax.set_title(\"Passanegers Age\", fontsize=16)\n",
    "ax.set_xlabel(\"Age(years)\", fontsize=16)\n",
    "ax.set_ylabel(\"Passanger Distribution\", fontsize=16)\n",
    "ax.legend([\"Survived\", \"Dead\"]);\n",
    "ax.set_axisbelow(True)"
   ]
  },
  {
   "cell_type": "markdown",
   "metadata": {},
   "source": [
    "From looking at the graph, we can see that from ages 20-30, both genders were more likely to survive than the ones who sunk. You can see this by the **survived** bar exceeding the **dead** bar. This could be due to the people who survived be in better physical health. Therefore that gives them an advantage to surviving at between those ages."
   ]
  },
  {
   "cell_type": "markdown",
   "metadata": {},
   "source": [
    "**Part F:** In Part E, we plotted two *density* histograms, showing the distributions of ages of passengers that survived or did not survive the Titanic disaster. Why would it be misleading for us to have plotted these as *frequency* histograms instead?"
   ]
  },
  {
   "cell_type": "markdown",
   "metadata": {},
   "source": [
    "By plotting the two density histograms as frequency histograms, it would be misleading because a frequency histogram will give you a set number for our data. We don't want a set number because we want to see how our data affects population, therefore giving us the percentage at a given rate."
   ]
  },
  {
   "cell_type": "markdown",
   "metadata": {},
   "source": [
    "**Part G**: Do the data suggest class warfare, male chivalry, or some combination of both characteristics in the final hours aboard the Titanic?  Justify your conclusion based on the computations done above, or do any other analysis that you like, but be sure to clearly justify your conclusion. "
   ]
  },
  {
   "cell_type": "markdown",
   "metadata": {},
   "source": [
    "From the data set, we can see that it suggests that there were class warfare and male chivalry. We can see this because the higher classes had the higher chance of surviving within the same gender. And males of any class did not have the same survival chance of females from any class."
   ]
  },
  {
   "cell_type": "markdown",
   "metadata": {},
   "source": [
    "[Back to top](#top)\n",
    "<a/ id='p5'></a>\n",
    "\n",
    "## (25 pts) Problem 5 (monthly patterns)\n",
    "***\n",
    "\n",
    "NOAA's Physical Sciences division (https://www.esrl.noaa.gov/psd) houses an enormous amount of weather data.  Load `hw1BoulderPPT.csv` from the course page for the last 100 years of monthly precipitation data from Boulder.\n",
    "\n",
    "#### a) When the amount of precipitation was nonzero but too small to be recorded, this data set recorded `tr`.  Replace these with zeroes."
   ]
  },
  {
   "cell_type": "code",
   "execution_count": 145,
   "metadata": {},
   "outputs": [],
   "source": [
    "# %matplotlib inline\n",
    "file_path = '../Hw1/hw1BoulderPPT.csv'\n",
    "df = pd.read_csv(file_path)\n",
    "df.replace(\"Tr\", \"0\", inplace=True)"
   ]
  },
  {
   "cell_type": "markdown",
   "metadata": {},
   "source": [
    "#### b) Generate a series of 12 box plots with month as the x axis and precipitation on the y-axis."
   ]
  },
  {
   "cell_type": "code",
   "execution_count": 146,
   "metadata": {},
   "outputs": [
    {
     "data": {
      "text/plain": [
       "<matplotlib.axes._subplots.AxesSubplot at 0x116f754a8>"
      ]
     },
     "execution_count": 146,
     "metadata": {},
     "output_type": "execute_result"
    },
    {
     "data": {
      "image/png": "[encoded data removed]",
      "text/plain": [
       "<Figure size 432x288 with 1 Axes>"
      ]
     },
     "metadata": {
      "needs_background": "light"
     },
     "output_type": "display_data"
    }
   ],
   "source": [
    "df = df.astype(float)\n",
    "df.boxplot(['JAN', 'FEB', 'MAR', 'APR', 'MAY', 'JUN', 'JUL', 'AUG', 'SEP', 'OCT', 'NOV', 'DEC'])"
   ]
  },
  {
   "cell_type": "markdown",
   "metadata": {},
   "source": [
    "\n",
    "#### c) Atmospheric scientists love to group months seasonally, breaking the year into a Winter season including December, January, February; a Spring included March, April, and May; and so forth. Generate a series of 4 box plots with season as the x axis and precipitation on the y-axis.  How does folding March-April-May into one variable change the mean and standard deviation compared to the data for just April?\n",
    "\n"
   ]
  },
  {
   "cell_type": "code",
   "execution_count": 147,
   "metadata": {},
   "outputs": [
    {
     "data": {
      "text/plain": [
       "<matplotlib.axes._subplots.AxesSubplot at 0x116f149e8>"
      ]
     },
     "execution_count": 147,
     "metadata": {},
     "output_type": "execute_result"
    },
    {
     "data": {
      "image/png": "[encoded data removed]",
      "text/plain": [
       "<Figure size 432x288 with 1 Axes>"
      ]
     },
     "metadata": {
      "needs_background": "light"
     },
     "output_type": "display_data"
    }
   ],
   "source": [
    "groupsbySeason={'DEC':'Winter', 'JAN':'Winter', \n",
    "                'FEB':'Winter', 'MAR':'Spring', \n",
    "                'APR':'Spring', 'MAY':'Spring', \n",
    "                'JUN':'Summer', 'JUL':'Summer',\n",
    "                'AUG':'Summer', 'SEP':'Fall',\n",
    "                'OCT':'Fall', 'NOV':'Fall'}\n",
    "typeofGroup = df.set_index('Year')\n",
    "dfGroupFloats =typeofGroup.astype(float)\n",
    "dfGroupFloats = dfGroupFloats.groupby(groupsbySeason,  axis= 1).mean()\n",
    "dfGroupFloats.boxplot()"
   ]
  },
  {
   "cell_type": "markdown",
   "metadata": {},
   "source": [
    "#### d) Create a density histogram of the September precipitation.  Classify and describe this histogram.  Find the data point associated with September, 2013, and recreate your histogram with that value in a different color or otherwise clearly marked."
   ]
  },
  {
   "cell_type": "code",
   "execution_count": 148,
   "metadata": {},
   "outputs": [
    {
     "data": {
      "image/png": "[encoded data removed]",
      "text/plain": [
       "<Figure size 576x288 with 1 Axes>"
      ]
     },
     "metadata": {
      "needs_background": "light"
     },
     "output_type": "display_data"
    }
   ],
   "source": [
    "#code cell; use markdown cell after this for explanation.\n",
    "fig, ax = plt.subplots(figsize=(8,4))\n",
    "SepPrec = df.loc[:, 'SEP']\n",
    "SepPrec = SepPrec.astype(float)\n",
    "SepPrec.hist(ax=ax, density=True)\n",
    "ax.patches[9].set_fc('r')\n",
    "ax.set_title(\"Prec. Hist. for September\", fontsize=20)\n",
    "ax.set_xlabel(\"Precipitation Amount\", fontsize=16)\n",
    "ax.set_ylabel(\"Frequency\", fontsize=16)\n",
    "ax.grid(alpha=0.25)\n",
    "ax.set_axisbelow(True)"
   ]
  },
  {
   "cell_type": "markdown",
   "metadata": {},
   "source": [
    "#### e) Calculute the mean and standard deviation of the September precipitation in this set.  Create a Tukey 5 number summary of the September precipitation.  What are a couple of advantages and disadvantages of these numerical summaries compared to each other on this subset of the data?  Why?"
   ]
  },
  {
   "cell_type": "code",
   "execution_count": 149,
   "metadata": {},
   "outputs": [
    {
     "name": "stdout",
     "output_type": "stream",
     "text": [
      "Mean for Sep. precipitation: 1.6581999999999997\n",
      "STDEV fro Sep. precipitation: 2.0695973257880604\n",
      "Tukey 5 Number Summary\n",
      " Min:0.0\n",
      " Q1:0.5549999999999999\n",
      " MED:1.17\n",
      " Q3:2.2300000000000004\n",
      " MAX:18.16\n",
      "\n"
     ]
    }
   ],
   "source": [
    "#code cell for calculations\n",
    "print(\"Mean for Sep. precipitation: \" + str(SepPrec.mean()))\n",
    "print(\"STDEV fro Sep. precipitation: \" + str(SepPrec.std()))\n",
    "\n",
    "tukeyCalc = np.percentile(SepPrec, [0, 25, 50, 75, 100], interpolation = 'midpoint')\n",
    "print(\"Tukey 5 Number Summary\\n Min:{}\\n Q1:{}\\n MED:{}\\n Q3:{}\\n MAX:{}\\n\".format(*tukeyCalc))"
   ]
  },
  {
   "cell_type": "markdown",
   "metadata": {},
   "source": [
    "**Mean and Standard Deviation**\n",
    "\n",
    "| Advantages | Disadvantages |\n",
    "| --- | --- |\n",
    "| 1A- The mean allows you to see a trend of the whole data set| 1D- Skewed by Outliers|\n",
    "| 2A-With the standard deviation, it is a good way for the data variation to be measured | 2D- Skewed by outliers |\n",
    "\n",
    "**Tukey 5-Number**\n",
    "\n",
    "| Advantages | Disadvantages |\n",
    "| --- | --- |\n",
    "| 1A- When the whole data is available, the whole outliers are better represented.| 1D- There is no good way to see the trend. |\n",
    "| 2A- The median isnt affected by outliers. | 2D- There is no representation of a large gab between last bins |"
   ]
  },
  {
   "cell_type": "markdown",
   "metadata": {},
   "source": [
    "[Back to top](#top)\n",
    "<a/ id='p6'></a>\n",
    "\n",
    "## (25 pts) Problem 6\n",
    "***\n",
    "In problem 3, we generated an interesting theoretical result and then verified how it worked on a given data set.  Sometimes it's easier to just see what happens on a variety of data than manipulate sums directly!  Consider the following 3 data sets:\n",
    "\n",
    "`A=[0,1,2,3,4,5,6,7,8,9]`\n",
    "\n",
    "`B=[0,0,0,12,7,18,47,25,0,13]`\n",
    "\n",
    "`C` is the random data set generated by using `np.random.randint(0,1000, size=100)`\n",
    "\n",
    "For each data set, perform the following computations:\n",
    "#### a) Compute and print the mean and standard deviation of the data set.\n"
   ]
  },
  {
   "cell_type": "code",
   "execution_count": 150,
   "metadata": {},
   "outputs": [
    {
     "name": "stdout",
     "output_type": "stream",
     "text": [
      "-----------Data Set A------------------\n",
      "Mean for A: 4.5\n",
      "STDEV for A: 3.0276503540974917\n",
      "-----------Data Set B------------------\n",
      "Mean for B: 12.2\n",
      "STDEV for B 15.024424559141467\n",
      "-----------Data Set C------------------\n",
      "Mean for C: 518\n",
      "Mean for C: 272.73430293969255\n",
      "---------------------------------------\n"
     ]
    }
   ],
   "source": [
    "import statistics as st\n",
    "import numpy as np\n",
    "import random\n",
    "print(\"-----------Data Set A------------------\")\n",
    "datasetA = [0,1,2,3,4,5,6,7,8,9]\n",
    "meanA = st.mean(datasetA)\n",
    "stdvA = st.stdev(datasetA)\n",
    "print(\"Mean for A:\", (meanA))\n",
    "print(\"STDEV for A:\", (stdvA))\n",
    "print(\"-----------Data Set B------------------\")\n",
    "datasetB = [0,0,0,12,7,18,47,25,0,13]\n",
    "meanB = st.mean(datasetB)\n",
    "stdvB = st.stdev(datasetB)\n",
    "print(\"Mean for B:\", (meanB))\n",
    "print(\"STDEV for B\", (stdvB))\n",
    "print(\"-----------Data Set C------------------\")\n",
    "datasetC = np.random.randint(0,1000, size=100)\n",
    "meanC = st.mean(datasetC)\n",
    "stdvC = st.stdev(datasetC)\n",
    "print(\"Mean for C:\" ,(meanC))\n",
    "print(\"Mean for C:\" ,(stdvC))\n",
    "print(\"---------------------------------------\")\n",
    "\n",
    "\n",
    "\n",
    "\n"
   ]
  },
  {
   "cell_type": "markdown",
   "metadata": {},
   "source": [
    "\n",
    "#### b) Compute and print  the mean and standard deviation of the new data set formed by subtracting the original mean from each observation.\n"
   ]
  },
  {
   "cell_type": "code",
   "execution_count": 151,
   "metadata": {},
   "outputs": [
    {
     "name": "stdout",
     "output_type": "stream",
     "text": [
      "-----------Data Set A------------------\n",
      "New Data Set for A\n",
      "[-4.5 -3.5 -2.5 -1.5 -0.5  0.5  1.5  2.5  3.5  4.5]\n",
      "Mean for new dataset A: 0.0\n",
      "STDEV for new dataset A: 3.0276503540974917\n",
      "\n",
      "-----------Data Set B------------------\n",
      "New Data Set for B\n",
      "[-12.2 -12.2 -12.2  -0.2  -5.2   5.8  34.8  12.8 -12.2   0.8]\n",
      "Mean for new dataset B: 3.552713678800501e-16\n",
      "STDEV for new dataset B 15.024424559141467\n",
      "\n",
      "-----------Data Set C------------------\n",
      "New Data Set for C\n",
      "[ 140   11 -145 -438 -350 -105  352 -416 -444  106  463 -228   26 -466\n",
      " -492  -88 -384 -189  -85  434   55 -335 -102   18  -71  -99  319  287\n",
      " -131 -145 -111  494  -73  -69  137   15  213   28  169 -504  133  349\n",
      " -369   96  467 -186  178 -271  322   84 -426  -10 -415 -245   15   54\n",
      "  475    7 -216  226 -184  211  445 -224  139  117  209 -350  199  -63\n",
      "  -98  -18  401  415 -121  477   61  406  -26  143  240 -200  -55   69\n",
      "  209  411  -93   -2 -260   77  255 -501 -379  456 -309 -201   79 -228\n",
      "  426 -104]\n",
      "Mean for C: 0\n",
      "Mean for C: 270.67877641218934\n",
      "---------------------------------------\n"
     ]
    }
   ],
   "source": [
    "import statistics as st\n",
    "import numpy as np\n",
    "import random\n",
    "print(\"-----------Data Set A------------------\")\n",
    "datasetA = [0,1,2,3,4,5,6,7,8,9]\n",
    "meanA = st.mean(datasetA)\n",
    "stdvA = st.stdev(datasetA)\n",
    "print(\"New Data Set for A\")\n",
    "newDA = np.subtract(datasetA, meanA)\n",
    "print(newDA)\n",
    "meanNewA = st.mean(newDA)\n",
    "newSTDVA = st.stdev(newDA)\n",
    "print(\"Mean for new dataset A:\", (meanNewA))\n",
    "print(\"STDEV for new dataset A:\", (newSTDVA))\n",
    "print(\"\")\n",
    "print(\"-----------Data Set B------------------\")\n",
    "datasetB = [0,0,0,12,7,18,47,25,0,13]\n",
    "meanB = st.mean(datasetB)\n",
    "stdvB = st.stdev(datasetB)\n",
    "print(\"New Data Set for B\")\n",
    "newDB = np.subtract(datasetB, meanB)\n",
    "print(newDB)\n",
    "meanNewB = st.mean(newDB)\n",
    "newSTDVB = st.stdev(newDB)\n",
    "print(\"Mean for new dataset B:\", (meanNewB))\n",
    "print(\"STDEV for new dataset B\", (newSTDVB))\n",
    "print(\"\")\n",
    "print(\"-----------Data Set C------------------\")\n",
    "datasetC = np.random.randint(0,1000, size=100)\n",
    "meanC = st.mean(datasetC)\n",
    "stdvC = st.stdev(datasetC)\n",
    "print(\"New Data Set for C\")\n",
    "newDC = np.subtract(datasetC, meanC)\n",
    "print(newDC)\n",
    "meanNewC = st.mean(newDC)\n",
    "newSTDVC = st.stdev(newDC)\n",
    "print(\"Mean for C:\" ,(meanNewC))\n",
    "print(\"Mean for C:\" ,(newSTDVC))\n",
    "print(\"---------------------------------------\")\n",
    "\n"
   ]
  },
  {
   "cell_type": "markdown",
   "metadata": {},
   "source": [
    "\n",
    "#### c) Compute and print  the mean and standard deviation of the new data set formed by subtracting the original mean from each observation and then dividing by the original standard deviation.\n",
    "\n"
   ]
  },
  {
   "cell_type": "code",
   "execution_count": 152,
   "metadata": {},
   "outputs": [
    {
     "name": "stdout",
     "output_type": "stream",
     "text": [
      "-----------Data Set A------------------\n",
      "New Data Set for A\n",
      "[-1.48630108 -1.15601195 -0.82572282 -0.49543369 -0.16514456  0.16514456\n",
      "  0.49543369  0.82572282  1.15601195  1.48630108]\n",
      "Mean for new dataset A: 0.0\n",
      "STDEV for new dataset A: 1.0\n",
      "\n",
      "-----------Data Set B------------------\n",
      "New Data Set for B\n",
      "[-0.81201113 -0.81201113 -0.81201113 -0.01331166 -0.34610311  0.38603808\n",
      "  2.31622848  0.85194611 -0.81201113  0.05324663]\n",
      "Mean for new dataset B: 4.093947403305265e-17\n",
      "STDEV for new dataset B 1.0\n",
      "\n",
      "-----------Data Set C------------------\n",
      "New Data Set for C\n",
      "[-0.29836134  1.18642511  1.6778438  -0.53705042 -1.51286752  0.00702027\n",
      "  0.52652002  0.75467869 -1.50584726  1.34438112  1.02144884  1.20046564\n",
      "  0.72659763  1.27768858  1.43213445 -0.08073307 -0.05616214  1.20397578\n",
      " -0.81435096 -0.0842432   1.6778438  -0.92667523 -1.39703312  0.97932724\n",
      "  0.9336955  -1.13026298  1.79718833  0.35803361 -0.40015521  0.00702027\n",
      " -1.63572219  1.30576965  1.15132378 -0.9231651  -0.71606723 -0.1263648\n",
      " -0.74063816 -0.67043549  1.60413099 -0.51949975 -1.42862432  0.38962481\n",
      "  0.28081068  0.8389219  -0.73361789  1.58658033 -0.73712803  1.09516164\n",
      "  1.17238458 -1.17589471  0.47035788 -0.93720564 -0.9021043  -0.62129362\n",
      " -0.0842432  -0.53354029  0.58268216  0.61427336 -0.11232427  1.57253979\n",
      " -1.03899951 -0.04563174 -1.31278992 -1.61115126 -0.61076322 -0.60725309\n",
      " -0.47035788  1.49180672  1.51988779 -0.61427336  0.1158344   0.11934454\n",
      "  0.08073307  0.13689521 -1.27417845  0.50896935 -1.30225952 -1.54796886\n",
      "  0.18603707 -1.63923233 -1.20046564  0.68096589 -0.92667523 -0.41770588\n",
      " -0.25623974 -1.13728324  0.79329016 -0.13338507 -1.56200939  1.64274246\n",
      "  0.71606723  0.71606723  0.37909441  1.35491152  0.34399308 -0.84594216\n",
      "  1.15834404 -0.9231651  -0.27730054 -1.62519179]\n",
      "Mean for C: -6.696032617270475e-18\n",
      "Mean for C: 1.0000034847316484\n",
      "---------------------------------------\n"
     ]
    }
   ],
   "source": [
    "import statistics as st\n",
    "import numpy as np\n",
    "import random\n",
    "print(\"-----------Data Set A------------------\")\n",
    "datasetA = [0,1,2,3,4,5,6,7,8,9]\n",
    "meanA = st.mean(datasetA)\n",
    "stdvA = st.stdev(datasetA)\n",
    "print(\"New Data Set for A\")\n",
    "newDA = np.subtract(datasetA, meanA)\n",
    "newDa = np.divide(newDA, stdvA)\n",
    "print(newDa)\n",
    "meanNewA = st.mean(newDa)\n",
    "newSTDVA = st.stdev(newDa)\n",
    "print(\"Mean for new dataset A:\", (meanNewA))\n",
    "print(\"STDEV for new dataset A:\", (newSTDVA))\n",
    "print(\"\")\n",
    "print(\"-----------Data Set B------------------\")\n",
    "datasetB = [0,0,0,12,7,18,47,25,0,13]\n",
    "meanB = st.mean(datasetB)\n",
    "stdvB = st.stdev(datasetB)\n",
    "print(\"New Data Set for B\")\n",
    "newDB = np.subtract(datasetB, meanB)\n",
    "newDb = np.divide(newDB, stdvB)\n",
    "print(newDb)\n",
    "meanNewB = st.mean(newDb)\n",
    "newSTDVB = st.stdev(newDb)\n",
    "print(\"Mean for new dataset B:\", (meanNewB))\n",
    "print(\"STDEV for new dataset B\", (newSTDVB))\n",
    "print(\"\")\n",
    "print(\"-----------Data Set C------------------\")\n",
    "datasetC = np.random.randint(0,1000, size=100)\n",
    "meanC = st.mean(datasetC)\n",
    "stdvC = st.stdev(datasetC)\n",
    "print(\"New Data Set for C\")\n",
    "newDC = np.subtract(datasetC, meanC)\n",
    "newDc = np.divide(newDC, stdvC)\n",
    "print(newDc)\n",
    "meanNewC = st.mean(newDc)\n",
    "newSTDVC = st.stdev(newDc)\n",
    "print(\"Mean for C:\" ,(meanNewC))\n",
    "print(\"Mean for C:\" ,(newSTDVC))\n",
    "print(\"---------------------------------------\")\n",
    "\n",
    "\n"
   ]
  },
  {
   "cell_type": "markdown",
   "metadata": {},
   "source": [
    "#### d) Why might this result matter?"
   ]
  },
  {
   "cell_type": "markdown",
   "metadata": {},
   "source": [
    "This result might matter because the mean and standard deviation can always be changing by the slightest and it helps us see how spread out the data is and it helps us show how far the points are from each mean point or how close they are.  "
   ]
  }
 ],
 "metadata": {
  "kernelspec": {
   "display_name": "Python 3",
   "language": "python",
   "name": "python3"
  },
  "language_info": {
   "codemirror_mode": {
    "name": "ipython",
    "version": 3
   },
   "file_extension": ".py",
   "mimetype": "text/x-python",
   "name": "python",
   "nbconvert_exporter": "python",
   "pygments_lexer": "ipython3",
   "version": "3.7.3"
  }
 },
 "nbformat": 4,
 "nbformat_minor": 2
}
