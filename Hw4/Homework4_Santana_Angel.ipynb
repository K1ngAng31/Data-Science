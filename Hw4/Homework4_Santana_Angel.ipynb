{
 "cells": [
  {
   "cell_type": "markdown",
   "metadata": {},
   "source": [
    "##### <a id='top'></a>\n",
    "\n",
    "# Homework 4: Confidence intervals and other things\n",
    "***\n",
    "\n",
    "**Name**: Angel Santana\n",
    "\n",
    "***\n",
    "\n",
    "This assignment is due on Moodle by **11:59 PM on Friday November 8**. Your solutions to theoretical questions should be done in Markdown/MathJax directly below the associated question.  Your solutions to computational questions should include any specified Python code and results as well as written commentary on your conclusions.  Remember that you are encouraged to discuss the problems with your instructors and classmates, but **you must write all code and solutions on your own**.  \n",
    "\n",
    "**NOTES**: \n",
    "\n",
    "- Do **NOT** load or use any Python packages that are not available in Anaconda 3.6. \n",
    "- Some problems with code may be autograded.  If we provide a function API **do not** change it.  If we do not provide a function API then you're free to structure your code however you like. \n",
    "- Because you can technically evaluate notebook cells is a non-linear order, it's a good idea to do Cell $\\rightarrow$ Run All as a check before submitting your solutions.  That way if we need to run your code you will know that it will work as expected. \n",
    "- Submit only this Jupyter notebook to Moodle.  Do not compress it using tar, rar, zip, etc. \n",
    "- This should go without saying, but... For any question that asks you to calculate something, you **must show all work to receive credit**. Sparse or nonexistent work will receive sparse or nonexistent credit.\n",
    "\n",
    "---\n",
    "**Shortcuts:**  [Problem 1](#p1) | [Problem 2](#p2) | [Problem 3](#p3) | [Problem 4](#p4)\n",
    "\n",
    "---"
   ]
  },
  {
   "cell_type": "code",
   "execution_count": 1,
   "metadata": {
    "scrolled": true
   },
   "outputs": [],
   "source": [
    "import numpy as np\n",
    "import matplotlib.pyplot as plt\n",
    "import pandas as pd\n",
    "import scipy.stats as stats\n",
    "%matplotlib inline"
   ]
  },
  {
   "cell_type": "markdown",
   "metadata": {},
   "source": [
    "---\n",
    "\n",
    "<a id='p1'></a>\n",
    "[Back to top](#top)\n",
    "\n",
    "### [30 points] Problem 1 - Are sea-levels changing?\n",
    "\n",
    "You have been contacted by the local government of New York City, to assess whether there is statistical evidence for sea-level rise in the area. You obtain from the University of Hawaii Sea Level Center's [gigantic repository of sea-level data](https://uhslc.soest.hawaii.edu/data/?rq) the daily mean sea levels file (posted on Canvas).\n",
    "\n",
    "In this problem, you will:\n",
    "1. practice calculating confidence intervals, \n",
    "1. practice wrangling a real-life data set into a form where you can actually compute these confidence intervals, because life will rarely be so kind as to simply hand you a nicely packaged and cleaned set of data, and\n",
    "1. save NYC and the Statue of Liberty from a watery fate?"
   ]
  },
  {
   "cell_type": "code",
   "execution_count": 154,
   "metadata": {},
   "outputs": [
    {
     "data": {
      "text/html": [
       "<div>\n",
       "<style scoped>\n",
       "    .dataframe tbody tr th:only-of-type {\n",
       "        vertical-align: middle;\n",
       "    }\n",
       "\n",
       "    .dataframe tbody tr th {\n",
       "        vertical-align: top;\n",
       "    }\n",
       "\n",
       "    .dataframe thead th {\n",
       "        text-align: right;\n",
       "    }\n",
       "</style>\n",
       "<table border=\"1\" class=\"dataframe\">\n",
       "  <thead>\n",
       "    <tr style=\"text-align: right;\">\n",
       "      <th></th>\n",
       "      <th>Year</th>\n",
       "      <th>Month</th>\n",
       "      <th>Day</th>\n",
       "      <th>SL</th>\n",
       "    </tr>\n",
       "  </thead>\n",
       "  <tbody>\n",
       "    <tr>\n",
       "      <th>0</th>\n",
       "      <td>1920</td>\n",
       "      <td>6</td>\n",
       "      <td>2</td>\n",
       "      <td>1593</td>\n",
       "    </tr>\n",
       "    <tr>\n",
       "      <th>1</th>\n",
       "      <td>1920</td>\n",
       "      <td>6</td>\n",
       "      <td>3</td>\n",
       "      <td>1605</td>\n",
       "    </tr>\n",
       "    <tr>\n",
       "      <th>2</th>\n",
       "      <td>1920</td>\n",
       "      <td>6</td>\n",
       "      <td>4</td>\n",
       "      <td>1617</td>\n",
       "    </tr>\n",
       "    <tr>\n",
       "      <th>3</th>\n",
       "      <td>1920</td>\n",
       "      <td>6</td>\n",
       "      <td>5</td>\n",
       "      <td>1779</td>\n",
       "    </tr>\n",
       "    <tr>\n",
       "      <th>4</th>\n",
       "      <td>1920</td>\n",
       "      <td>6</td>\n",
       "      <td>6</td>\n",
       "      <td>1722</td>\n",
       "    </tr>\n",
       "    <tr>\n",
       "      <th>5</th>\n",
       "      <td>1920</td>\n",
       "      <td>6</td>\n",
       "      <td>7</td>\n",
       "      <td>1594</td>\n",
       "    </tr>\n",
       "    <tr>\n",
       "      <th>6</th>\n",
       "      <td>1920</td>\n",
       "      <td>6</td>\n",
       "      <td>8</td>\n",
       "      <td>1639</td>\n",
       "    </tr>\n",
       "    <tr>\n",
       "      <th>7</th>\n",
       "      <td>1920</td>\n",
       "      <td>6</td>\n",
       "      <td>9</td>\n",
       "      <td>1699</td>\n",
       "    </tr>\n",
       "    <tr>\n",
       "      <th>8</th>\n",
       "      <td>1920</td>\n",
       "      <td>6</td>\n",
       "      <td>10</td>\n",
       "      <td>1690</td>\n",
       "    </tr>\n",
       "    <tr>\n",
       "      <th>9</th>\n",
       "      <td>1920</td>\n",
       "      <td>6</td>\n",
       "      <td>11</td>\n",
       "      <td>1622</td>\n",
       "    </tr>\n",
       "    <tr>\n",
       "      <th>10</th>\n",
       "      <td>1920</td>\n",
       "      <td>6</td>\n",
       "      <td>12</td>\n",
       "      <td>1610</td>\n",
       "    </tr>\n",
       "    <tr>\n",
       "      <th>11</th>\n",
       "      <td>1920</td>\n",
       "      <td>6</td>\n",
       "      <td>13</td>\n",
       "      <td>1690</td>\n",
       "    </tr>\n",
       "    <tr>\n",
       "      <th>12</th>\n",
       "      <td>1920</td>\n",
       "      <td>6</td>\n",
       "      <td>14</td>\n",
       "      <td>1696</td>\n",
       "    </tr>\n",
       "    <tr>\n",
       "      <th>13</th>\n",
       "      <td>1920</td>\n",
       "      <td>6</td>\n",
       "      <td>15</td>\n",
       "      <td>1665</td>\n",
       "    </tr>\n",
       "    <tr>\n",
       "      <th>14</th>\n",
       "      <td>1920</td>\n",
       "      <td>6</td>\n",
       "      <td>16</td>\n",
       "      <td>1739</td>\n",
       "    </tr>\n",
       "    <tr>\n",
       "      <th>15</th>\n",
       "      <td>1920</td>\n",
       "      <td>6</td>\n",
       "      <td>17</td>\n",
       "      <td>1887</td>\n",
       "    </tr>\n",
       "    <tr>\n",
       "      <th>16</th>\n",
       "      <td>1920</td>\n",
       "      <td>6</td>\n",
       "      <td>18</td>\n",
       "      <td>1914</td>\n",
       "    </tr>\n",
       "    <tr>\n",
       "      <th>17</th>\n",
       "      <td>1920</td>\n",
       "      <td>6</td>\n",
       "      <td>19</td>\n",
       "      <td>1773</td>\n",
       "    </tr>\n",
       "    <tr>\n",
       "      <th>18</th>\n",
       "      <td>1920</td>\n",
       "      <td>6</td>\n",
       "      <td>20</td>\n",
       "      <td>1724</td>\n",
       "    </tr>\n",
       "    <tr>\n",
       "      <th>19</th>\n",
       "      <td>1920</td>\n",
       "      <td>6</td>\n",
       "      <td>21</td>\n",
       "      <td>1786</td>\n",
       "    </tr>\n",
       "  </tbody>\n",
       "</table>\n",
       "</div>"
      ],
      "text/plain": [
       "    Year  Month  Day    SL\n",
       "0   1920      6    2  1593\n",
       "1   1920      6    3  1605\n",
       "2   1920      6    4  1617\n",
       "3   1920      6    5  1779\n",
       "4   1920      6    6  1722\n",
       "5   1920      6    7  1594\n",
       "6   1920      6    8  1639\n",
       "7   1920      6    9  1699\n",
       "8   1920      6   10  1690\n",
       "9   1920      6   11  1622\n",
       "10  1920      6   12  1610\n",
       "11  1920      6   13  1690\n",
       "12  1920      6   14  1696\n",
       "13  1920      6   15  1665\n",
       "14  1920      6   16  1739\n",
       "15  1920      6   17  1887\n",
       "16  1920      6   18  1914\n",
       "17  1920      6   19  1773\n",
       "18  1920      6   20  1724\n",
       "19  1920      6   21  1786"
      ]
     },
     "execution_count": 154,
     "metadata": {},
     "output_type": "execute_result"
    }
   ],
   "source": [
    "# Local and web paths to the data; pick which works for you.\n",
    "filepath = \"sealevel_newyork.csv\"\n",
    "\n",
    "dfSL = pd.read_csv(filepath, header=None)\n",
    "dfSL.rename(columns={0 : 'Year', 1 : 'Month', 2 : 'Day', 3 : 'SL'}, inplace=True)\n",
    "dfSL.head(20)"
   ]
  },
  {
   "cell_type": "markdown",
   "metadata": {},
   "source": [
    "**Part A:**  Write a function `clean_data` to:\n",
    "1. take in a single argument of a raw sea level data frame (e.g., `dfSL` above),\n",
    "2. compute the fill-value used to replace missing sea level (SL) data (**not** hard-coded!),\n",
    "3. use the Pandas `DataFrame.dropna` method to remove all missing rows of data, \n",
    "4. select only the data point on the second day of each month, and\n",
    "4. return a cleaned Pandas data frame.\n",
    "\n",
    "Use your shiny new function to clean the `dfSL` data frame and save the results in a new data frame.\n",
    "\n",
    "There is a very specific reason to sample only one daily data point per month. We will talk about it later."
   ]
  },
  {
   "cell_type": "code",
   "execution_count": 156,
   "metadata": {},
   "outputs": [
    {
     "data": {
      "text/html": [
       "<div>\n",
       "<style scoped>\n",
       "    .dataframe tbody tr th:only-of-type {\n",
       "        vertical-align: middle;\n",
       "    }\n",
       "\n",
       "    .dataframe tbody tr th {\n",
       "        vertical-align: top;\n",
       "    }\n",
       "\n",
       "    .dataframe thead th {\n",
       "        text-align: right;\n",
       "    }\n",
       "</style>\n",
       "<table border=\"1\" class=\"dataframe\">\n",
       "  <thead>\n",
       "    <tr style=\"text-align: right;\">\n",
       "      <th></th>\n",
       "      <th>Year</th>\n",
       "      <th>Month</th>\n",
       "      <th>Day</th>\n",
       "      <th>SL</th>\n",
       "    </tr>\n",
       "  </thead>\n",
       "  <tbody>\n",
       "    <tr>\n",
       "      <th>29</th>\n",
       "      <td>1920</td>\n",
       "      <td>7</td>\n",
       "      <td>1</td>\n",
       "      <td>1668.0</td>\n",
       "    </tr>\n",
       "    <tr>\n",
       "      <th>60</th>\n",
       "      <td>1920</td>\n",
       "      <td>8</td>\n",
       "      <td>1</td>\n",
       "      <td>1635.0</td>\n",
       "    </tr>\n",
       "    <tr>\n",
       "      <th>91</th>\n",
       "      <td>1920</td>\n",
       "      <td>9</td>\n",
       "      <td>1</td>\n",
       "      <td>1638.0</td>\n",
       "    </tr>\n",
       "    <tr>\n",
       "      <th>121</th>\n",
       "      <td>1920</td>\n",
       "      <td>10</td>\n",
       "      <td>1</td>\n",
       "      <td>1826.0</td>\n",
       "    </tr>\n",
       "    <tr>\n",
       "      <th>152</th>\n",
       "      <td>1920</td>\n",
       "      <td>11</td>\n",
       "      <td>1</td>\n",
       "      <td>1520.0</td>\n",
       "    </tr>\n",
       "    <tr>\n",
       "      <th>182</th>\n",
       "      <td>1920</td>\n",
       "      <td>12</td>\n",
       "      <td>1</td>\n",
       "      <td>1708.0</td>\n",
       "    </tr>\n",
       "    <tr>\n",
       "      <th>213</th>\n",
       "      <td>1921</td>\n",
       "      <td>1</td>\n",
       "      <td>1</td>\n",
       "      <td>1681.0</td>\n",
       "    </tr>\n",
       "    <tr>\n",
       "      <th>244</th>\n",
       "      <td>1921</td>\n",
       "      <td>2</td>\n",
       "      <td>1</td>\n",
       "      <td>1621.0</td>\n",
       "    </tr>\n",
       "    <tr>\n",
       "      <th>272</th>\n",
       "      <td>1921</td>\n",
       "      <td>3</td>\n",
       "      <td>1</td>\n",
       "      <td>1583.0</td>\n",
       "    </tr>\n",
       "    <tr>\n",
       "      <th>303</th>\n",
       "      <td>1921</td>\n",
       "      <td>4</td>\n",
       "      <td>1</td>\n",
       "      <td>1598.0</td>\n",
       "    </tr>\n",
       "    <tr>\n",
       "      <th>333</th>\n",
       "      <td>1921</td>\n",
       "      <td>5</td>\n",
       "      <td>1</td>\n",
       "      <td>1879.0</td>\n",
       "    </tr>\n",
       "    <tr>\n",
       "      <th>364</th>\n",
       "      <td>1921</td>\n",
       "      <td>6</td>\n",
       "      <td>1</td>\n",
       "      <td>1612.0</td>\n",
       "    </tr>\n",
       "    <tr>\n",
       "      <th>394</th>\n",
       "      <td>1921</td>\n",
       "      <td>7</td>\n",
       "      <td>1</td>\n",
       "      <td>1742.0</td>\n",
       "    </tr>\n",
       "    <tr>\n",
       "      <th>425</th>\n",
       "      <td>1921</td>\n",
       "      <td>8</td>\n",
       "      <td>1</td>\n",
       "      <td>1579.0</td>\n",
       "    </tr>\n",
       "    <tr>\n",
       "      <th>456</th>\n",
       "      <td>1921</td>\n",
       "      <td>9</td>\n",
       "      <td>1</td>\n",
       "      <td>1701.0</td>\n",
       "    </tr>\n",
       "    <tr>\n",
       "      <th>486</th>\n",
       "      <td>1921</td>\n",
       "      <td>10</td>\n",
       "      <td>1</td>\n",
       "      <td>1581.0</td>\n",
       "    </tr>\n",
       "    <tr>\n",
       "      <th>517</th>\n",
       "      <td>1921</td>\n",
       "      <td>11</td>\n",
       "      <td>1</td>\n",
       "      <td>1882.0</td>\n",
       "    </tr>\n",
       "    <tr>\n",
       "      <th>2373</th>\n",
       "      <td>1926</td>\n",
       "      <td>12</td>\n",
       "      <td>1</td>\n",
       "      <td>1533.0</td>\n",
       "    </tr>\n",
       "    <tr>\n",
       "      <th>2404</th>\n",
       "      <td>1927</td>\n",
       "      <td>1</td>\n",
       "      <td>1</td>\n",
       "      <td>1564.0</td>\n",
       "    </tr>\n",
       "    <tr>\n",
       "      <th>2435</th>\n",
       "      <td>1927</td>\n",
       "      <td>2</td>\n",
       "      <td>1</td>\n",
       "      <td>1204.0</td>\n",
       "    </tr>\n",
       "  </tbody>\n",
       "</table>\n",
       "</div>"
      ],
      "text/plain": [
       "      Year  Month  Day      SL\n",
       "29    1920      7    1  1668.0\n",
       "60    1920      8    1  1635.0\n",
       "91    1920      9    1  1638.0\n",
       "121   1920     10    1  1826.0\n",
       "152   1920     11    1  1520.0\n",
       "182   1920     12    1  1708.0\n",
       "213   1921      1    1  1681.0\n",
       "244   1921      2    1  1621.0\n",
       "272   1921      3    1  1583.0\n",
       "303   1921      4    1  1598.0\n",
       "333   1921      5    1  1879.0\n",
       "364   1921      6    1  1612.0\n",
       "394   1921      7    1  1742.0\n",
       "425   1921      8    1  1579.0\n",
       "456   1921      9    1  1701.0\n",
       "486   1921     10    1  1581.0\n",
       "517   1921     11    1  1882.0\n",
       "2373  1926     12    1  1533.0\n",
       "2404  1927      1    1  1564.0\n",
       "2435  1927      2    1  1204.0"
      ]
     },
     "execution_count": 156,
     "metadata": {},
     "output_type": "execute_result"
    }
   ],
   "source": [
    "def clean_data(df):\n",
    "    \n",
    "    # your code goes here!\n",
    "    dfClean = dfSL.copy()\n",
    "    \n",
    "    fillVal = dfClean.loc[dfClean[\"SL\"] < -5000, \"SL\"].median()\n",
    "    \n",
    "    dfClean.loc[dfClean[\"SL\"]==fillVal, \"SL\"] = np.nan#for not a number\n",
    "    dfClean.dropna(subset=[\"SL\"], inplace=True)\n",
    "    \n",
    "    monthly = dfClean.index[dfClean[\"Day\"]==1]\n",
    "    \n",
    "    dfClean = dfClean.loc[monthly, :]\n",
    "\n",
    "\n",
    "    \n",
    "    return dfClean\n",
    "\n",
    "dfClean = clean_data(dfSL)\n",
    "dfClean.head(20)"
   ]
  },
  {
   "cell_type": "code",
   "execution_count": 157,
   "metadata": {},
   "outputs": [
    {
     "data": {
      "text/plain": [
       "1001"
      ]
     },
     "execution_count": 157,
     "metadata": {},
     "output_type": "execute_result"
    }
   ],
   "source": [
    "len(dfClean)"
   ]
  },
  {
   "cell_type": "markdown",
   "metadata": {},
   "source": [
    "**Part B:**  Plot the cleaned time series of sea levels. Be sure to label your axes, including units. The UHSLC data portal includes a link to the metadata accompanying our data set; if you are not sure about units, that would be a good place to start looking. For the $x$-axis, place the $x$ tick marks on January 1 of each year that is divisible by 10 (i.e., 1920, 1930, ...), and label with that year. You may need to do additional processing in order to grab these indices. \n"
   ]
  },
  {
   "cell_type": "code",
   "execution_count": 160,
   "metadata": {},
   "outputs": [
    {
     "data": {
      "text/plain": [
       "Text(0, 0.5, 'Sea level (mm)')"
      ]
     },
     "execution_count": 160,
     "metadata": {},
     "output_type": "execute_result"
    },
    {
     "data": {
      "image/png": "[encoded data removed]",
      "text/plain": [
       "<Figure size 432x288 with 1 Axes>"
      ]
     },
     "metadata": {
      "needs_background": "light"
     },
     "output_type": "display_data"
    }
   ],
   "source": [
    "#create ticks\n",
    "tks = dfClean.index[(dfClean[\"Day\"]==1) & (dfClean[\"Month\"]==1) & (dfClean[\"Year\"]%10==0)]\n",
    "\n",
    "#create figure\n",
    "fig, ax = plt.subplots()\n",
    "dfClean[\"SL\"].plot()\n",
    "ax.set_xticklabels(dfClean.loc[tks, \"Year\"])\n",
    "plt.xlabel('Year')\n",
    "plt.ylabel('Sea level (mm)')"
   ]
  },
  {
   "cell_type": "markdown",
   "metadata": {},
   "source": [
    "**Part C:** Use your cleaned sea levels data frame to create two new Pandas data frames or series:\n",
    "1. one object to contain the sea levels between (and including) the years 1986 and 1995, and\n",
    "2. another object to contain the sea levels between (and including) the years 2006 and 2015.\n",
    "\n",
    "Then, create a single-panel figure that includes density histograms of each of the two decades of sea levels. Be sure to label everything appropriately.\n",
    "\n",
    "Finally, based on the data in front of you, formulate and state a hypothesis about how the mean sea level in the decade 2006-2015 compares to the mean sea level in the decade 1986-1995."
   ]
  },
  {
   "cell_type": "code",
   "execution_count": 161,
   "metadata": {},
   "outputs": [
    {
     "data": {
      "image/png": "[encoded data removed]",
      "text/plain": [
       "<Figure size 432x288 with 1 Axes>"
      ]
     },
     "metadata": {
      "needs_background": "light"
     },
     "output_type": "display_data"
    }
   ],
   "source": [
    "#create vars for boomer levels\n",
    "bl = dfClean.copy()\n",
    "bL = bl.loc[(bl[\"Year\"] >= 1986) & (bl[\"Year\"] <= 1995), \"SL\"]\n",
    "\n",
    "#create vars from zoomer levels\n",
    "zl = dfClean.copy()\n",
    "zL = zl.loc[(zl[\"Year\"] >= 2006) & (zl[\"Year\"] <= 2015), \"SL\"]\n",
    "\n",
    "\n",
    "#create plot \n",
    "ax = plt.hist(bL, alpha=0.69, label=\"'86-'95\", density=True, color = \"black\")\n",
    "plt.hist(zL, alpha=0.69, label=\"'06-'15\", density=True, color = \"green\")\n",
    "\n",
    "#label axis\n",
    "plt.xlabel('Sea level (mm)')\n",
    "plt.ylabel('Density')\n",
    "\n",
    "#showplot and legend\n",
    "plt.legend()\n",
    "plt.show()"
   ]
  },
  {
   "cell_type": "markdown",
   "metadata": {},
   "source": [
    "From the histograms, we can sea (pun intended, *see*) that the mean sea levels from 1986-1995 are lower than those of 2006-2015"
   ]
  },
  {
   "cell_type": "markdown",
   "metadata": {},
   "source": [
    "**Part D:** Compute a 99.9% confidence interval for each of (1) the mean sea level in the 1986-1995 decade ($\\mu_{1986-1995}$) and (2) the mean sea level in the 2006-2015 decade ($\\mu_{2006-2015}$).  You may use Python for arithmetic operations and executing the calculations, but the relevant steps/set-up should be displayed in Markdown/MathJax.\n",
    "\n",
    "Based on these two confidence intervals, do you think there is sufficient evidence to conclude that there is or is not a significant difference in the mean sea level between 1986-1995 and 2006-2015? Justify your answer. "
   ]
  },
  {
   "cell_type": "code",
   "execution_count": 113,
   "metadata": {},
   "outputs": [
    {
     "name": "stdout",
     "output_type": "stream",
     "text": [
      "The Confidence Interval for 1985-1995:\n",
      "( 1698.2952614422138 , 1794.354089207137 )\n",
      "\n",
      "The Confidence Interval for 2006-2015:\n",
      "( 1827.816686743682 , 1916.3999799229846 )\n"
     ]
    }
   ],
   "source": [
    "#find norm.ppf\n",
    "snP = stats.norm.ppf(1-.001/2)\n",
    "\n",
    "#-------This is for the boomer leverls------------\n",
    "#find standard error\n",
    "Error = bL.std(ddof=1)/np.sqrt(bL.count())\n",
    "#get the mean from the bL\n",
    "bLMean = bL.mean()\n",
    "#get left and right values \n",
    "ValLeft = bLMean - snP*Error\n",
    "ValRight = bLMean + snP*Error\n",
    "#print the confidence interval\n",
    "print(\"The Confidence Interval for 1985-1995:\\n(\",ValLeft, \",\",ValRight, \")\")\n",
    "\n",
    "# print(bLMean)\n",
    "# print(Error)\n",
    "# print(snP)\n",
    "print(\"\")\n",
    "#---------This is for zoomer levels---------\n",
    "#find standard error\n",
    "Error2 = zL.std(ddof=1)/np.sqrt(zL.count())\n",
    "#get the mean from the bL\n",
    "zLMean = zL.mean()\n",
    "#get left and right values \n",
    "ZValLeft = zLMean - snP*Error2\n",
    "ZValRight = zLMean + snP*Error2\n",
    "#print the confidence interval\n",
    "print(\"The Confidence Interval for 2006-2015:\\n(\",ZValLeft, \",\",ZValRight, \")\")\n",
    "\n"
   ]
  },
  {
   "cell_type": "markdown",
   "metadata": {},
   "source": [
    "As we can see, the confidence intervals do not overlap, therefore, this suggests that there is sufficient eveidece to show that there is a difference in the mean of sea levels."
   ]
  },
  {
   "cell_type": "markdown",
   "metadata": {},
   "source": [
    "**Part E:**  Compute a 99.9% confidence interval for the ***difference in mean sea level*** between the 2006-2015 and the 1986-1995 decades ($\\mu_{2006-2015} - \\mu_{1986-1995}$. Based on this, make a conclusion regarding your hypothesis from **Part C**, and compare to what your results in **Part D** implied. You may use Python for arithmetic operations and executing the calculations, but the relevant steps/set-up should be displayed in Markdown/MathJax."
   ]
  },
  {
   "cell_type": "code",
   "execution_count": 162,
   "metadata": {},
   "outputs": [
    {
     "name": "stdout",
     "output_type": "stream",
     "text": [
      "The Confidence Interval for 99.9%:\n",
      "( 60.44932893492101 , 191.11798708239496 )\n"
     ]
    }
   ],
   "source": [
    "#find the standard error\n",
    "Error3 = np.sqrt((zL.var(ddof=1)/zL.count()) + (bL.var(ddof=1)/bL.count()))\n",
    "\n",
    "#find the mean of both \n",
    "zbMean = zL.mean() -  bL.mean()\n",
    "\n",
    "#get left and right values using new mean\n",
    "zbLeft = zbMean - snP*Error3\n",
    "zbRight = zbMean + snP*Error3\n",
    "\n",
    "print(\"The Confidence Interval for 99.9%:\\n(\",zbLeft, \",\",zbRight, \")\")\n",
    "\n",
    "\n",
    "\n"
   ]
  },
  {
   "cell_type": "markdown",
   "metadata": {},
   "source": [
    "From our calculations, the CI does not cover 0, therefore, we can see that there is a difference in the mean sea levels"
   ]
  },
  {
   "cell_type": "markdown",
   "metadata": {},
   "source": [
    "**Part F:**  The confidence intervals from **Parts D** and **E** were derived using the Central Limit Theorem.  Which assumption of the Central Limit Theorem would likely be violated if we took more than one measurement per month to form our samples, and why?"
   ]
  },
  {
   "cell_type": "markdown",
   "metadata": {},
   "source": [
    "Because tides happen roughly every month, multiple measurements are taken during that month, which would result in the data to not be independent, and that isn't allowed to be able to calculate the confidence interval."
   ]
  },
  {
   "cell_type": "markdown",
   "metadata": {},
   "source": [
    "---\n",
    "\n",
    "<a id='p2'></a>\n",
    "[Back to top](#top)\n",
    "\n",
    "### [25 points] Problem 2 - Waiting for the Bus\n",
    "\n",
    "You are waiting for the bus, and are rather impatient.\n",
    "Your friend tells you that busses arrive according to an exponential distribution with parameter $\\lambda=1/10$ (busses/min) for a *mean* waiting time of 10 minutes.  You've been waiting for a while, and want to prove their hypothesis wrong: you're thinking the wait is longer than that (one-tailed).\n",
    "\t\t\n",
    "(Note: You may use the approximation $e^3\\approx20$ when applicable on this problem.  You may do calculations in Python if you wish, but all exposition should be in markdown.)\n",
    "\n",
    "**Part A:** State the null and alternative hypotheses being tested."
   ]
  },
  {
   "cell_type": "markdown",
   "metadata": {},
   "source": [
    "- Null Hypothesis is: \n",
    "    - $H_0: \\mu = 10$ \n",
    "- Alternate Hypothesis: \n",
    "    - $H_0: \\mu > 10$"
   ]
  },
  {
   "cell_type": "markdown",
   "metadata": {},
   "source": [
    "**Part B:** Devise a test of the form \"reject if $X>c$\" where $c$ is how long you have to wait until the bus arrives.  Use a significance of $\\alpha= .05$.  How long do you wait before you reject the null hypothesis with a probability of type I error of 5%?"
   ]
  },
  {
   "cell_type": "markdown",
   "metadata": {},
   "source": [
    "- We start with our equation: \n",
    "    - $\\alpha = 1 - \\int_{0}^{c}\\lambda e^{-\\lambda * x}dx$\n",
    "- Next, we plug in our values:\n",
    "    - $.05 = 1 - \\int_{0}^{c}.1 e^{-.1 * x}dx $\n",
    "    - Take the integral of equation:\n",
    "        - $.05 = 1 - (-e^{-.1*x})|_{0}^{c}$\n",
    "- From the integral, we solve for $c$\n",
    "    - $.05 = 1 + e^{-.1c} - e^{0}$\n",
    "    - $ln(.05) = -.1c$\n",
    "    - $\\frac{ln(.05)}{-.1} = c$\n",
    "- We have to wait 29.957, before we reject the null hypothesis with a probability of type I error of 5%\n",
    "\n"
   ]
  },
  {
   "cell_type": "markdown",
   "metadata": {},
   "source": [
    "**Part C:** What is the power of your test if the true rate is $\\lambda=1/60$?  (NB: **Power** is defined as the complement of making a Type II Error: it's the rate at which you correctly reject a false null hypothesis)"
   ]
  },
  {
   "cell_type": "markdown",
   "metadata": {},
   "source": [
    "To find the power of our test, we use the above equation. This time when we integrate, we don't need to solve for any variable, instead we will intgrate and solve to get a set value.\n",
    "- Equation: \n",
    "    - $1 - \\int_{0}^{c}\\lambda e^{-\\lambda * x}dx $\n",
    "- Plug in values:\n",
    "    - $1 - \\int_{0}^{29.957}\\frac{1}{60} e^{-\\frac{1}{60} * x}dx$\n",
    "- Integrate:\n",
    "    - $1 - (-e^{-\\frac{1}{60}*x})|_{0}^{29.957} $\n",
    "- Solve:\n",
    "    - $1 + e^{-\\frac{1}{60}*29.957} - e^{0} $\n",
    "    - $e^{-\\frac{1}{60}*29.957} $\n",
    "- Answer\n",
    "    - $ e^{-.499} = .606$\n",
    "    The power of our test is .606 when our true rate is $\\lambda=1/60$"
   ]
  },
  {
   "cell_type": "markdown",
   "metadata": {},
   "source": [
    "**Part D:** It turns out neither the null nor alternative are correct!  The *true* distribution of busses was a continuous uniform distribution with pdf\n",
    "$$f(x)=\\begin{cases}\n",
    "\t\t\\frac{1}{60} & 0<x<60 \\, min\\\\\n",
    "\t\t0 & else\n",
    "\t\t\\end{cases}$$\n",
    "\t\t\n",
    "What is the probability that you reject the null hypothesis?  What's different about this and how we've been discussing power/Type II error rates?"
   ]
  },
  {
   "cell_type": "markdown",
   "metadata": {},
   "source": [
    "Based on our calculations, our value c is approx. 30, so the probability that we reject our null hypothesis is 50%"
   ]
  },
  {
   "cell_type": "markdown",
   "metadata": {},
   "source": [
    "---\n",
    "\n",
    "<a id='p3'></a>\n",
    "[Back to top](#top)\n",
    "\n",
    "### [30 points] Problem 3 - Exploring Confidence Intervals \n",
    "\n",
    "The [Gumbel](https://en.wikipedia.org/wiki/Gumbel_distribution) distribution is one of several distributions frequently used to model environmental extremes (for example, extreme temperatures and sea levels).  It is also fairly asymmetric, and thus interesting for investigating confidence intervals.  It is implemented in scipy.stats as [gumbel_r](https://docs.scipy.org/doc/scipy/reference/generated/scipy.stats.gumbel_r.html), where the appendix \"\\_r\" denotes the right-skewed version of the Gumbel distribution (as opposed to the left-skewed)."
   ]
  },
  {
   "cell_type": "markdown",
   "metadata": {},
   "source": [
    "**Part A**: Complete the following code cell to plot a histogram of 100 realizations from the Gumbel distribution with parameters $\\mu=12$ and $\\beta=2$.  Be sure to leave this cell executed before turning in your assignment! Make your histogram grey with gold edges."
   ]
  },
  {
   "cell_type": "code",
   "execution_count": 62,
   "metadata": {},
   "outputs": [
    {
     "data": {
      "image/png": "[encoded data removed]",
      "text/plain": [
       "<Figure size 864x576 with 1 Axes>"
      ]
     },
     "metadata": {
      "needs_background": "light"
     },
     "output_type": "display_data"
    }
   ],
   "source": [
    "mu = 12\n",
    "beta = 3\n",
    "n_sample = 100\n",
    "x = stats.gumbel_r.rvs(loc=mu, scale=beta, size=n_sample)\n",
    "\n",
    "fig, ax = plt.subplots(nrows=1, ncols=1, figsize=(12,8))\n",
    "plt.hist(x, color=\"grey\",edgecolor=\"gold\", bins=20, density=True)\n",
    "ax.grid(alpha=0.25)\n",
    "ax.set_axisbelow(True)\n",
    "ax.set_xlabel('X')\n",
    "ax.set_ylabel('Density')\n",
    "ax.set_title(r'Gumbel($\\mu=${}, $\\beta=${})'.format(mu,beta))\n",
    "plt.xlim([0,35])\n",
    "plt.show()"
   ]
  },
  {
   "cell_type": "markdown",
   "metadata": {},
   "source": [
    "**Part B:** Look up the analytical mean and variance of the Gumbel distribution with parameters $\\mu=12$ and $\\beta=3$ and calculate them here by hand.  Note that the Euler–Mascheroni constant can be accessed via `np.euler_gamma`. \n",
    "\n",
    "Use the empirical mean from your sample in **Part A**, and the true variance of the Gumbel distribution to compute by hand a 99% confidence interval for the mean."
   ]
  },
  {
   "cell_type": "code",
   "execution_count": 2,
   "metadata": {},
   "outputs": [
    {
     "name": "stdout",
     "output_type": "stream",
     "text": [
      "The Euler–Mascheroni constant is: 0.5772156649015329\n",
      "The mean is: 13.7316469947046\n",
      "The variance is: 14.804406601634037\n"
     ]
    }
   ],
   "source": [
    "print(\"The Euler–Mascheroni constant is:\", np.euler_gamma)\n",
    "#mean\n",
    "print(\"The mean is:\", 12 + 3*np.euler_gamma)\n",
    "#variance\n",
    "print(\"The variance is:\", (np.pi**2)/6 * 3**2)"
   ]
  },
  {
   "cell_type": "markdown",
   "metadata": {},
   "source": [
    "- To calculate by hand, we use the equation: \n",
    "    - $\\mu + \\beta * y$\n",
    "\n",
    "- Now we plug in the values:\n",
    "    - $12 + 3 * 0.5772 = 13.731$\n",
    "- To calculate our variance, we use the formula:\n",
    "    - $Variance = \\frac{\\pi^2}{6}*\\beta^2$, plug in the values.\n",
    "    - We get: $Variance = \\frac{\\pi^2}{6}*3 = 14.804$\n",
    "- Now that we have our critical values, we can use this to calculate the 99% confidence interval: \n",
    "    - We use the equation:\n",
    "        - $\\bar{X} \\pm z_{0.01/2} \\sqrt{\\dfrac{\\textrm{Var}(X)}{n}}$\n",
    "    - Since we have most of our values, we can plug in the values:\n",
    "        -   $CI = [13.731 - 2.5758\\sqrt{\\dfrac{14.804}{100}}, ~~ 13.731+2.5758\\sqrt{\\dfrac{14.804}{100}}]$\n",
    "        - Which gives us:\n",
    "            - [12.7399, 14.722]\n",
    "        "
   ]
  },
  {
   "cell_type": "markdown",
   "metadata": {},
   "source": [
    "**Part C:  A theoretical interlude.** When Stella O'Flaherty (the famous octopus) ran her solution code for **Part B**, she obtained a 99% confidence interval of $[12.73,  14.72]$ for the mean of the $Gum(\\mu=12, \\beta=3)$ distribution. For each of the following, explain why or why not the situation described is correct, given the technical definition of a 99% confidence interval we went over in class.\n",
    "\n",
    "**(i)** If you had no other evidence regarding true mean of the $Gum(\\mu=12, \\beta=3)$ distribution, you could say there is a 99% chance that its true mean falls between 12.73 and 14.72.\n",
    "\n",
    "**(ii)** If a class of 100 students all construct 99% confidence intervals for the mean of the $Gum(\\mu=12, \\beta=3)$ distribution, then we expect about 99 of their CIs to contain the true mean, and about 1 of them to miss the true mean.\n",
    "\n",
    "**(iii)** There is a 99% probability that any given random variable sampled from $Gum(\\mu=12, \\beta=3)$ will be between 12.73 and 14.72."
   ]
  },
  {
   "cell_type": "markdown",
   "metadata": {},
   "source": [
    "**(i)** This is $FALSE$ because this would suggest that somehting about the Confidence Interval is valuable at a certain interval, and that is not the case. It is not true.\n",
    "\n",
    "\n",
    "**(ii)** This is $TRUE$ because since this is the definition of a Confidence Interval, this means that 99% of the time, the mean will be captured.\n",
    "\n",
    "\n",
    "**(iii)** This is $FALSE$ because a confidence interval sample is used to get the mean of a distribution not any given random variable.\n"
   ]
  },
  {
   "cell_type": "markdown",
   "metadata": {},
   "source": [
    "**Part D:** In this part you'll write a function to investigate the _coverage properties_ of a confidence interval for the mean of the Gumbel distribution. Complete the following function to randomly sample $m=500$ sample means with sample size $n=100$ for the Gumbel distribution with parameters $\\mu=12$ and $\\beta=3$.  For each random sample, compute the 75% confidence interval for the mean. Note that you actually know that the variance for the true population distribution is, $\\sigma^2$.  Your function should do two things: \n",
    "\n",
    "1. Report the proportion of confidence intervals that successfully cover the true mean of the distribution \n",
    "2. Make a plot of 50 randomly selected confidence intervals. Overlay the intervals on the line $y=\\textrm{True mean}$ (from **Part B**). Color confidence intervals black if they cover the true mean, and red if they don't.  \n",
    "\n",
    "Be sure to leave this cell executed before turning in your assignment!"
   ]
  },
  {
   "cell_type": "code",
   "execution_count": 11,
   "metadata": {},
   "outputs": [
    {
     "name": "stdout",
     "output_type": "stream",
     "text": [
      "The proportion of CI covering the true mean is:\n",
      "0.752\n"
     ]
    },
    {
     "data": {
      "image/png": "[encoded data removed]",
      "text/plain": [
       "<Figure size 1080x432 with 1 Axes>"
      ]
     },
     "metadata": {
      "needs_background": "light"
     },
     "output_type": "display_data"
    }
   ],
   "source": [
    "def confidence_intervals(m=500, n=100):\n",
    "    #Your code here\n",
    "    mu = 12\n",
    "    beta = 3\n",
    "    AM = 12 + 3 * np.euler_gamma #calc Analytical Mean\n",
    "    Variance = (np.pi * 3) ** 2/6 #calc Var\n",
    "    #calc CI\n",
    "    ci = np.zeros((m, 2))\n",
    "    #calc our criticalZ\n",
    "    zc = stats.norm.ppf(1 - (1 - 0.75)/2)\n",
    "    #calc our S\n",
    "    s = np.sqrt(Variance/n)\n",
    "    #counter to help\n",
    "    cntr = 0\n",
    "    #for loop sample of size m\n",
    "    for i in range(m):\n",
    "        #calc gumbel distribution\n",
    "        gummy = stats.gumbel_r.rvs(loc=12, scale=3, size=n)\n",
    "        \n",
    "        #calc Xbar\n",
    "        X_ = np.mean(gummy)\n",
    "        \n",
    "        #calc left, calc right\n",
    "        left =  X_ - zc * s\n",
    "        right = X_ + zc * s\n",
    "        \n",
    "        #add values to CI\n",
    "        ci[i, 0] = left\n",
    "        ci[i, 1] = right\n",
    "        #counter statement\n",
    "#         if(left <= AM) and (AM <= right):\n",
    "#             cntr = cntr + 1\n",
    "#         else: 0\n",
    "        cntr += 1 if (left <= AM) and (AM <= right) else 0 \n",
    "        \n",
    "    #plot graph\n",
    "    fig, ax = plt.subplots(nrows=1, ncols=1, figsize=(15,6))\n",
    "    #for loop for the CI\n",
    "    for i, row in enumerate(np.random.choice(range(m), size=50, replace=False)):\n",
    "        left, right = ci[row,:]\n",
    "        if (left <= AM) and (AM <= right):\n",
    "            color = \"black\" \n",
    "        else:\n",
    "            color = \"red\" \n",
    "        plt.plot([i+1, i+1], [right, left], color=color)\n",
    "    plt.plot([0, 51], [AM, AM], color=\"green\", ls=\"--\")\n",
    "    print(\"The proportion of CI covering the true mean is:\")\n",
    "    print(cntr/m)\n",
    "    \n",
    "confidence_intervals()"
   ]
  },
  {
   "cell_type": "markdown",
   "metadata": {},
   "source": [
    "**Part E:** Does the proportion of confidence intervals that cover the true mean of the distribution agree with the theory described in class?  Justify your conclusion. "
   ]
  },
  {
   "cell_type": "markdown",
   "metadata": {},
   "source": [
    "In class we said that a $\\textbf{75%}$ confidence interval should cover the true mean of the population $\\textbf{75%}$. So therefore, our calculations do agree with the theory in class. But, when $m = 500$, $\\textbf{75%}$ of the confidence intervals, the mean was covered $\\textbf{< 75%}$ of the time"
   ]
  },
  {
   "cell_type": "markdown",
   "metadata": {},
   "source": [
    "---\n",
    "\n",
    "<a id='p4'></a>\n",
    "[Back to top](#top)\n",
    "\n",
    "### [15 points] Problem 4 - Freethrow Throwbacks\n",
    "***\n",
    "\n",
    "Keep your skills sharp by answering these straightforward questions."
   ]
  },
  {
   "cell_type": "markdown",
   "metadata": {},
   "source": [
    "**Part A**: <font color='green'>Your Michael Jordan in his prime...It's the sixth game of the 1998 NBA Finals and Byron Russel fouls you, but when you step up to take the freethrow, your transported to a CSCI 3022 classroom. Solve the following to \"make\" the freethrow:</font>\n",
    "\n",
    "You have a shuffled deck of cards. It includes the usual 52 cards and 2 Jokers. You flip over the cards one by one, without replacing them in the deck. You count how many cards you'll have to flip until you flip four of the following five cards: the six of hearts, the eight of diamonds, the king of clubs, and both of the jokers.  You repeat this many times. \n",
    "\n",
    "Simulate this process at least 25000 times. Plot a histogram with binsize=1 of the outcomes, in lightgrey with white outline. Compute the mean, median, and mode for this dataset, indicate them on the plot using a line, with linstyles of green dashed, red dotted, and black solid, respectively. Use a legend to label your histogram (of the distribution of flips), mean, median. Does this data look positively or negatively skewed? Explain below in a markdown cell, talk about the mean, median, and the shape of the histogram in your answer."
   ]
  },
  {
   "cell_type": "code",
   "execution_count": 152,
   "metadata": {},
   "outputs": [
    {
     "name": "stdout",
     "output_type": "stream",
     "text": [
      "Mean: 36.69464 \n",
      "Median: 38.0 \n",
      "Mode 39\n"
     ]
    },
    {
     "data": {
      "image/png": "[encoded data removed]",
      "text/plain": [
       "<Figure size 432x288 with 1 Axes>"
      ]
     },
     "metadata": {
      "needs_background": "light"
     },
     "output_type": "display_data"
    }
   ],
   "source": [
    "def cardDeck():\n",
    "    deck = [0,0,0,0,0,0,0,0,0,0,\n",
    "        0,0,0,0,0,0,0,0,0,0,\n",
    "        0,0,0,0,0,0,0,0,0,0,\n",
    "        0,0,0,0,0,0,0,0,0,0,\n",
    "        0,0,0,0,0,0,0,0,0,\n",
    "        1, 1, 1, 1, 1]\n",
    "    return deck\n",
    "Deck = []\n",
    "array = []\n",
    "for i in range(25000): #create simulation\n",
    "    deck = cardDeck()\n",
    "    count = 0\n",
    "    boolean = 0\n",
    "    np.random.shuffle(deck)\n",
    "    while boolean < 4:\n",
    "        card = deck.pop()\n",
    "        count += 1\n",
    "        if card == 1:\n",
    "            boolean = boolean + 1\n",
    "    Deck.append(count)\n",
    "\n",
    "print(\"Mean:\", np.mean(Deck),\"\\nMedian:\",np.median(Deck) , \"\\nMode\", mode)\n",
    "#plot simluation data\n",
    "my_bins = range(0 , 54, 1)\n",
    "plt.hist(data, bins = my_bins, color = \"lightgray\", edgecolor = \"white\", label = \"Number of Flips\")\n",
    "#plot values\n",
    "plt.axvline(x=np.mean(Deck), color = 'g', linestyle = '--', label = \"Mean\")\n",
    "plt.axvline(x=np.median(Deck), color = 'r', linestyle = ':', label = \"Median\")\n",
    "plt.axvline(x=mode, color = 'black', label = \"Mode\")\n",
    "#plot axis\n",
    "plt.xlabel('# of cards until 4 of the required cards are seen')\n",
    "plt.ylabel('Count')\n",
    "#print out ploat\n",
    "plt.legend()\n",
    "plt.show()\n"
   ]
  },
  {
   "cell_type": "markdown",
   "metadata": {},
   "source": [
    "The data appears to be negatively skewed because we can see that is much more dense to the right. This is also shown by the mode being to the far right, where the median is close behind, and then the mean coming in last. All this indicates a negatively skewed histogram."
   ]
  },
  {
   "cell_type": "markdown",
   "metadata": {},
   "source": [
    "***\n",
    "\n",
    "**Part B**: <font color='green'> Now you're back up for another freethrow, but this time you've been transported to the third overtime of the famous [1976 NBA Finals Game Five](https://www.youtube.com/watch?v=3ZjNDvuMxzc). You line up for a freethrow, but oddly enough you're again transported back to CSCI 3022... Why does this keep happening? If you solve this problem, you make the freethrow:</font>\n",
    "\n",
    "In general, which is wider: a 95% confidence interval or a 99% confidence interval? How would you explain this to your younger sibling, who is not a statistician?"
   ]
  },
  {
   "cell_type": "markdown",
   "metadata": {},
   "source": [
    "In general a 99% confidence interval is wider than a 95% confience interval. Why? Lets say you have a plant that, if you water it gets bigger and bigger. Same thing with the width confidence interval. It will get wider (increase), as it goes from 95% - 99%. However, a confidence interval of 95% still says that we cover alot of the data (95%), but because 99% is bigger, it covers more, and therefor is wider."
   ]
  },
  {
   "cell_type": "markdown",
   "metadata": {
    "collapsed": true
   },
   "source": [
    "***\n",
    "\n",
    "**Part C**: <font color='green'>The crowd is silent... Because there is no crowd... And it's not a basketball game...  You're Will Smith and it's 1998. You've got an important decision to make: You've been offered the lead role in both a sci-fi flick and a steampunk western action comedy. If you make this \"freethrow\", Will Smith takes the sci-fi role and stars in \"The Matrix\" as Neo. If you fail to solve this question, Will Smith makes the blunder of turning down the \"Matrix\" to appear in \"Wild Wild West\" and history remains unchanged.\n",
    "</font>\n",
    "\n",
    "Let $X$ be a normally-distributed random variable. You draw from it and get these values, stored in the numpy array **smith**, below. These represent the probabilities of him taking the role in the matrix, calculated by differant \"statistical measures\". Compute a 95% confidence interval for the _variance_.\n"
   ]
  },
  {
   "cell_type": "code",
   "execution_count": 21,
   "metadata": {},
   "outputs": [],
   "source": [
    "smith = np.array([0.67832,0.113,0.423,0.279,0.580,0.401,0.189, 0.198, 0.147, 0.103, 0.098])"
   ]
  },
  {
   "cell_type": "code",
   "execution_count": 89,
   "metadata": {},
   "outputs": [
    {
     "name": "stdout",
     "output_type": "stream",
     "text": [
      "Mean: 0.29175636363636365\n",
      "New Array: [0.14943144 0.03195384 0.01722489 0.00016272 0.08308439 0.01193417\n",
      " 0.01055887 0.00879026 0.0209544  0.03562896 0.03754153]\n",
      "Addition of All elements - mean: 0.4072654894545455\n",
      "Variance: 0.04072654894545455\n",
      "Confidence interval is:\n",
      " [ 0.019882925509039362 , 0.12542928968589587 ]\n"
     ]
    }
   ],
   "source": [
    "meanSmith = np.mean(smith)\n",
    "newSmith = (smith - meanSmith)**2\n",
    "\n",
    "add = np.sum(newSmith)\n",
    "\n",
    "Var = add/(len(smith) - 1)\n",
    "\n",
    "left = ((len(smith)-1) * Var / stats.chi2.ppf(1-.05/2, (len(smith)-1)))\n",
    "right = ((len(smith)-1) * Var / stats.chi2.ppf(.05/2, (len(smith)-1)))\n",
    "\n",
    "print(\"Mean:\", meanSmith)\n",
    "print(\"New Array:\",newSmith)\n",
    "print(\"Addition of All elements - mean:\",add)\n",
    "print(\"Variance:\",Var)\n",
    "print(\"Confidence interval is:\\n [\", left, \",\", right, \"]\")"
   ]
  },
  {
   "cell_type": "markdown",
   "metadata": {},
   "source": [
    "First we get the Sample Variance. \n",
    "\n",
    "1. Start off by squaring all the values in the array and adding them together. \n",
    "    - We get: 1.3436050224\n",
    "2. Next we divide our sum by the length of the array - 1.\n",
    "    - We get: 0.0407\n",
    "    \n",
    "Next we use the sample variance to calculate the 95% confidence interval\n",
    "3. We need to calculate the critical values for $\\alpha$ = 0.05 and our data frame (df)= 10 degrees of freedom\n",
    "    - To do we use $X^{2}_L = X^{2}_\\frac{1-\\alpha * (n-1)}{2}$ and $X^{2}_U = X^{2}_\\frac{\\alpha * (n-1)}{2}$. Plugging in our values, we get: $X^{2}_L = 3.247$ and $X^{2}_U = 20.4832$\n",
    "4. After find ou critical values, we can now find our CI(Variance):\n",
    "    - We do this by: $(\\frac{11-1(s^2)}{X^{2}_\\frac{\\alpha * (n-1)}{2}}, \\frac{11-1(s^2)}{X^{2}_\\frac{1- \\alpha * (n-1)}{2}} )$.\n",
    "5. Our 95% confidence interval for the _variance_: \n",
    "    - CI(Variance): (0.0199, 0.1254)\n",
    "\n"
   ]
  },
  {
   "cell_type": "markdown",
   "metadata": {},
   "source": [
    "\n",
    "***\n",
    "\n",
    "**Part D**: <font color='green'>Now we're back to basketball...You're Askia Booker, former CU point guard. It's the [2013 KU game](https://www.youtube.com/watch?v=-ycTB27RlEc) and your take the ball with 2.7 seconds left. To sink the three and win the game, solve the following: </font>\n",
    "\n",
    "If you're doing quality control for the average strength of carbon fiber that will be used in airplane construction, and your alternative hypothesis is that the strength of the carbon is below tolerance, and therefore unsafe, would you rather have a low Type I error rate or a low Type II error rate? Explain.\n"
   ]
  },
  {
   "cell_type": "markdown",
   "metadata": {},
   "source": [
    "I would rather have a low Type II error because we want to be able to prove it wrong, by stating that it is false. However, given that we would want a Type II error, we would accept the given statement when testing the carbon fiber. "
   ]
  },
  {
   "cell_type": "markdown",
   "metadata": {},
   "source": [
    "\n",
    "***\n",
    "\n",
    "**Part E**: <font color='green'>Well, we haven't stopped time traveling yet.... But now we're in the soccor world. Your a striker in the [1994 Fifa World Cup Final](https://www.youtube.com/watch?v=pLPM_JSbGvI) between Brazil and Italy. Solve this problem to make a penalaty kick during the final shootout:</font>\n",
    "\n",
    "You measure 49 suckers from baby reef octopuses and find that they are, on average, 47.2 mm wide, with a standard devaition of 29.2mm. \n",
    "\n",
    "Then you measure 65 suckers from from baby dumbo octopuses and find that they are, on average, 63.9 mm wide, with a standard deviation of 19.6 mm. \n",
    "\n",
    "Is there statistical evidence at the 0.025 significance level that the true mean of baby dumbo octopus sucker width exceeds the true mean of baby reef octopus sucker width by more than 7 mm?  Use a test of your choice."
   ]
  },
  {
   "cell_type": "markdown",
   "metadata": {},
   "source": [
    "For this problem we will let baby reef octopuses = w1 and baby dumbo octopuses = w2\n",
    "\n",
    "First we want to set up our given values for w1 and w2. \n",
    "- For w1 we know:\n",
    "    - $n_{w1}$ = 49, $\\bar{x_{w1}}$ = 47.2mm, and $s_{w1}$ = 29.2mm \n",
    "- For w2 we know: \n",
    "    - $n_{w2}$ = 65, $\\bar{x_{w2}}$ = 63.9mm, and $s_{w2}$ = 19.6mm\n",
    "\n",
    "Now we want to test our hypthesis. We know our significance level is $\\alpha$ =0.025.\n",
    "- We want to test whether our hypthesis' > 7\n",
    "    - What we test is: $w2 - w1 > 7$\n",
    "- Our test is: \n",
    "\n",
    "$$t = \\frac{\\bar{x_{w2}} - \\bar{x_{w1}} - 7}{\\sqrt{\\frac{s_{w1}^2}{n_{w1}}+ \\frac{s_{w1}^2}{n_{w2}}}} = 2.01$$\n",
    "\n",
    "If we look at our P-value using our table, we can see that it is less than our $\\alpha$, we we can conclude that yes, there is statistical evidence that supoorts our hypthesis of $w2 > w1$."
   ]
  },
  {
   "cell_type": "code",
   "execution_count": null,
   "metadata": {},
   "outputs": [],
   "source": []
  }
 ],
 "metadata": {
  "kernelspec": {
   "display_name": "Python 3",
   "language": "python",
   "name": "python3"
  },
  "language_info": {
   "codemirror_mode": {
    "name": "ipython",
    "version": 3
   },
   "file_extension": ".py",
   "mimetype": "text/x-python",
   "name": "python",
   "nbconvert_exporter": "python",
   "pygments_lexer": "ipython3",
   "version": "3.7.3"
  }
 },
 "nbformat": 4,
 "nbformat_minor": 2
}
